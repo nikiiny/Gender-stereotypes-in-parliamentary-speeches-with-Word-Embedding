{
 "cells": [
  {
   "cell_type": "markdown",
   "metadata": {},
   "source": [
    "# INFORMATION RETRIEVAL PROJECT"
   ]
  },
  {
   "cell_type": "markdown",
   "metadata": {},
   "source": [
    "---\n",
    "## Gender stereotypes in parliamentary speeches\n",
    "\n",
    "In word embedding models, each word is assigned to a high-dimensional vector such that the geometry of the vectors captures semantic relations between the words – e.g. vectors being closer together has been shown to correspond to more similar words. Recent works in machine learning demonstrate that word embeddings also capture common stereotypes, as these stereotypes are likely to be present, even if subtly, in the large corpora of training texts. These stereotypes are automatically learned by the embedding algorithm and could be problematic in many context if the embedding is then used for sensitive applications such as search rankings, product recommendations, or translations. An important direction of research is on developing algorithms to debias the word embeddings.\n",
    "\n",
    "This project aims to use the word embeddings to study historical trends – specifically trends in the gender and ethnic stereotypes in the Italian parliamentary speeches from 1948 to 2020."
   ]
  },
  {
   "cell_type": "code",
   "execution_count": 5,
   "metadata": {},
   "outputs": [],
   "source": [
    "import numpy as np\n",
    "import pandas as pd\n",
    "import gensim\n",
    "from gensim.models import KeyedVectors\n",
    "from gensim.models import Word2Vec\n",
    "import os\n",
    "from tqdm.auto import tqdm\n",
    "from collections import defaultdict\n",
    "\n",
    "from INFORET_project import load_embed_model\n",
    "from INFORET_project import YEARS# INFORMATION RETRIEVAL PROJECT"
   ]
  },
  {
   "cell_type": "markdown",
   "metadata": {},
   "source": [
    "# 4. RESULT OF ANALYSIS OF GENDER STEREOTYPES BY YEARS \n",
    "### COMPARISON OF DIFFERENT METHODS\n",
    "---"
   ]
  },
  {
   "cell_type": "markdown",
   "metadata": {},
   "source": [
    "## 1) TOP 5 MOST AND LESS BIASED GROUPS \n",
    "### (ACCORDING TO ECT AND ANALOGIES BIAS)"
   ]
  },
  {
   "cell_type": "code",
   "execution_count": 3,
   "metadata": {},
   "outputs": [],
   "source": [
    "%store -r results"
   ]
  },
  {
   "cell_type": "code",
   "execution_count": 4,
   "metadata": {
    "scrolled": false
   },
   "outputs": [
    {
     "data": {
      "text/html": [
       "<div>\n",
       "<style scoped>\n",
       "    .dataframe tbody tr th:only-of-type {\n",
       "        vertical-align: middle;\n",
       "    }\n",
       "\n",
       "    .dataframe tbody tr th {\n",
       "        vertical-align: top;\n",
       "    }\n",
       "\n",
       "    .dataframe thead th {\n",
       "        text-align: right;\n",
       "    }\n",
       "</style>\n",
       "<table border=\"1\" class=\"dataframe\">\n",
       "  <thead>\n",
       "    <tr style=\"text-align: right;\">\n",
       "      <th></th>\n",
       "      <th>analogies_bias_1948_1968</th>\n",
       "      <th>analogies_bias_avg_gender_1948_1968</th>\n",
       "      <th>ECT_1948_1968</th>\n",
       "      <th>analogies_bias_1968_1985</th>\n",
       "      <th>analogies_bias_avg_gender_1968_1985</th>\n",
       "      <th>ECT_1968_1985</th>\n",
       "      <th>analogies_bias_1985_2000</th>\n",
       "      <th>analogies_bias_avg_gender_1985_2000</th>\n",
       "      <th>ECT_1985_2000</th>\n",
       "      <th>analogies_bias_2000_2020</th>\n",
       "      <th>analogies_bias_avg_gender_2000_2020</th>\n",
       "      <th>ECT_2000_2020</th>\n",
       "    </tr>\n",
       "  </thead>\n",
       "  <tbody>\n",
       "    <tr>\n",
       "      <th>0</th>\n",
       "      <td>gendered_words</td>\n",
       "      <td>gendered_words</td>\n",
       "      <td>adj_appearence</td>\n",
       "      <td>gendered_words</td>\n",
       "      <td>gendered_words</td>\n",
       "      <td>family</td>\n",
       "      <td>gendered_words</td>\n",
       "      <td>gendered_words</td>\n",
       "      <td>gendered_words</td>\n",
       "      <td>gendered_words</td>\n",
       "      <td>gendered_words</td>\n",
       "      <td>gendered_words</td>\n",
       "    </tr>\n",
       "    <tr>\n",
       "      <th>1</th>\n",
       "      <td>active</td>\n",
       "      <td>intelligence</td>\n",
       "      <td>gendered_words</td>\n",
       "      <td>active</td>\n",
       "      <td>family</td>\n",
       "      <td>active</td>\n",
       "      <td>family</td>\n",
       "      <td>family</td>\n",
       "      <td>kindness</td>\n",
       "      <td>passive</td>\n",
       "      <td>family</td>\n",
       "      <td>kindness</td>\n",
       "    </tr>\n",
       "    <tr>\n",
       "      <th>2</th>\n",
       "      <td>adj_appearence</td>\n",
       "      <td>adj_appearence</td>\n",
       "      <td>dumbness</td>\n",
       "      <td>passive</td>\n",
       "      <td>adj_appearence</td>\n",
       "      <td>female_stereotypes</td>\n",
       "      <td>passive</td>\n",
       "      <td>career</td>\n",
       "      <td>career</td>\n",
       "      <td>family</td>\n",
       "      <td>rage</td>\n",
       "      <td>passive</td>\n",
       "    </tr>\n",
       "    <tr>\n",
       "      <th>3</th>\n",
       "      <td>male_stereotypes</td>\n",
       "      <td>family</td>\n",
       "      <td>rage</td>\n",
       "      <td>kindness</td>\n",
       "      <td>dumbness</td>\n",
       "      <td>intelligence</td>\n",
       "      <td>adj_appearence</td>\n",
       "      <td>passive</td>\n",
       "      <td>female_stereotypes</td>\n",
       "      <td>rage</td>\n",
       "      <td>passive</td>\n",
       "      <td>career</td>\n",
       "    </tr>\n",
       "    <tr>\n",
       "      <th>4</th>\n",
       "      <td>kindness</td>\n",
       "      <td>career</td>\n",
       "      <td>female_stereotypes</td>\n",
       "      <td>intelligence</td>\n",
       "      <td>intelligence</td>\n",
       "      <td>passive</td>\n",
       "      <td>rage</td>\n",
       "      <td>kindness</td>\n",
       "      <td>family</td>\n",
       "      <td>intelligence</td>\n",
       "      <td>career</td>\n",
       "      <td>intelligence</td>\n",
       "    </tr>\n",
       "    <tr>\n",
       "      <th>5</th>\n",
       "      <td>passive</td>\n",
       "      <td>male_stereotypes</td>\n",
       "      <td>family</td>\n",
       "      <td>adj_appearence</td>\n",
       "      <td>female_stereotypes</td>\n",
       "      <td>adj_appearence</td>\n",
       "      <td>kindness</td>\n",
       "      <td>adj_appearence</td>\n",
       "      <td>rage</td>\n",
       "      <td>adj_appearence</td>\n",
       "      <td>dumbness</td>\n",
       "      <td>family</td>\n",
       "    </tr>\n",
       "    <tr>\n",
       "      <th>6</th>\n",
       "      <td>family</td>\n",
       "      <td>passive</td>\n",
       "      <td>career</td>\n",
       "      <td>family</td>\n",
       "      <td>kindness</td>\n",
       "      <td>career</td>\n",
       "      <td>active</td>\n",
       "      <td>female_stereotypes</td>\n",
       "      <td>intelligence</td>\n",
       "      <td>kindness</td>\n",
       "      <td>female_stereotypes</td>\n",
       "      <td>active</td>\n",
       "    </tr>\n",
       "    <tr>\n",
       "      <th>7</th>\n",
       "      <td>intelligence</td>\n",
       "      <td>female_stereotypes</td>\n",
       "      <td>passive</td>\n",
       "      <td>male_stereotypes</td>\n",
       "      <td>male_stereotypes</td>\n",
       "      <td>kindness</td>\n",
       "      <td>female_stereotypes</td>\n",
       "      <td>intelligence</td>\n",
       "      <td>adj_appearence</td>\n",
       "      <td>male_stereotypes</td>\n",
       "      <td>male_stereotypes</td>\n",
       "      <td>male_stereotypes</td>\n",
       "    </tr>\n",
       "    <tr>\n",
       "      <th>8</th>\n",
       "      <td>female_stereotypes</td>\n",
       "      <td>kindness</td>\n",
       "      <td>kindness</td>\n",
       "      <td>female_stereotypes</td>\n",
       "      <td>passive</td>\n",
       "      <td>dumbness</td>\n",
       "      <td>career</td>\n",
       "      <td>active</td>\n",
       "      <td>dumbness</td>\n",
       "      <td>active</td>\n",
       "      <td>kindness</td>\n",
       "      <td>female_stereotypes</td>\n",
       "    </tr>\n",
       "    <tr>\n",
       "      <th>9</th>\n",
       "      <td>rage</td>\n",
       "      <td>rage</td>\n",
       "      <td>intelligence</td>\n",
       "      <td>rage</td>\n",
       "      <td>career</td>\n",
       "      <td>gendered_words</td>\n",
       "      <td>male_stereotypes</td>\n",
       "      <td>dumbness</td>\n",
       "      <td>passive</td>\n",
       "      <td>female_stereotypes</td>\n",
       "      <td>intelligence</td>\n",
       "      <td>rage</td>\n",
       "    </tr>\n",
       "    <tr>\n",
       "      <th>10</th>\n",
       "      <td>dumbness</td>\n",
       "      <td>dumbness</td>\n",
       "      <td>active</td>\n",
       "      <td>career</td>\n",
       "      <td>active</td>\n",
       "      <td>rage</td>\n",
       "      <td>intelligence</td>\n",
       "      <td>rage</td>\n",
       "      <td>male_stereotypes</td>\n",
       "      <td>career</td>\n",
       "      <td>adj_appearence</td>\n",
       "      <td>adj_appearence</td>\n",
       "    </tr>\n",
       "    <tr>\n",
       "      <th>11</th>\n",
       "      <td>career</td>\n",
       "      <td>active</td>\n",
       "      <td>male_stereotypes</td>\n",
       "      <td>dumbness</td>\n",
       "      <td>rage</td>\n",
       "      <td>male_stereotypes</td>\n",
       "      <td>dumbness</td>\n",
       "      <td>male_stereotypes</td>\n",
       "      <td>active</td>\n",
       "      <td>dumbness</td>\n",
       "      <td>active</td>\n",
       "      <td>dumbness</td>\n",
       "    </tr>\n",
       "  </tbody>\n",
       "</table>\n",
       "</div>"
      ],
      "text/plain": [
       "   analogies_bias_1948_1968 analogies_bias_avg_gender_1948_1968  \\\n",
       "0            gendered_words                      gendered_words   \n",
       "1                    active                        intelligence   \n",
       "2            adj_appearence                      adj_appearence   \n",
       "3          male_stereotypes                              family   \n",
       "4                  kindness                              career   \n",
       "5                   passive                    male_stereotypes   \n",
       "6                    family                             passive   \n",
       "7              intelligence                  female_stereotypes   \n",
       "8        female_stereotypes                            kindness   \n",
       "9                      rage                                rage   \n",
       "10                 dumbness                            dumbness   \n",
       "11                   career                              active   \n",
       "\n",
       "         ECT_1948_1968 analogies_bias_1968_1985  \\\n",
       "0       adj_appearence           gendered_words   \n",
       "1       gendered_words                   active   \n",
       "2             dumbness                  passive   \n",
       "3                 rage                 kindness   \n",
       "4   female_stereotypes             intelligence   \n",
       "5               family           adj_appearence   \n",
       "6               career                   family   \n",
       "7              passive         male_stereotypes   \n",
       "8             kindness       female_stereotypes   \n",
       "9         intelligence                     rage   \n",
       "10              active                   career   \n",
       "11    male_stereotypes                 dumbness   \n",
       "\n",
       "   analogies_bias_avg_gender_1968_1985       ECT_1968_1985  \\\n",
       "0                       gendered_words              family   \n",
       "1                               family              active   \n",
       "2                       adj_appearence  female_stereotypes   \n",
       "3                             dumbness        intelligence   \n",
       "4                         intelligence             passive   \n",
       "5                   female_stereotypes      adj_appearence   \n",
       "6                             kindness              career   \n",
       "7                     male_stereotypes            kindness   \n",
       "8                              passive            dumbness   \n",
       "9                               career      gendered_words   \n",
       "10                              active                rage   \n",
       "11                                rage    male_stereotypes   \n",
       "\n",
       "   analogies_bias_1985_2000 analogies_bias_avg_gender_1985_2000  \\\n",
       "0            gendered_words                      gendered_words   \n",
       "1                    family                              family   \n",
       "2                   passive                              career   \n",
       "3            adj_appearence                             passive   \n",
       "4                      rage                            kindness   \n",
       "5                  kindness                      adj_appearence   \n",
       "6                    active                  female_stereotypes   \n",
       "7        female_stereotypes                        intelligence   \n",
       "8                    career                              active   \n",
       "9          male_stereotypes                            dumbness   \n",
       "10             intelligence                                rage   \n",
       "11                 dumbness                    male_stereotypes   \n",
       "\n",
       "         ECT_1985_2000 analogies_bias_2000_2020  \\\n",
       "0       gendered_words           gendered_words   \n",
       "1             kindness                  passive   \n",
       "2               career                   family   \n",
       "3   female_stereotypes                     rage   \n",
       "4               family             intelligence   \n",
       "5                 rage           adj_appearence   \n",
       "6         intelligence                 kindness   \n",
       "7       adj_appearence         male_stereotypes   \n",
       "8             dumbness                   active   \n",
       "9              passive       female_stereotypes   \n",
       "10    male_stereotypes                   career   \n",
       "11              active                 dumbness   \n",
       "\n",
       "   analogies_bias_avg_gender_2000_2020       ECT_2000_2020  \n",
       "0                       gendered_words      gendered_words  \n",
       "1                               family            kindness  \n",
       "2                                 rage             passive  \n",
       "3                              passive              career  \n",
       "4                               career        intelligence  \n",
       "5                             dumbness              family  \n",
       "6                   female_stereotypes              active  \n",
       "7                     male_stereotypes    male_stereotypes  \n",
       "8                             kindness  female_stereotypes  \n",
       "9                         intelligence                rage  \n",
       "10                      adj_appearence      adj_appearence  \n",
       "11                              active            dumbness  "
      ]
     },
     "execution_count": 4,
     "metadata": {},
     "output_type": "execute_result"
    }
   ],
   "source": [
    "results"
   ]
  },
  {
   "cell_type": "code",
   "execution_count": 24,
   "metadata": {},
   "outputs": [],
   "source": [
    "def to_list(x):\n",
    "    if isinstance(x, str):\n",
    "        return [x]\n",
    "    else:\n",
    "        return x"
   ]
  },
  {
   "cell_type": "code",
   "execution_count": 26,
   "metadata": {},
   "outputs": [
    {
     "name": "stdout",
     "output_type": "stream",
     "text": [
      "\n",
      "\n",
      "YEAR: 1948_1968\n",
      "\n",
      "TOP 5 MOST BIASED:\n"
     ]
    },
    {
     "data": {
      "text/plain": [
       "{'adj_appearence', 'gendered_words'}"
      ]
     },
     "metadata": {},
     "output_type": "display_data"
    },
    {
     "data": {
      "text/plain": [
       "{'adj_appearence', 'gendered_words'}"
      ]
     },
     "metadata": {},
     "output_type": "display_data"
    },
    {
     "name": "stdout",
     "output_type": "stream",
     "text": [
      "\n",
      "TOP 5 LESS BIASED:\n"
     ]
    },
    {
     "data": {
      "text/plain": [
       "{'intelligence'}"
      ]
     },
     "metadata": {},
     "output_type": "display_data"
    },
    {
     "data": {
      "text/plain": [
       "{'active', 'kindness'}"
      ]
     },
     "metadata": {},
     "output_type": "display_data"
    },
    {
     "name": "stdout",
     "output_type": "stream",
     "text": [
      "\n",
      "\n",
      "YEAR: 1968_1985\n",
      "\n",
      "TOP 5 MOST BIASED:\n"
     ]
    },
    {
     "data": {
      "text/plain": [
       "{'active', 'intelligence', 'passive'}"
      ]
     },
     "metadata": {},
     "output_type": "display_data"
    },
    {
     "data": {
      "text/plain": [
       "{'family', 'intelligence'}"
      ]
     },
     "metadata": {},
     "output_type": "display_data"
    },
    {
     "name": "stdout",
     "output_type": "stream",
     "text": [
      "\n",
      "TOP 5 LESS BIASED:\n"
     ]
    },
    {
     "data": {
      "text/plain": [
       "{'dumbness', 'male_stereotypes', 'rage'}"
      ]
     },
     "metadata": {},
     "output_type": "display_data"
    },
    {
     "data": {
      "text/plain": [
       "{'male_stereotypes', 'rage'}"
      ]
     },
     "metadata": {},
     "output_type": "display_data"
    },
    {
     "name": "stdout",
     "output_type": "stream",
     "text": [
      "\n",
      "\n",
      "YEAR: 1985_2000\n",
      "\n",
      "TOP 5 MOST BIASED:\n"
     ]
    },
    {
     "data": {
      "text/plain": [
       "{'family', 'gendered_words'}"
      ]
     },
     "metadata": {},
     "output_type": "display_data"
    },
    {
     "data": {
      "text/plain": [
       "{'career', 'family', 'gendered_words', 'kindness'}"
      ]
     },
     "metadata": {},
     "output_type": "display_data"
    },
    {
     "name": "stdout",
     "output_type": "stream",
     "text": [
      "\n",
      "TOP 5 LESS BIASED:\n"
     ]
    },
    {
     "data": {
      "text/plain": [
       "{'dumbness', 'male_stereotypes'}"
      ]
     },
     "metadata": {},
     "output_type": "display_data"
    },
    {
     "data": {
      "text/plain": [
       "{'active', 'dumbness', 'male_stereotypes'}"
      ]
     },
     "metadata": {},
     "output_type": "display_data"
    },
    {
     "name": "stdout",
     "output_type": "stream",
     "text": [
      "\n",
      "\n",
      "YEAR: 2000_2020\n",
      "\n",
      "TOP 5 MOST BIASED:\n"
     ]
    },
    {
     "data": {
      "text/plain": [
       "{'gendered_words', 'intelligence', 'passive'}"
      ]
     },
     "metadata": {},
     "output_type": "display_data"
    },
    {
     "data": {
      "text/plain": [
       "{'career', 'gendered_words', 'passive'}"
      ]
     },
     "metadata": {},
     "output_type": "display_data"
    },
    {
     "name": "stdout",
     "output_type": "stream",
     "text": [
      "\n",
      "TOP 5 LESS BIASED:\n"
     ]
    },
    {
     "data": {
      "text/plain": [
       "{'dumbness', 'female_stereotypes', 'male_stereotypes'}"
      ]
     },
     "metadata": {},
     "output_type": "display_data"
    },
    {
     "data": {
      "text/plain": [
       "{'adj_appearence', 'male_stereotypes'}"
      ]
     },
     "metadata": {},
     "output_type": "display_data"
    }
   ],
   "source": [
    "for year in YEARS:\n",
    "    print(f'\\n\\nYEAR: {year}\\n')\n",
    "    \n",
    "    print('TOP 5 MOST BIASED:')\n",
    "    display( \n",
    "        set( to_list(results[f'analogies_bias_{year}'][:5]) ).intersection( \n",
    "        set( to_list(results[f'ECT_{year}'][:5] )) )\n",
    "    )\n",
    "    display( \n",
    "        set( to_list(results[f'analogies_bias_avg_gender_{year}'][:5]) ).intersection( \n",
    "        set( to_list(results[f'ECT_{year}'][:5] )) )\n",
    "    )\n",
    "    \n",
    "    print('\\nTOP 5 LESS BIASED:')\n",
    "    \n",
    "    display( \n",
    "        set( to_list(results[f'analogies_bias_{year}'][-5:]) ).intersection( \n",
    "        set( to_list(results[f'ECT_{year}'][-5:] )) )\n",
    "    )\n",
    "    display( \n",
    "        set( to_list(results[f'analogies_bias_avg_gender_{year}'][-5:]) ).intersection( \n",
    "        set( to_list(results[f'ECT_{year}'][-5:] )) )\n",
    "    )"
   ]
  },
  {
   "cell_type": "markdown",
   "metadata": {},
   "source": [
    "## 2) TOP 5 BIASED WORDS PER GROUP"
   ]
  },
  {
   "cell_type": "code",
   "execution_count": 27,
   "metadata": {},
   "outputs": [],
   "source": [
    "%store -r top_bias_dict_NO_avg_gender\n",
    "%store -r top_bias_dict_avg_gender"
   ]
  },
  {
   "cell_type": "code",
   "execution_count": 34,
   "metadata": {},
   "outputs": [
    {
     "data": {
      "text/plain": [
       "dict_keys(['adj_appearence', 'family', 'career', 'rage', 'kindness', 'intelligence', 'dumbness', 'active', 'passive', 'gendered_words', 'female_stereotypes', 'male_stereotypes'])"
      ]
     },
     "execution_count": 34,
     "metadata": {},
     "output_type": "execute_result"
    }
   ],
   "source": [
    "dictionary.keys()"
   ]
  },
  {
   "cell_type": "code",
   "execution_count": 38,
   "metadata": {
    "scrolled": false
   },
   "outputs": [
    {
     "name": "stdout",
     "output_type": "stream",
     "text": [
      "YEAR: 1948_1968\n",
      "\n",
      "GROUP OF WORDS: adj_appearence\n"
     ]
    },
    {
     "data": {
      "text/plain": [
       "[('brutto', (0.29509499985724685, 0.2658529058098793)),\n",
       " ('rozzo', (0.2772289849817753, 0.2604978583753109)),\n",
       " ('piacevole', (0.25860001146793365, 0.25186472702771423)),\n",
       " ('bello', (0.2761748660355806, 0.2336318954825401)),\n",
       " ('carino', (0.21475374847650527, 0.2890594944357872))]"
      ]
     },
     "metadata": {},
     "output_type": "display_data"
    },
    {
     "data": {
      "text/plain": [
       "[('grasso', (0.07520787492394446, 0.13648460730910303)),\n",
       " ('carino', (0.023978488892316796, 0.1293986216187477)),\n",
       " ('magro', (0.005148093402385728, 0.12316455468535425)),\n",
       " ('piacevole', (0.027158109843730904, 0.07583426237106325)),\n",
       " ('splendido', (0.053787533938884746, 0.04787340909242627))]"
      ]
     },
     "metadata": {},
     "output_type": "display_data"
    },
    {
     "name": "stdout",
     "output_type": "stream",
     "text": [
      "\n",
      "GROUP OF WORDS: family\n"
     ]
    },
    {
     "data": {
      "text/plain": [
       "[('accudire', (0.20265522524714472, 0.3079692140221596)),\n",
       " ('matrimonio', (0.16443160474300383, 0.3236592601984739)),\n",
       " ('famiglia', (0.15932578705251216, 0.30422194991260765)),\n",
       " ('figlio', (0.11846956126391889, 0.3066461175680161)),\n",
       " ('genitore', (0.11788899302482608, 0.30390768945217134))]"
      ]
     },
     "metadata": {},
     "output_type": "display_data"
    },
    {
     "data": {
      "text/plain": [
       "[('bambino', (0.05835672020912169, 0.10217540711164474)),\n",
       " ('accudire', (0.0032275542616844177, 0.10667037069797519)),\n",
       " ('famiglia', (0.013978253304958332, 0.07280352711677551)),\n",
       " ('genitore', (0.03207767903804776, 0.04430913627147676)),\n",
       " ('matrimonio', (0.00970342755317688, 0.054022218286991164))]"
      ]
     },
     "metadata": {},
     "output_type": "display_data"
    },
    {
     "name": "stdout",
     "output_type": "stream",
     "text": [
      "\n",
      "GROUP OF WORDS: career\n"
     ]
    },
    {
     "data": {
      "text/plain": [
       "[('ambizione', (0.29220670461654663, 0.25887565985322)),\n",
       " ('capo', (0.22440551072359086, 0.2888912935741246)),\n",
       " ('professionale', (0.17413442358374595, 0.21852004760876298)),\n",
       " ('carriera', (0.1690877549350262, 0.17676329659298062)),\n",
       " ('lavoro', (0.15577584626753377, 0.1870133111253381))]"
      ]
     },
     "metadata": {},
     "output_type": "display_data"
    },
    {
     "data": {
      "text/plain": [
       "[('capo', (0.04650413841009143, 0.08594406545162203)),\n",
       " ('presidente', (0.10719117224216462, 0.009137164056301134)),\n",
       " ('onorevole', (0.07393163591623308, 0.025440075993537925)),\n",
       " ('potere', (0.0688980959355831, 0.025194261968135845)),\n",
       " ('ambizione', (0.06304210834205148, 0.018773133307695394))]"
      ]
     },
     "metadata": {},
     "output_type": "display_data"
    },
    {
     "name": "stdout",
     "output_type": "stream",
     "text": [
      "\n",
      "GROUP OF WORDS: rage\n"
     ]
    },
    {
     "data": {
      "text/plain": [
       "[('crudele', (0.26506780907511707, 0.24195958971977233)),\n",
       " ('brutale', (0.2631020721048117, 0.1756237469613552)),\n",
       " ('odioso', (0.24708631932735442, 0.14760626992210746)),\n",
       " ('intollerante', (0.26563041657209396, 0.1289789780974388)),\n",
       " ('aggressivo', (0.24774802103638652, 0.1404270768165588))]"
      ]
     },
     "metadata": {},
     "output_type": "display_data"
    },
    {
     "data": {
      "text/plain": [
       "[('aggressivo', (0.07757756151258943, 0.007930039614439027)),\n",
       " ('odioso', (0.038882374018430726, 0.042919004708528496)),\n",
       " ('intollerante', (0.03810579925775526, 0.021483036875724837)),\n",
       " ('crudele', (0.000902360677719094, 0.04627385139465334)),\n",
       " ('cattivo', (0.007714064419269556, 0.038300500810146354))]"
      ]
     },
     "metadata": {},
     "output_type": "display_data"
    },
    {
     "name": "stdout",
     "output_type": "stream",
     "text": [
      "\n",
      "GROUP OF WORDS: kindness\n"
     ]
    },
    {
     "data": {
      "text/plain": [
       "[('gentile', (0.2684820365160704, 0.30417391061782834)),\n",
       " ('bravo', (0.2895414371043443, 0.24635545844212176)),\n",
       " ('premuroso', (0.2919805027544498, 0.23603613683953878)),\n",
       " ('buono', (0.18431597389280796, 0.2142421193420887)),\n",
       " ('sensibile', (0.20825158571824431, 0.15202009640634062))]"
      ]
     },
     "metadata": {},
     "output_type": "display_data"
    },
    {
     "data": {
      "text/plain": [
       "[('bravo', (0.06617886722087862, 0.057589851319789886)),\n",
       " ('premuroso', (0.06748545914888382, 0.017642974853515597)),\n",
       " ('gentile', (0.0407612159848213, 0.036393442749977134)),\n",
       " ('buono', (0.04045482277870177, 0.0022135362029075956)),\n",
       " ('sensibile', (0.0022489443421363775, 0.019775578379631037))]"
      ]
     },
     "metadata": {},
     "output_type": "display_data"
    },
    {
     "name": "stdout",
     "output_type": "stream",
     "text": [
      "\n",
      "GROUP OF WORDS: intelligence\n"
     ]
    },
    {
     "data": {
      "text/plain": [
       "[('saggio', (0.2542862303555012, 0.27460692161694167)),\n",
       " ('intelligente', (0.3005661744624376, 0.2198114439845085)),\n",
       " ('studioso', (0.31134569756686686, 0.1388431021012366)),\n",
       " ('serio', (0.2112872391007841, 0.18501385962590577)),\n",
       " ('razionale', (0.18851561546325685, 0.10468733655288817))]"
      ]
     },
     "metadata": {},
     "output_type": "display_data"
    },
    {
     "data": {
      "text/plain": [
       "[('studioso', (0.11754441857337955, 0.10435344576835631)),\n",
       " ('intelligente', (0.0864910967648029, 0.03914864361286163)),\n",
       " ('saggio', (0.09002217799425122, 0.022050452977418922)),\n",
       " ('razionale', (0.047061241418123234, 0.03262330200523139)),\n",
       " ('serio', (0.008706568740308285, 0.025015160627663124))]"
      ]
     },
     "metadata": {},
     "output_type": "display_data"
    },
    {
     "name": "stdout",
     "output_type": "stream",
     "text": [
      "\n",
      "GROUP OF WORDS: dumbness\n"
     ]
    },
    {
     "data": {
      "text/plain": [
       "[('isterico', (0.2820764362812042, 0.2016008600592613)),\n",
       " ('superficiale', (0.24720769226551054, 0.20314330998808144)),\n",
       " ('stupido', (0.23001839816570285, 0.17601785361766814)),\n",
       " ('irrazionale', (0.2241031598299742, 0.13777966517955065)),\n",
       " ('illogico', (0.17830097451806068, 0.09315655175596477))]"
      ]
     },
     "metadata": {},
     "output_type": "display_data"
    },
    {
     "data": {
      "text/plain": [
       "[('isterico', (0.0493393436074257, 0.03930095732212069)),\n",
       " ('superficiale', (0.002769939601421356, 0.06012850850820539)),\n",
       " ('stupido', (0.006175868213176727, 0.053461270034313224)),\n",
       " ('illogico', (0.025420664250850655, 0.031188596785068495)),\n",
       " ('irrazionale', (0.0027818074449896812, 0.028379463590681553))]"
      ]
     },
     "metadata": {},
     "output_type": "display_data"
    },
    {
     "name": "stdout",
     "output_type": "stream",
     "text": [
      "\n",
      "GROUP OF WORDS: active\n"
     ]
    },
    {
     "data": {
      "text/plain": [
       "[('ambizioso', (0.294016897957772, 0.27093837801367043)),\n",
       " ('sicuro', (0.2755139833316207, 0.22386353323236105)),\n",
       " ('forte', (0.2326549783349037, 0.19239650629460814))]"
      ]
     },
     "metadata": {},
     "output_type": "display_data"
    },
    {
     "data": {
      "text/plain": [
       "[('ambizioso', (0.057776935398578644, 0.020980197936296463)),\n",
       " ('sicuro', (0.043171715363860136, 0.0015328422188758961)),\n",
       " ('forte', (0.008912119641900057, 0.032457536086440086))]"
      ]
     },
     "metadata": {},
     "output_type": "display_data"
    },
    {
     "name": "stdout",
     "output_type": "stream",
     "text": [
      "\n",
      "GROUP OF WORDS: passive\n"
     ]
    },
    {
     "data": {
      "text/plain": [
       "[('silenzioso', (0.29853157987818124, 0.3144751817919314)),\n",
       " ('timido', (0.30574695356190207, 0.25271312301047144)),\n",
       " ('debole', (0.24733064947649835, 0.19708650261163713)),\n",
       " ('insicuro', (0.1624200731515884, 0.24033483536913988)),\n",
       " ('passivo', (0.11879132222384214, 0.15373089080676436))]"
      ]
     },
     "metadata": {},
     "output_type": "display_data"
    },
    {
     "data": {
      "text/plain": [
       "[('silenzioso', (0.05928347557783131, 0.06692725121974946)),\n",
       " ('debole', (0.016916866600513447, 0.044556730985641474)),\n",
       " ('insicuro', (0.002782893180847179, 0.05676786452531818)),\n",
       " ('timido', (0.03210258036851882, 0.024221629649400722)),\n",
       " ('passivo', (0.008916518837213533, 0.04725971445441246))]"
      ]
     },
     "metadata": {},
     "output_type": "display_data"
    },
    {
     "name": "stdout",
     "output_type": "stream",
     "text": [
      "\n",
      "GROUP OF WORDS: gendered_words\n"
     ]
    },
    {
     "data": {
      "text/plain": [
       "[('maschile', (0.23509617978706956, 0.33717064941301944)),\n",
       " ('nonno', (0.2743290059268475, 0.28751326352357864)),\n",
       " ('ragazza', (0.24680468812584877, 0.3077805787324905)),\n",
       " ('femminile', (0.19922671252861618, 0.34307287866249675)),\n",
       " ('padre', (0.2460642796009779, 0.2750377491116524))]"
      ]
     },
     "metadata": {},
     "output_type": "display_data"
    },
    {
     "data": {
      "text/plain": [
       "[('maschile', (0.08246875852346419, 0.14205258339643478)),\n",
       " ('femminile', (0.059811078011989594, 0.14689058065414426)),\n",
       " ('ragazza', (0.07095831334590913, 0.09196822643280034)),\n",
       " ('ragazzo', (0.05708812475204467, 0.07051403522491456)),\n",
       " ('nonno', (0.0767849132418632, 0.03968156576156617))]"
      ]
     },
     "metadata": {},
     "output_type": "display_data"
    },
    {
     "name": "stdout",
     "output_type": "stream",
     "text": [
      "\n",
      "GROUP OF WORDS: female_stereotypes\n"
     ]
    },
    {
     "data": {
      "text/plain": [
       "[('silenzioso', (0.29853157987818124, 0.3144751817919314)),\n",
       " ('gentile', (0.2684820365160704, 0.30417391061782834)),\n",
       " ('bello', (0.2761748660355806, 0.2336318954825401)),\n",
       " ('isterico', (0.2820764362812042, 0.2016008600592613)),\n",
       " ('frivolo', (0.25665763914585116, 0.20820132493972776))]"
      ]
     },
     "metadata": {},
     "output_type": "display_data"
    },
    {
     "data": {
      "text/plain": [
       "[('silenzioso', (0.05928347557783131, 0.06692725121974946)),\n",
       " ('frivolo', (0.03734520077705383, 0.0642824709415436)),\n",
       " ('isterico', (0.0493393436074257, 0.03930095732212069)),\n",
       " ('gentile', (0.0407612159848213, 0.036393442749977134)),\n",
       " ('superficiale', (0.002769939601421356, 0.06012850850820539))]"
      ]
     },
     "metadata": {},
     "output_type": "display_data"
    },
    {
     "name": "stdout",
     "output_type": "stream",
     "text": [
      "\n",
      "GROUP OF WORDS: male_stereotypes\n"
     ]
    },
    {
     "data": {
      "text/plain": [
       "[('ambizioso', (0.294016897957772, 0.27093837801367043)),\n",
       " ('saggio', (0.2542862303555012, 0.27460692161694167)),\n",
       " ('intelligente', (0.3005661744624376, 0.2198114439845085)),\n",
       " ('crudele', (0.26506780907511707, 0.24195958971977233)),\n",
       " ('forte', (0.2326549783349037, 0.19239650629460814))]"
      ]
     },
     "metadata": {},
     "output_type": "display_data"
    },
    {
     "data": {
      "text/plain": [
       "[('intelligente', (0.0864910967648029, 0.03914864361286163)),\n",
       " ('saggio', (0.09002217799425122, 0.022050452977418922)),\n",
       " ('razionale', (0.047061241418123234, 0.03262330200523139)),\n",
       " ('ambizioso', (0.057776935398578644, 0.020980197936296463)),\n",
       " ('intollerante', (0.03810579925775526, 0.021483036875724837))]"
      ]
     },
     "metadata": {},
     "output_type": "display_data"
    },
    {
     "name": "stdout",
     "output_type": "stream",
     "text": [
      "YEAR: 1968_1985\n",
      "\n",
      "GROUP OF WORDS: adj_appearence\n"
     ]
    },
    {
     "data": {
      "text/plain": [
       "[('brutto', (0.18250161334872245, 0.23866950869560244)),\n",
       " ('piacevole', (0.20342885851860046, 0.1720445452257991)),\n",
       " ('frivolo', (0.19886815771460534, 0.14419962465763092)),\n",
       " ('magro', (0.1448372956365347, 0.19252928057685492)),\n",
       " ('splendido', (0.18379925936460495, 0.15123310163617132))]"
      ]
     },
     "metadata": {},
     "output_type": "display_data"
    },
    {
     "data": {
      "text/plain": [
       "[('sensuale', (0.0623053058981895, 0.09522576034069058)),\n",
       " ('brutto', (0.04167418330907824, 0.1053463011980057)),\n",
       " ('grasso', (0.04943396896123886, 0.09168717116117478)),\n",
       " ('rozzo', (0.043196414411067974, 0.09450662881135943)),\n",
       " ('frivolo', (0.03966133892536167, 0.0939598813652992))]"
      ]
     },
     "metadata": {},
     "output_type": "display_data"
    },
    {
     "name": "stdout",
     "output_type": "stream",
     "text": [
      "\n",
      "GROUP OF WORDS: family\n"
     ]
    },
    {
     "data": {
      "text/plain": [
       "[('bambino', (0.10707804262638088, 0.27347856163978573)),\n",
       " ('accudire', (0.14689157158136368, 0.22341064512729647)),\n",
       " ('famiglia', (0.09470470994710922, 0.23872704207897183)),\n",
       " ('genitore', (0.08865111470222475, 0.23855788260698318)),\n",
       " ('figlio', (0.06579696238040922, 0.22805691361427305))]"
      ]
     },
     "metadata": {},
     "output_type": "display_data"
    },
    {
     "data": {
      "text/plain": [
       "[('bambino', (0.04608059823513033, 0.09711909890174869)),\n",
       " ('famiglia', (0.04911449849605559, 0.09224255383014679)),\n",
       " ('matrimonio', (0.061474594473838795, 0.07529728412628173)),\n",
       " ('figlio', (0.04680970907211307, 0.07821269929409025)),\n",
       " ('accudire', (0.003718712925910972, 0.09668596088886261))]"
      ]
     },
     "metadata": {},
     "output_type": "display_data"
    },
    {
     "name": "stdout",
     "output_type": "stream",
     "text": [
      "\n",
      "GROUP OF WORDS: career\n"
     ]
    },
    {
     "data": {
      "text/plain": [
       "[('capo', (0.19123454485088587, 0.18896937132813035)),\n",
       " ('ambizione', (0.2324486769735813, 0.12236845716834066)),\n",
       " ('professionale', (0.12164951013401151, 0.17568559646606444)),\n",
       " ('salario', (0.08461074065417051, 0.1976657148450613)),\n",
       " ('presidente', (0.19498713883804158, 0.07794184805825352))]"
      ]
     },
     "metadata": {},
     "output_type": "display_data"
    },
    {
     "data": {
      "text/plain": [
       "[('presidente', (0.10213702246546744, 0.052507406473159796)),\n",
       " ('capo', (0.07857138738036157, 0.049922397732734713)),\n",
       " ('ambizione', (0.01919785887002945, 0.045545145869255066)),\n",
       " ('potere', (0.03867805898189547, 0.023899744451046034)),\n",
       " ('professionale', (0.015639264881610854, 0.04589169770479201))]"
      ]
     },
     "metadata": {},
     "output_type": "display_data"
    },
    {
     "name": "stdout",
     "output_type": "stream",
     "text": [
      "\n",
      "GROUP OF WORDS: rage\n"
     ]
    },
    {
     "data": {
      "text/plain": [
       "[('odioso', (0.13791184350848196, 0.1727709025144577)),\n",
       " ('aggressivo', (0.18588566035032272, 0.11683029308915135)),\n",
       " ('cattivo', (0.17759900316596033, 0.11178442165255545)),\n",
       " ('intollerante', (0.15388815402984618, 0.127187979221344)),\n",
       " ('brutale', (0.17749807834625242, 0.09905266761779788))]"
      ]
     },
     "metadata": {},
     "output_type": "display_data"
    },
    {
     "data": {
      "text/plain": [
       "[('intollerante', (0.021492835879325878, 0.08170582056045528)),\n",
       " ('odioso', (0.007497919350862525, 0.05065494924783709)),\n",
       " ('crudele', (0.004397813975811016, 0.049222421646118175)),\n",
       " ('brutale', (0.02398555278778075, 0.021995021402835824)),\n",
       " ('aggressivo', (0.009424577653408095, 0.03483355939388272))]"
      ]
     },
     "metadata": {},
     "output_type": "display_data"
    },
    {
     "name": "stdout",
     "output_type": "stream",
     "text": [
      "\n",
      "GROUP OF WORDS: kindness\n"
     ]
    },
    {
     "data": {
      "text/plain": [
       "[('gentile', (0.1882764182984829, 0.23691550642251968)),\n",
       " ('bravo', (0.23870965838432312, 0.16666592061519625)),\n",
       " ('sensibile', (0.20263541080057623, 0.16019778465852139)),\n",
       " ('premuroso', (0.18468192890286445, 0.16452598981559277)),\n",
       " ('buono', (0.1660956047475338, 0.10280527994036676))]"
      ]
     },
     "metadata": {},
     "output_type": "display_data"
    },
    {
     "data": {
      "text/plain": [
       "[('bravo', (0.04344096779823303, 0.08130546808242795)),\n",
       " ('buono', (0.0531501621007919, 0.04094170629978178)),\n",
       " ('premuroso', (0.030454890429973624, 0.05301680266857145)),\n",
       " ('gentile', (0.0028200089931487704, 0.0799377769231796)),\n",
       " ('sensibile', (0.02646855339407919, 0.030030998587608326))]"
      ]
     },
     "metadata": {},
     "output_type": "display_data"
    },
    {
     "name": "stdout",
     "output_type": "stream",
     "text": [
      "\n",
      "GROUP OF WORDS: intelligence\n"
     ]
    },
    {
     "data": {
      "text/plain": [
       "[('intelligente', (0.23097474053502082, 0.14315210580825805)),\n",
       " ('saggio', (0.19260006435215477, 0.17504742927849296)),\n",
       " ('studioso', (0.2279259480535984, 0.1152841202914715)),\n",
       " ('serio', (0.16448946255259214, 0.1484353320323862)),\n",
       " ('razionale', (0.13265085369348525, 0.12379124742001293))]"
      ]
     },
     "metadata": {},
     "output_type": "display_data"
    },
    {
     "data": {
      "text/plain": [
       "[('studioso', (0.09117110520601274, 0.057592712342739105)),\n",
       " ('saggio', (0.06588030941784381, 0.025255450606346125)),\n",
       " ('razionale', (0.0577630214393139, 0.03173652589321138)),\n",
       " ('serio', (0.011320798471570026, 0.07765316553413867)),\n",
       " ('intelligente', (0.05164865106344224, 0.025495857000350952))]"
      ]
     },
     "metadata": {},
     "output_type": "display_data"
    },
    {
     "name": "stdout",
     "output_type": "stream",
     "text": [
      "\n",
      "GROUP OF WORDS: dumbness\n"
     ]
    },
    {
     "data": {
      "text/plain": [
       "[('isterico', (0.17378151789307597, 0.1304491564631462)),\n",
       " ('stupido', (0.1612228199839592, 0.11922395378351211)),\n",
       " ('superficiale', (0.16933650942519307, 0.0827988013625145)),\n",
       " ('irrazionale', (0.1533874818123877, 0.08669070936739445)),\n",
       " ('illogico', (0.0739076115190983, 0.10059001166373491))]"
      ]
     },
     "metadata": {},
     "output_type": "display_data"
    },
    {
     "data": {
      "text/plain": [
       "[('stupido', (0.03158549666404725, 0.09141864627599716)),\n",
       " ('irrazionale', (0.038281141966581334, 0.0769894726574421)),\n",
       " ('superficiale', (0.03809625357389451, 0.06600686758756638)),\n",
       " ('illogico', (0.019659488648176182, 0.07844680100679399)),\n",
       " ('isterico', (0.01705457568168639, 0.07947647869586943))]"
      ]
     },
     "metadata": {},
     "output_type": "display_data"
    },
    {
     "name": "stdout",
     "output_type": "stream",
     "text": [
      "\n",
      "GROUP OF WORDS: active\n"
     ]
    },
    {
     "data": {
      "text/plain": [
       "[('sicuro', (0.18964868634939194, 0.1714568927884102)),\n",
       " ('ambizioso', (0.18377458676695824, 0.16330062597990036)),\n",
       " ('forte', (0.16763983145356176, 0.15329372184351087))]"
      ]
     },
     "metadata": {},
     "output_type": "display_data"
    },
    {
     "data": {
      "text/plain": [
       "[('ambizioso', (0.010343852639198292, 0.07370918691158296)),\n",
       " ('sicuro', (0.02188989967107771, 0.03707753568887712)),\n",
       " ('forte', (0.004306811094284074, 0.021985526382923115))]"
      ]
     },
     "metadata": {},
     "output_type": "display_data"
    },
    {
     "name": "stdout",
     "output_type": "stream",
     "text": [
      "\n",
      "GROUP OF WORDS: passive\n"
     ]
    },
    {
     "data": {
      "text/plain": [
       "[('silenzioso', (0.2110753431916237, 0.19877435564994816)),\n",
       " ('debole', (0.12100123390555381, 0.21959874853491784)),\n",
       " ('timido', (0.16311209313571456, 0.17725276835262777)),\n",
       " ('passivo', (0.11001173658296468, 0.20075383614748715)),\n",
       " ('insicuro', (0.1401446367613971, 0.16958491206169127))]"
      ]
     },
     "metadata": {},
     "output_type": "display_data"
    },
    {
     "data": {
      "text/plain": [
       "[('insicuro', (0.03141827508807182, 0.06775054931640628)),\n",
       " ('timido', (0.004152067005634308, 0.07641550898551941)),\n",
       " ('debole', (0.015619583427906036, 0.05944181084632877)),\n",
       " ('silenzioso', (0.010407595336437259, 0.06174299120903015)),\n",
       " ('passivo', (0.0033013023436069544, 0.03203806430101394))]"
      ]
     },
     "metadata": {},
     "output_type": "display_data"
    },
    {
     "name": "stdout",
     "output_type": "stream",
     "text": [
      "\n",
      "GROUP OF WORDS: gendered_words\n"
     ]
    },
    {
     "data": {
      "text/plain": [
       "[('maschile', (0.15400972068309787, 0.29770929217338565)),\n",
       " ('sorella', (0.18333521783351897, 0.23179239928722384)),\n",
       " ('padre', (0.19172509461641313, 0.21913225352764126)),\n",
       " ('madre', (0.11184687912464142, 0.2930150181055069)),\n",
       " ('fratello', (0.19797016084194186, 0.20448035299777984))]"
      ]
     },
     "metadata": {},
     "output_type": "display_data"
    },
    {
     "data": {
      "text/plain": [
       "[('madre', (0.06939873099327087, 0.15345877707004546)),\n",
       " ('femminile', (0.07759160548448563, 0.12451386451721191)),\n",
       " ('ragazza', (0.05584306418895724, 0.12013007104396817)),\n",
       " ('maschile', (0.035851433873176575, 0.12682566791772842)),\n",
       " ('ragazzo', (0.05262051820755004, 0.07309747636318209))]"
      ]
     },
     "metadata": {},
     "output_type": "display_data"
    },
    {
     "name": "stdout",
     "output_type": "stream",
     "text": [
      "\n",
      "GROUP OF WORDS: female_stereotypes\n"
     ]
    },
    {
     "data": {
      "text/plain": [
       "[('gentile', (0.1882764182984829, 0.23691550642251968)),\n",
       " ('silenzioso', (0.2110753431916237, 0.19877435564994816)),\n",
       " ('sensibile', (0.20263541080057623, 0.16019778465852139)),\n",
       " ('frivolo', (0.19886815771460534, 0.14419962465763092)),\n",
       " ('debole', (0.12100123390555381, 0.21959874853491784))]"
      ]
     },
     "metadata": {},
     "output_type": "display_data"
    },
    {
     "data": {
      "text/plain": [
       "[('frivolo', (0.03966133892536167, 0.0939598813652992)),\n",
       " ('irrazionale', (0.038281141966581334, 0.0769894726574421)),\n",
       " ('superficiale', (0.03809625357389451, 0.06600686758756638)),\n",
       " ('insicuro', (0.03141827508807182, 0.06775054931640628)),\n",
       " ('illogico', (0.019659488648176182, 0.07844680100679399))]"
      ]
     },
     "metadata": {},
     "output_type": "display_data"
    },
    {
     "name": "stdout",
     "output_type": "stream",
     "text": [
      "\n",
      "GROUP OF WORDS: male_stereotypes\n"
     ]
    },
    {
     "data": {
      "text/plain": [
       "[('intelligente', (0.23097474053502082, 0.14315210580825805)),\n",
       " ('saggio', (0.19260006435215477, 0.17504742927849296)),\n",
       " ('ambizioso', (0.18377458676695824, 0.16330062597990036)),\n",
       " ('forte', (0.16763983145356176, 0.15329372184351087)),\n",
       " ('intollerante', (0.15388815402984618, 0.127187979221344))]"
      ]
     },
     "metadata": {},
     "output_type": "display_data"
    },
    {
     "data": {
      "text/plain": [
       "[('intollerante', (0.021492835879325878, 0.08170582056045528)),\n",
       " ('saggio', (0.06588030941784381, 0.025255450606346125)),\n",
       " ('razionale', (0.0577630214393139, 0.03173652589321138)),\n",
       " ('ambizioso', (0.010343852639198292, 0.07370918691158296)),\n",
       " ('intelligente', (0.05164865106344224, 0.025495857000350952))]"
      ]
     },
     "metadata": {},
     "output_type": "display_data"
    },
    {
     "name": "stdout",
     "output_type": "stream",
     "text": [
      "YEAR: 1985_2000\n",
      "\n",
      "GROUP OF WORDS: adj_appearence\n"
     ]
    },
    {
     "data": {
      "text/plain": [
       "[('splendido', (0.21476126313209534, 0.2654266923666)),\n",
       " ('magro', (0.16895642057061194, 0.22036420870572326)),\n",
       " ('brutto', (0.19146075546741487, 0.17227150276303294)),\n",
       " ('bello', (0.2184124852530658, 0.12446235343813897)),\n",
       " ('grasso', (0.16146082999184724, 0.15586005523800847))]"
      ]
     },
     "metadata": {},
     "output_type": "display_data"
    },
    {
     "data": {
      "text/plain": [
       "[('frivolo', (0.08055612146854402, 0.017086794972419772)),\n",
       " ('brutto', (0.0434572696685791, 0.04718578755855557)),\n",
       " ('magro', (0.00534579604864116, 0.08356510251760485)),\n",
       " ('splendido', (0.04079977124929429, 0.043357688188552845)),\n",
       " ('rozzo', (0.045193771272897726, 0.03313617464154961))]"
      ]
     },
     "metadata": {},
     "output_type": "display_data"
    },
    {
     "name": "stdout",
     "output_type": "stream",
     "text": [
      "\n",
      "GROUP OF WORDS: family\n"
     ]
    },
    {
     "data": {
      "text/plain": [
       "[('matrimonio', (0.18457488119602206, 0.2574368953704834)),\n",
       " ('accudire', (0.18423983529210092, 0.23825111985206598)),\n",
       " ('bambino', (0.14550798609852794, 0.2583023980259896)),\n",
       " ('genitore', (0.09000351205468182, 0.26151792705059057)),\n",
       " ('famiglia', (0.08752085641026497, 0.2613616079092026))]"
      ]
     },
     "metadata": {},
     "output_type": "display_data"
    },
    {
     "data": {
      "text/plain": [
       "[('bambino', (0.12093849778175353, 0.1466525703668594)),\n",
       " ('famiglia', (0.11215928792953495, 0.13123146593570711)),\n",
       " ('genitore', (0.09206761121749879, 0.1390915751457214)),\n",
       " ('figlio', (0.04915102422237394, 0.13471387922763828)),\n",
       " ('matrimonio', (0.0429166361689568, 0.11669927388429646))]"
      ]
     },
     "metadata": {},
     "output_type": "display_data"
    },
    {
     "name": "stdout",
     "output_type": "stream",
     "text": [
      "\n",
      "GROUP OF WORDS: career\n"
     ]
    },
    {
     "data": {
      "text/plain": [
       "[('capo', (0.16059659235179424, 0.27852741051465274)),\n",
       " ('carriera', (0.12140787988901136, 0.23550221668556334)),\n",
       " ('ambizione', (0.19455013573169708, 0.13403236195445062)),\n",
       " ('lavoro', (0.15179990786127745, 0.17584593892097472)),\n",
       " ('presidente', (0.16688901782035825, 0.15332035310566425))]"
      ]
     },
     "metadata": {},
     "output_type": "display_data"
    },
    {
     "data": {
      "text/plain": [
       "[('capo', (0.06427737511694431, 0.07692989334464073)),\n",
       " ('salario', (0.04498157203197481, 0.09619090408086775)),\n",
       " ('professionale', (0.04496095329523089, 0.0929616779088974)),\n",
       " ('carriera', (0.04481282755732538, 0.07667831555008886)),\n",
       " ('ambizione', (0.03623085990548136, 0.0702170975506306))]"
      ]
     },
     "metadata": {},
     "output_type": "display_data"
    },
    {
     "name": "stdout",
     "output_type": "stream",
     "text": [
      "\n",
      "GROUP OF WORDS: rage\n"
     ]
    },
    {
     "data": {
      "text/plain": [
       "[('brutale', (0.18335635438561443, 0.1993240475654602)),\n",
       " ('crudele', (0.16029397696256636, 0.17780422121286393)),\n",
       " ('aggressivo', (0.18622678071260454, 0.12805117145180703)),\n",
       " ('intollerante', (0.18422914147377012, 0.1260713256895542)),\n",
       " ('odioso', (0.1591102883219719, 0.13403358310461044))]"
      ]
     },
     "metadata": {},
     "output_type": "display_data"
    },
    {
     "data": {
      "text/plain": [
       "[('cattivo', (0.06614572107791902, 0.020600344240665452)),\n",
       " ('brutale', (0.026315513253211964, 0.04323767572641374)),\n",
       " ('intollerante', (0.04630937278270719, 0.018830253183841683)),\n",
       " ('odioso', (0.0017580538988113403, 0.05244278833270072)),\n",
       " ('aggressivo', (0.01564959287643436, 0.034138077497482294))]"
      ]
     },
     "metadata": {},
     "output_type": "display_data"
    },
    {
     "name": "stdout",
     "output_type": "stream",
     "text": [
      "\n",
      "GROUP OF WORDS: kindness\n"
     ]
    },
    {
     "data": {
      "text/plain": [
       "[('bravo', (0.20137629508972169, 0.1970975898206234)),\n",
       " ('sensibile', (0.15731934756040575, 0.1887505769729614)),\n",
       " ('gentile', (0.1795517209917307, 0.1558737359941006)),\n",
       " ('premuroso', (0.19087920151650908, 0.13264479041099547)),\n",
       " ('buono', (0.1610660444945097, 0.12234925813972952))]"
      ]
     },
     "metadata": {},
     "output_type": "display_data"
    },
    {
     "data": {
      "text/plain": [
       "[('bravo', (0.10408815592527393, 0.017056630551815055)),\n",
       " ('sensibile', (0.014494195580482483, 0.0819530971348286)),\n",
       " ('gentile', (0.07533589452505113, 0.007975113391876232)),\n",
       " ('buono', (0.053534661233425124, 0.01917574554681778)),\n",
       " ('premuroso', (0.034305277466773976, 0.03389441072940824))]"
      ]
     },
     "metadata": {},
     "output_type": "display_data"
    },
    {
     "name": "stdout",
     "output_type": "stream",
     "text": [
      "\n",
      "GROUP OF WORDS: intelligence\n"
     ]
    },
    {
     "data": {
      "text/plain": [
       "[('saggio', (0.15564696714282036, 0.1785821244120598)),\n",
       " ('studioso', (0.1710377998650074, 0.1348443754017353)),\n",
       " ('serio', (0.1280366570688784, 0.1707186590647325)),\n",
       " ('intelligente', (0.1782705754041672, 0.10469525791704656)),\n",
       " ('razionale', (0.156731416285038, 0.11233458034694196))]"
      ]
     },
     "metadata": {},
     "output_type": "display_data"
    },
    {
     "data": {
      "text/plain": [
       "[('studioso', (0.132291142642498, 0.010650244355201732)),\n",
       " ('razionale', (0.014571228623390192, 0.06468879505991937)),\n",
       " ('intelligente', (0.03490426987409592, 0.02297716066241265)),\n",
       " ('saggio', (0.02748533189296723, 0.015665225684642792)),\n",
       " ('serio', (0.02223744392395019, 0.019946720451116562))]"
      ]
     },
     "metadata": {},
     "output_type": "display_data"
    },
    {
     "name": "stdout",
     "output_type": "stream",
     "text": [
      "\n",
      "GROUP OF WORDS: dumbness\n"
     ]
    },
    {
     "data": {
      "text/plain": [
       "[('stupido', (0.1514732211828232, 0.1692800991237164)),\n",
       " ('isterico', (0.20438041016459468, 0.11055885553359984)),\n",
       " ('irrazionale', (0.1754416729323566, 0.09888781495392324)),\n",
       " ('superficiale', (0.1480776021257043, 0.08993092090822756)),\n",
       " ('illogico', (0.1315099242143333, 0.08102161763235925))]"
      ]
     },
     "metadata": {},
     "output_type": "display_data"
    },
    {
     "data": {
      "text/plain": [
       "[('stupido', (0.07069019824266431, 0.05229027867317204)),\n",
       " ('irrazionale', (0.015532697737216938, 0.05015460513532162)),\n",
       " ('isterico', (0.0032134696841239485, 0.05600863099098208)),\n",
       " ('superficiale', (0.013361931033432473, 0.021509904431877655)),\n",
       " ('illogico', (0.0256961800158024, 0.001681505143642431))]"
      ]
     },
     "metadata": {},
     "output_type": "display_data"
    },
    {
     "name": "stdout",
     "output_type": "stream",
     "text": [
      "\n",
      "GROUP OF WORDS: active\n"
     ]
    },
    {
     "data": {
      "text/plain": [
       "[('sicuro', (0.17411583513021467, 0.17699117772281167)),\n",
       " ('forte', (0.14866967052221297, 0.16636595614254476)),\n",
       " ('ambizioso', (0.19627050831913948, 0.07015601880848407))]"
      ]
     },
     "metadata": {},
     "output_type": "display_data"
    },
    {
     "data": {
      "text/plain": [
       "[('sicuro', (0.023936785012483586, 0.05952488258481026)),\n",
       " ('ambizioso', (0.011372777819633473, 0.06169747784733773)),\n",
       " ('forte', (0.017174345999956125, 0.04354513809084892))]"
      ]
     },
     "metadata": {},
     "output_type": "display_data"
    },
    {
     "name": "stdout",
     "output_type": "stream",
     "text": [
      "\n",
      "GROUP OF WORDS: passive\n"
     ]
    },
    {
     "data": {
      "text/plain": [
       "[('silenzioso', (0.16718826442956924, 0.24818207323551178)),\n",
       " ('insicuro', (0.20843882784247397, 0.16405339241027828)),\n",
       " ('debole', (0.10750479996204376, 0.24671101123094558)),\n",
       " ('timido', (0.16977566331624985, 0.1732747098430991)),\n",
       " ('passivo', (0.1435300640761852, 0.16879918724298476))]"
      ]
     },
     "metadata": {},
     "output_type": "display_data"
    },
    {
     "data": {
      "text/plain": [
       "[('passivo', (0.05895752161741258, 0.08914691209793091)),\n",
       " ('debole', (0.02609491199254993, 0.09488148987293243)),\n",
       " ('silenzioso', (0.019093888998031605, 0.06686054319143292)),\n",
       " ('timido', (0.0011085219681263025, 0.05476440265774726)),\n",
       " ('insicuro', (0.0030064776539802662, 0.05018121302127837))]"
      ]
     },
     "metadata": {},
     "output_type": "display_data"
    },
    {
     "name": "stdout",
     "output_type": "stream",
     "text": [
      "\n",
      "GROUP OF WORDS: gendered_words\n"
     ]
    },
    {
     "data": {
      "text/plain": [
       "[('maschile', (0.17055238112807275, 0.2964578032493591)),\n",
       " ('nonno', (0.19607176557183265, 0.2483819007873535)),\n",
       " ('nonna', (0.2004397824406624, 0.23526696413755419)),\n",
       " ('sorella', (0.18250191211700442, 0.2506326138973236)),\n",
       " ('femminile', (0.1314783699810505, 0.2913563311100006))]"
      ]
     },
     "metadata": {},
     "output_type": "display_data"
    },
    {
     "data": {
      "text/plain": [
       "[('ragazza', (0.13232842683792112, 0.16100446283817288)),\n",
       " ('femminile', (0.12418418824672695, 0.1439695656299591)),\n",
       " ('ragazzo', (0.12299319207668302, 0.14121960997581479)),\n",
       " ('maschile', (0.09533875584602353, 0.16097393035888674)),\n",
       " ('madre', (0.08556658029556274, 0.16096990108489995))]"
      ]
     },
     "metadata": {},
     "output_type": "display_data"
    },
    {
     "name": "stdout",
     "output_type": "stream",
     "text": [
      "\n",
      "GROUP OF WORDS: female_stereotypes\n"
     ]
    },
    {
     "data": {
      "text/plain": [
       "[('silenzioso', (0.16718826442956924, 0.24818207323551178)),\n",
       " ('insicuro', (0.20843882784247397, 0.16405339241027828)),\n",
       " ('debole', (0.10750479996204376, 0.24671101123094558)),\n",
       " ('sensibile', (0.15731934756040575, 0.1887505769729614)),\n",
       " ('bello', (0.2184124852530658, 0.12446235343813897))]"
      ]
     },
     "metadata": {},
     "output_type": "display_data"
    },
    {
     "data": {
      "text/plain": [
       "[('passivo', (0.05895752161741258, 0.08914691209793091)),\n",
       " ('debole', (0.02609491199254993, 0.09488148987293243)),\n",
       " ('frivolo', (0.08055612146854402, 0.017086794972419772)),\n",
       " ('sensibile', (0.014494195580482483, 0.0819530971348286)),\n",
       " ('silenzioso', (0.019093888998031605, 0.06686054319143292))]"
      ]
     },
     "metadata": {},
     "output_type": "display_data"
    },
    {
     "name": "stdout",
     "output_type": "stream",
     "text": [
      "\n",
      "GROUP OF WORDS: male_stereotypes\n"
     ]
    },
    {
     "data": {
      "text/plain": [
       "[('crudele', (0.16029397696256636, 0.17780422121286393)),\n",
       " ('saggio', (0.15564696714282036, 0.1785821244120598)),\n",
       " ('forte', (0.14866967052221297, 0.16636595614254476)),\n",
       " ('intollerante', (0.18422914147377012, 0.1260713256895542)),\n",
       " ('intelligente', (0.1782705754041672, 0.10469525791704656))]"
      ]
     },
     "metadata": {},
     "output_type": "display_data"
    },
    {
     "data": {
      "text/plain": [
       "[('razionale', (0.014571228623390192, 0.06468879505991937)),\n",
       " ('ambizioso', (0.011372777819633473, 0.06169747784733773)),\n",
       " ('intollerante', (0.04630937278270719, 0.018830253183841683)),\n",
       " ('forte', (0.017174345999956125, 0.04354513809084892)),\n",
       " ('intelligente', (0.03490426987409592, 0.02297716066241265))]"
      ]
     },
     "metadata": {},
     "output_type": "display_data"
    },
    {
     "name": "stdout",
     "output_type": "stream",
     "text": [
      "YEAR: 2000_2020\n",
      "\n",
      "GROUP OF WORDS: adj_appearence\n"
     ]
    },
    {
     "data": {
      "text/plain": [
       "[('splendido', (0.2321123474277556, 0.23879115283489227)),\n",
       " ('bello', (0.20400625616312024, 0.24287821911275384)),\n",
       " ('carino', (0.20298417806625366, 0.2194873422384262)),\n",
       " ('brutto', (0.18941745273768903, 0.21321243215352298)),\n",
       " ('magro', (0.1708121598698199, 0.22759102652780713))]"
      ]
     },
     "metadata": {},
     "output_type": "display_data"
    },
    {
     "data": {
      "text/plain": [
       "[('brutto', (0.036147038638591755, 0.07031541541218758)),\n",
       " ('grasso', (0.030989691615104648, 0.06553504317998887)),\n",
       " ('splendido', (0.02797200679779055, 0.060581620037555683)),\n",
       " ('magro', (0.03267516419291497, 0.05526319965720178)),\n",
       " ('carino', (0.03242078125476838, 0.05203467607498169))]"
      ]
     },
     "metadata": {},
     "output_type": "display_data"
    },
    {
     "name": "stdout",
     "output_type": "stream",
     "text": [
      "\n",
      "GROUP OF WORDS: family\n"
     ]
    },
    {
     "data": {
      "text/plain": [
       "[('accudire', (0.15656095677986742, 0.2795771420001984)),\n",
       " ('matrimonio', (0.13093115501105787, 0.26796463280916216)),\n",
       " ('bambino', (0.1003171339631081, 0.2920272335410118)),\n",
       " ('famiglia', (0.07607961297035215, 0.29345365688204766)),\n",
       " ('genitore', (0.07827262431383136, 0.2845097199082375))]"
      ]
     },
     "metadata": {},
     "output_type": "display_data"
    },
    {
     "data": {
      "text/plain": [
       "[('bambino', (0.13286622762680056, 0.1645188242197037)),\n",
       " ('genitore', (0.07269190549850463, 0.14626477360725404)),\n",
       " ('figlio', (0.059806376695632935, 0.14622881412506106)),\n",
       " ('matrimonio', (0.08387655019760132, 0.1215805858373642)),\n",
       " ('accudire', (0.04681190699338911, 0.1523271650075913))]"
      ]
     },
     "metadata": {},
     "output_type": "display_data"
    },
    {
     "name": "stdout",
     "output_type": "stream",
     "text": [
      "\n",
      "GROUP OF WORDS: career\n"
     ]
    },
    {
     "data": {
      "text/plain": [
       "[('ambizione', (0.2148431606590748, 0.21751879230141638)),\n",
       " ('capo', (0.17123391069471833, 0.25887410603463645)),\n",
       " ('professionale', (0.14467998407781124, 0.2064649390988052)),\n",
       " ('carriera', (0.08848253348842264, 0.2572483248077333)),\n",
       " ('presidente', (0.1719780283048749, 0.15956985801458362))]"
      ]
     },
     "metadata": {},
     "output_type": "display_data"
    },
    {
     "data": {
      "text/plain": [
       "[('capo', (0.05353487581014632, 0.12474938258528712)),\n",
       " ('carriera', (0.053374727070331585, 0.10783589854836463)),\n",
       " ('professionale', (0.05188401751220226, 0.10866695009171962)),\n",
       " ('presidente', (0.10254200771450994, 0.028600705415010474)),\n",
       " ('salario', (0.017162413895130152, 0.07682775333523753))]"
      ]
     },
     "metadata": {},
     "output_type": "display_data"
    },
    {
     "name": "stdout",
     "output_type": "stream",
     "text": [
      "\n",
      "GROUP OF WORDS: rage\n"
     ]
    },
    {
     "data": {
      "text/plain": [
       "[('odioso', (0.12982693985104563, 0.28269260227680204)),\n",
       " ('intollerante', (0.20359759032726288, 0.2029814161360264)),\n",
       " ('brutale', (0.17357753142714502, 0.21855681464076043)),\n",
       " ('aggressivo', (0.17533129863440994, 0.1865725286304951)),\n",
       " ('cattivo', (0.1475215181708336, 0.21268564350903035))]"
      ]
     },
     "metadata": {},
     "output_type": "display_data"
    },
    {
     "data": {
      "text/plain": [
       "[('intollerante', (0.0516501307487488, 0.11020598262548448)),\n",
       " ('crudele', (0.05315009057521819, 0.10621553063392639)),\n",
       " ('brutale', (0.04133238643407822, 0.1172586813569069)),\n",
       " ('aggressivo', (0.03832031339406966, 0.1082120291888714)),\n",
       " ('odioso', (0.037263475358486176, 0.10249391943216321))]"
      ]
     },
     "metadata": {},
     "output_type": "display_data"
    },
    {
     "name": "stdout",
     "output_type": "stream",
     "text": [
      "\n",
      "GROUP OF WORDS: kindness\n"
     ]
    },
    {
     "data": {
      "text/plain": [
       "[('premuroso', (0.18205834999680517, 0.2550852030515671)),\n",
       " ('bravo', (0.2409793236292899, 0.1831913121044636)),\n",
       " ('sensibile', (0.131400590389967, 0.267646965989843)),\n",
       " ('gentile', (0.18545881221070887, 0.20764134526252748)),\n",
       " ('buono', (0.13134702555835248, 0.18063291981816293))]"
      ]
     },
     "metadata": {},
     "output_type": "display_data"
    },
    {
     "data": {
      "text/plain": [
       "[('premuroso', (0.037978085875511214, 0.1215027332305908)),\n",
       " ('sensibile', (0.005466257780790323, 0.09579338878393176)),\n",
       " ('bravo', (0.08073422610759734, 0.007922254502773285)),\n",
       " ('buono', (0.03069977797567844, 0.03125457093119621)),\n",
       " ('delicato', (0.018864141404628748, 0.03883741274476052))]"
      ]
     },
     "metadata": {},
     "output_type": "display_data"
    },
    {
     "name": "stdout",
     "output_type": "stream",
     "text": [
      "\n",
      "GROUP OF WORDS: intelligence\n"
     ]
    },
    {
     "data": {
      "text/plain": [
       "[('saggio', (0.22238048799335958, 0.24226958611980082)),\n",
       " ('intelligente', (0.23355127656832336, 0.17392892353236677)),\n",
       " ('studioso', (0.21015059761703014, 0.16030759960412982)),\n",
       " ('serio', (0.15933705836650913, 0.1750639558536932)),\n",
       " ('razionale', (0.15889099321793765, 0.13015674632042645))]"
      ]
     },
     "metadata": {},
     "output_type": "display_data"
    },
    {
     "data": {
      "text/plain": [
       "[('studioso', (0.12045981585979462, 0.0364097163081169)),\n",
       " ('saggio', (0.034888461232185364, 0.05554010272026064)),\n",
       " ('intelligente', (0.03181054368615152, 0.02820603027939797)),\n",
       " ('razionale', (0.026750864833593374, 0.027485740184783947)),\n",
       " ('serio', (0.002772757038474072, 0.03763275407254696))]"
      ]
     },
     "metadata": {},
     "output_type": "display_data"
    },
    {
     "name": "stdout",
     "output_type": "stream",
     "text": [
      "\n",
      "GROUP OF WORDS: dumbness\n"
     ]
    },
    {
     "data": {
      "text/plain": [
       "[('stupido', (0.20475073549896478, 0.18690763860940932)),\n",
       " ('isterico', (0.15704434141516688, 0.17455253303050994)),\n",
       " ('irrazionale', (0.1683617354836315, 0.11757107088342308)),\n",
       " ('superficiale', (0.15169344120658934, 0.09477180116809905)),\n",
       " ('illogico', (0.09534235298633575, 0.11689016753807663))]"
      ]
     },
     "metadata": {},
     "output_type": "display_data"
    },
    {
     "data": {
      "text/plain": [
       "[('stupido', (0.05753812938928604, 0.0717663526535034)),\n",
       " ('isterico', (0.006835126876831077, 0.09163966476917265)),\n",
       " ('superficiale', (0.033007498644292366, 0.06311778854578734)),\n",
       " ('illogico', (0.03340742886066436, 0.0457597590982914)),\n",
       " ('irrazionale', (0.024412751942872984, 0.04674737304449082))]"
      ]
     },
     "metadata": {},
     "output_type": "display_data"
    },
    {
     "name": "stdout",
     "output_type": "stream",
     "text": [
      "\n",
      "GROUP OF WORDS: active\n"
     ]
    },
    {
     "data": {
      "text/plain": [
       "[('assertivo', (0.1912206932902336, 0.20881420969963074)),\n",
       " ('sicuro', (0.1896138755604625, 0.1863387119024992)),\n",
       " ('ambizioso', (0.18584513925015925, 0.1230773744173348)),\n",
       " ('forte', (0.11385775953531266, 0.15544726364314557))]"
      ]
     },
     "metadata": {},
     "output_type": "display_data"
    },
    {
     "data": {
      "text/plain": [
       "[('assertivo', (0.016706019639968872, 0.06628664731979367)),\n",
       " ('sicuro', (0.012195199728012085, 0.050664389133453364)),\n",
       " ('ambizioso', (0.021860929578542715, 0.04037288278341292)),\n",
       " ('forte', (0.009525490552186988, 0.044112738966941845))]"
      ]
     },
     "metadata": {},
     "output_type": "display_data"
    },
    {
     "name": "stdout",
     "output_type": "stream",
     "text": [
      "\n",
      "GROUP OF WORDS: passive\n"
     ]
    },
    {
     "data": {
      "text/plain": [
       "[('silenzioso', (0.19418510496616365, 0.29868432432413106)),\n",
       " ('passivo', (0.14116910682059824, 0.2596414202358574)),\n",
       " ('timido', (0.16370119843631983, 0.1939509471412748)),\n",
       " ('insicuro', (0.11649196939542888, 0.23956150561571124)),\n",
       " ('debole', (0.11942418087273837, 0.21084939353168008))]"
      ]
     },
     "metadata": {},
     "output_type": "display_data"
    },
    {
     "data": {
      "text/plain": [
       "[('insicuro', (0.04294827878475191, 0.12081889212131497)),\n",
       " ('silenzioso', (0.03522815033793453, 0.08798891380429266)),\n",
       " ('passivo', (0.016424217075109465, 0.10360019952058791)),\n",
       " ('debole', (0.03893203735351561, 0.06396423578262328)),\n",
       " ('timido', (0.022811849042773252, 0.07496397271752357))]"
      ]
     },
     "metadata": {},
     "output_type": "display_data"
    },
    {
     "name": "stdout",
     "output_type": "stream",
     "text": [
      "\n",
      "GROUP OF WORDS: gendered_words\n"
     ]
    },
    {
     "data": {
      "text/plain": [
       "[('maschile', (0.17943231612443922, 0.3528124425560236)),\n",
       " ('femminile', (0.1435246616601944, 0.35056763626635074)),\n",
       " ('padre', (0.23089017532765865, 0.25165535584092136)),\n",
       " ('nonna', (0.17036014022305607, 0.29639343768358234)),\n",
       " ('fratello', (0.23090730989351868, 0.2177768006920815))]"
      ]
     },
     "metadata": {},
     "output_type": "display_data"
    },
    {
     "data": {
      "text/plain": [
       "[('femminile', (0.18150924742221836, 0.21225621849298476)),\n",
       " ('maschile', (0.1621879905462265, 0.22109586000442505)),\n",
       " ('ragazza', (0.13889702558517458, 0.16842510402202604)),\n",
       " ('madre', (0.09219689965248107, 0.183418008685112)),\n",
       " ('ragazzo', (0.10374293029308318, 0.1401538997888565))]"
      ]
     },
     "metadata": {},
     "output_type": "display_data"
    },
    {
     "name": "stdout",
     "output_type": "stream",
     "text": [
      "\n",
      "GROUP OF WORDS: female_stereotypes\n"
     ]
    },
    {
     "data": {
      "text/plain": [
       "[('silenzioso', (0.19418510496616365, 0.29868432432413106)),\n",
       " ('bello', (0.20400625616312024, 0.24287821911275384)),\n",
       " ('passivo', (0.14116910682059824, 0.2596414202358574)),\n",
       " ('sensibile', (0.131400590389967, 0.267646965989843)),\n",
       " ('gentile', (0.18545881221070887, 0.20764134526252748))]"
      ]
     },
     "metadata": {},
     "output_type": "display_data"
    },
    {
     "data": {
      "text/plain": [
       "[('insicuro', (0.04294827878475191, 0.12081889212131497)),\n",
       " ('silenzioso', (0.03522815033793453, 0.08798891380429266)),\n",
       " ('passivo', (0.016424217075109465, 0.10360019952058791)),\n",
       " ('debole', (0.03893203735351561, 0.06396423578262328)),\n",
       " ('sensibile', (0.005466257780790323, 0.09579338878393176))]"
      ]
     },
     "metadata": {},
     "output_type": "display_data"
    },
    {
     "name": "stdout",
     "output_type": "stream",
     "text": [
      "\n",
      "GROUP OF WORDS: male_stereotypes\n"
     ]
    },
    {
     "data": {
      "text/plain": [
       "[('saggio', (0.22238048799335958, 0.24226958611980082)),\n",
       " ('intelligente', (0.23355127656832336, 0.17392892353236677)),\n",
       " ('intollerante', (0.20359759032726288, 0.2029814161360264)),\n",
       " ('assertivo', (0.1912206932902336, 0.20881420969963074)),\n",
       " ('crudele', (0.12638892978429794, 0.23047578781843187))]"
      ]
     },
     "metadata": {},
     "output_type": "display_data"
    },
    {
     "data": {
      "text/plain": [
       "[('intollerante', (0.0516501307487488, 0.11020598262548448)),\n",
       " ('crudele', (0.05315009057521819, 0.10621553063392639)),\n",
       " ('saggio', (0.034888461232185364, 0.05554010272026064)),\n",
       " ('assertivo', (0.016706019639968872, 0.06628664731979367)),\n",
       " ('ambizioso', (0.021860929578542715, 0.04037288278341292))]"
      ]
     },
     "metadata": {},
     "output_type": "display_data"
    }
   ],
   "source": [
    "for year in YEARS:\n",
    "    print(f'YEAR: {year}')\n",
    "    dictionary_avg = top_bias_dict_avg_gender[year]\n",
    "    dictionary_NO_avg = top_bias_dict_NO_avg_gender[year]\n",
    "    for group in dictionary_avg.keys():\n",
    "        print(f'\\nGROUP OF WORDS: {group}')\n",
    "        display(dictionary_NO_avg[group][:5])\n",
    "        display(dictionary_avg[group][:5])"
   ]
  },
  {
   "cell_type": "code",
   "execution_count": null,
   "metadata": {},
   "outputs": [],
   "source": []
  }
 ],
 "metadata": {
  "kernelspec": {
   "display_name": "Python 3",
   "language": "python",
   "name": "python3"
  },
  "language_info": {
   "codemirror_mode": {
    "name": "ipython",
    "version": 3
   },
   "file_extension": ".py",
   "mimetype": "text/x-python",
   "name": "python",
   "nbconvert_exporter": "python",
   "pygments_lexer": "ipython3",
   "version": "3.8.5"
  }
 },
 "nbformat": 4,
 "nbformat_minor": 4
}
