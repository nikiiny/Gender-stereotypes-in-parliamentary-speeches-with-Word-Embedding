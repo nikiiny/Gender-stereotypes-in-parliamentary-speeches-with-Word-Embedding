{
 "cells": [
  {
   "cell_type": "markdown",
   "metadata": {},
   "source": [
    "# INFORMATION RETRIEVAL PROJECT"
   ]
  },
  {
   "cell_type": "markdown",
   "metadata": {},
   "source": [
    "---\n",
    "## Gender stereotypes in parliamentary speeches\n",
    "\n",
    "In word embedding models, each word is assigned to a high-dimensional vector such that the geometry of the vectors captures semantic relations between the words – e.g. vectors being closer together has been shown to correspond to more similar words. Recent works in machine learning demonstrate that word embeddings also capture common stereotypes, as these stereotypes are likely to be present, even if subtly, in the large corpora of training texts. These stereotypes are automatically learned by the embedding algorithm and could be problematic in many context if the embedding is then used for sensitive applications such as search rankings, product recommendations, or translations. An important direction of research is on developing algorithms to debias the word embeddings.\n",
    "\n",
    "This project aims to use the word embeddings to study historical trends – specifically trends in the gender and ethnic stereotypes in the Italian parliamentary speeches from 1948 to 2020."
   ]
  },
  {
   "cell_type": "code",
   "execution_count": 1,
   "metadata": {},
   "outputs": [
    {
     "name": "stderr",
     "output_type": "stream",
     "text": [
      "/Users/Niki/opt/anaconda3/lib/python3.8/site-packages/gensim/similarities/__init__.py:15: UserWarning: The gensim.similarities.levenshtein submodule is disabled, because the optional Levenshtein package <https://pypi.org/project/python-Levenshtein/> is unavailable. Install Levenhstein (e.g. `pip install python-Levenshtein`) to suppress this warning.\n",
      "  warnings.warn(msg)\n"
     ]
    }
   ],
   "source": [
    "import pymongo\n",
    "import numpy as np\n",
    "import pandas as pd\n",
    "from gensim.models import KeyedVectors\n",
    "from gensim.models import Word2Vec\n",
    "from tqdm.auto import tqdm\n",
    "import pickle\n",
    "import os\n",
    "from itertools import product# INFORMATION RETRIEVAL PROJECT\n",
    "import copy\n",
    "import warnings\n",
    "import math\n",
    "import gensim\n",
    "import matplotlib.pylab as plt\n",
    "from six import string_types\n",
    "from sklearn.metrics.pairwise import euclidean_distances\n",
    "from sklearn.metrics.pairwise import cosine_similarity\n",
    "from numba import jit\n",
    "from collections import defaultdict\n",
    "\n",
    "pd.set_option(\"display.max_rows\", 100, \"display.max_columns\", 100)"
   ]
  },
  {
   "cell_type": "markdown",
   "metadata": {},
   "source": [
    "# 2. ANALYSIS OF GENDER STEREOTYPES BY YEARS"
   ]
  },
  {
   "cell_type": "markdown",
   "metadata": {},
   "source": [
    "# 1) PRELIMINARY ANALYSIS\n",
    "Create a group of gendered words and retrieve the mean vector, then use it to retrieve the most similar words to the vector "
   ]
  },
  {
   "cell_type": "code",
   "execution_count": 2,
   "metadata": {},
   "outputs": [
    {
     "name": "stdout",
     "output_type": "stream",
     "text": [
      "W2V_by_years_1948_1968\r\n",
      "W2V_by_years_1948_1968.trainables.syn1neg.npy\r\n",
      "W2V_by_years_1948_1968.wv.vectors.npy\r\n",
      "W2V_by_years_1968_1985\r\n",
      "W2V_by_years_1968_1985.trainables.syn1neg.npy\r\n",
      "W2V_by_years_1968_1985.wv.vectors.npy\r\n",
      "W2V_by_years_1985_2000\r\n",
      "W2V_by_years_1985_2000.trainables.syn1neg.npy\r\n",
      "W2V_by_years_1985_2000.wv.vectors.npy\r\n",
      "W2V_by_years_2000_2020\r\n",
      "W2V_by_years_2000_2020.trainables.syn1neg.npy\r\n",
      "W2V_by_years_2000_2020.wv.vectors.npy\r\n"
     ]
    }
   ],
   "source": [
    "!ls we_models"
   ]
  },
  {
   "cell_type": "code",
   "execution_count": 3,
   "metadata": {},
   "outputs": [
    {
     "name": "stdout",
     "output_type": "stream",
     "text": [
      "total 1088408\r\n",
      "-rw-r--r--  1 Niki  staff   4,5M 29 Giu 10:39 W2V_by_years_1948_1968\r\n",
      "-rw-r--r--  1 Niki  staff    84M 29 Giu 10:39 W2V_by_years_1948_1968.trainables.syn1neg.npy\r\n",
      "-rw-r--r--  1 Niki  staff    84M 29 Giu 10:40 W2V_by_years_1948_1968.wv.vectors.npy\r\n",
      "-rw-r--r--  1 Niki  staff   3,5M 29 Giu 10:40 W2V_by_years_1968_1985\r\n",
      "-rw-r--r--  1 Niki  staff    65M 29 Giu 10:40 W2V_by_years_1968_1985.trainables.syn1neg.npy\r\n",
      "-rw-r--r--  1 Niki  staff    65M 29 Giu 10:41 W2V_by_years_1968_1985.wv.vectors.npy\r\n",
      "-rw-r--r--  1 Niki  staff   3,0M 29 Giu 10:41 W2V_by_years_1985_2000\r\n",
      "-rw-r--r--  1 Niki  staff    57M 29 Giu 10:41 W2V_by_years_1985_2000.trainables.syn1neg.npy\r\n",
      "-rw-r--r--  1 Niki  staff    57M 29 Giu 10:41 W2V_by_years_1985_2000.wv.vectors.npy\r\n",
      "-rw-r--r--  1 Niki  staff   2,8M 29 Giu 10:41 W2V_by_years_2000_2020\r\n",
      "-rw-r--r--  1 Niki  staff    52M 29 Giu 10:42 W2V_by_years_2000_2020.trainables.syn1neg.npy\r\n",
      "-rw-r--r--  1 Niki  staff    52M 29 Giu 10:42 W2V_by_years_2000_2020.wv.vectors.npy\r\n"
     ]
    }
   ],
   "source": [
    "!ls -lh we_models"
   ]
  },
  {
   "cell_type": "code",
   "execution_count": 2,
   "metadata": {},
   "outputs": [],
   "source": [
    "from INFORET_project import calculate_avg_vector, similar_to_avg_vector \n",
    "from INFORET_project import Analogies\n",
    "from INFORET_project.data import gendered_neutral_words"
   ]
  },
  {
   "cell_type": "code",
   "execution_count": 3,
   "metadata": {
    "scrolled": true
   },
   "outputs": [
    {
     "name": "stdout",
     "output_type": "stream",
     "text": [
      "\n",
      "Years: 1948_1968\n",
      "\n",
      "Most similar words to male vector:\n"
     ]
    },
    {
     "data": {
      "text/plain": [
       "[('Zappelli', 0.5698506832122803),\n",
       " ('Settembrini', 0.5646949410438538),\n",
       " ('lei', 0.562781572341919),\n",
       " ('Lho', 0.5611302256584167),\n",
       " ('maschiare', 0.5558352470397949),\n",
       " ('divulgatore', 0.5550841093063354),\n",
       " ('Uscito', 0.5509503483772278),\n",
       " ('brav', 0.5507361888885498),\n",
       " ('piglio', 0.5503260493278503),\n",
       " ('Spellanzon', 0.5499021410942078),\n",
       " ('Montemartini', 0.5494170188903809),\n",
       " ('Maffi', 0.545027494430542),\n",
       " ('Roggero', 0.5446869134902954),\n",
       " ('possedette', 0.543790876865387),\n",
       " ('casata', 0.5433430075645447),\n",
       " ('Olgiati', 0.5430217981338501),\n",
       " ('causidica', 0.5428649187088013),\n",
       " ('novantenne', 0.5408570170402527),\n",
       " ('Ricordati', 0.539644181728363),\n",
       " ('Filpo', 0.5394607186317444)]"
      ]
     },
     "metadata": {},
     "output_type": "display_data"
    },
    {
     "name": "stdout",
     "output_type": "stream",
     "text": [
      "\n",
      "Most similar words to female vector:\n"
     ]
    },
    {
     "data": {
      "text/plain": [
       "[('maschio', 0.6027352809906006),\n",
       " ('coniugato', 0.5403891801834106),\n",
       " ('bambino', 0.5359815359115601),\n",
       " ('madre', 0.5300886034965515),\n",
       " ('A4110ra', 0.5290261507034302),\n",
       " ('Duro', 0.5266222953796387),\n",
       " ('pizza', 0.5260553359985352),\n",
       " ('traviata', 0.5229917764663696),\n",
       " ('caramellare', 0.5219253301620483),\n",
       " ('Speravano', 0.519498884677887),\n",
       " ('educabili', 0.5186226963996887),\n",
       " ('piazzarsi', 0.5178252458572388),\n",
       " ('tenerissima', 0.5173928141593933),\n",
       " ('ragazza', 0.516727864742279),\n",
       " ('PerchP', 0.5149996280670166),\n",
       " ('Parlavamo', 0.5093346238136292),\n",
       " ('epoi', 0.5088962316513062),\n",
       " ('magliaie', 0.5078704953193665),\n",
       " ('Nbn', 0.507202684879303),\n",
       " ('ragazzina', 0.5067441463470459)]"
      ]
     },
     "metadata": {},
     "output_type": "display_data"
    },
    {
     "name": "stdout",
     "output_type": "stream",
     "text": [
      "\n",
      "Years: 1968_1985\n",
      "\n",
      "Most similar words to male vector:\n"
     ]
    },
    {
     "data": {
      "text/plain": [
       "[('imparentare', 0.5919234752655029),\n",
       " ('dabbene', 0.5873482823371887),\n",
       " ('Cascavilla', 0.5757697224617004),\n",
       " ('moraleggiare', 0.57254558801651),\n",
       " ('Pascal', 0.5718967914581299),\n",
       " ('degnissima', 0.5694552063941956),\n",
       " ('toccarla', 0.5629111528396606),\n",
       " ('incestuoso', 0.5626682639122009),\n",
       " ('Mahler', 0.5580506324768066),\n",
       " ('Pagheranno', 0.5543779730796814),\n",
       " ('Ponzo', 0.5536849498748779),\n",
       " ('Studenti', 0.5516732931137085),\n",
       " ('andarvi', 0.5507052540779114),\n",
       " ('integerrimo', 0.5496920943260193),\n",
       " ('focoso', 0.5495660305023193),\n",
       " ('sottoccupato', 0.5480859279632568),\n",
       " ('peccatore', 0.5471469759941101),\n",
       " ('svillaneggiare', 0.5464788675308228),\n",
       " ('suggestivamente', 0.5458648800849915),\n",
       " ('violabili', 0.545601487159729)]"
      ]
     },
     "metadata": {},
     "output_type": "display_data"
    },
    {
     "name": "stdout",
     "output_type": "stream",
     "text": [
      "\n",
      "Most similar words to female vector:\n"
     ]
    },
    {
     "data": {
      "text/plain": [
       "[('emancipato', 0.6487357020378113),\n",
       " ('sessualmente', 0.6152198314666748),\n",
       " ('maschiare', 0.6015832424163818),\n",
       " ('giovanissime', 0.5884872674942017),\n",
       " ('nubile', 0.5852416157722473),\n",
       " ('focomelico', 0.5786728858947754),\n",
       " ('55°', 0.5733279585838318),\n",
       " ('evirare', 0.5684111714363098),\n",
       " ('lei', 0.5655562281608582),\n",
       " ('lesbica', 0.565072774887085),\n",
       " ('abortire', 0.5640296339988708),\n",
       " ('ragazza', 0.5634415149688721),\n",
       " ('sgraziato', 0.5633205771446228),\n",
       " ('incinto', 0.5623881220817566),\n",
       " ('Resti', 0.5620538592338562),\n",
       " ('puerpera', 0.561506450176239),\n",
       " ('Vapona', 0.5599506497383118),\n",
       " ('malformato', 0.5562317371368408),\n",
       " ('nutrice', 0.5554565191268921),\n",
       " ('incestuoso', 0.5538656711578369)]"
      ]
     },
     "metadata": {},
     "output_type": "display_data"
    },
    {
     "name": "stdout",
     "output_type": "stream",
     "text": [
      "\n",
      "Years: 1985_2000\n",
      "\n",
      "Most similar words to male vector:\n"
     ]
    },
    {
     "data": {
      "text/plain": [
       "[('capoccia', 0.5751026272773743),\n",
       " ('supplicare', 0.5648277401924133),\n",
       " ('evangelista', 0.5597399473190308),\n",
       " ('coglione', 0.5544094443321228),\n",
       " ('prostituire', 0.5524687767028809),\n",
       " ('tenerezza', 0.5514913201332092),\n",
       " ('aguzzino', 0.5504509210586548),\n",
       " ('Nietzsche', 0.5490137338638306),\n",
       " ('immodestamente', 0.545851469039917),\n",
       " ('sentirla', 0.5446656942367554),\n",
       " ('battagliero', 0.5441685914993286),\n",
       " ('Votano', 0.5432336330413818),\n",
       " ('squartare', 0.542973518371582),\n",
       " ('Parlava', 0.5422471165657043),\n",
       " ('abate', 0.5420100092887878),\n",
       " ('cannonata', 0.5413274765014648),\n",
       " ('ubriacare', 0.5363138318061829),\n",
       " ('motoretta', 0.5358209609985352),\n",
       " ('Arbore', 0.5346950888633728),\n",
       " ('Milton', 0.5343030691146851)]"
      ]
     },
     "metadata": {},
     "output_type": "display_data"
    },
    {
     "name": "stdout",
     "output_type": "stream",
     "text": [
      "\n",
      "Most similar words to female vector:\n"
     ]
    },
    {
     "data": {
      "text/plain": [
       "[('divorziato', 0.5739867091178894),\n",
       " ('menopausa', 0.5716233849525452),\n",
       " ('giovanissime', 0.5603377819061279),\n",
       " ('incinto', 0.558162271976471),\n",
       " ('partoriente', 0.5513758659362793),\n",
       " ('sieropositivo', 0.551144540309906),\n",
       " ('monoparentali', 0.5507063269615173),\n",
       " ('empowerment', 0.5504602789878845),\n",
       " ('motoretta', 0.5501375198364258),\n",
       " ('bambino', 0.548194408416748),\n",
       " ('single', 0.546561062335968),\n",
       " ('bambina', 0.5425636768341064),\n",
       " ('persona', 0.5407829284667969),\n",
       " ('ragazza', 0.5405844449996948),\n",
       " ('accudire', 0.5405091643333435),\n",
       " ('adulto', 0.5365861654281616),\n",
       " ('giovane', 0.5364285707473755),\n",
       " ('procreare', 0.5351355075836182),\n",
       " ('studentessa', 0.5350608229637146),\n",
       " ('maciullare', 0.5350210070610046)]"
      ]
     },
     "metadata": {},
     "output_type": "display_data"
    },
    {
     "name": "stdout",
     "output_type": "stream",
     "text": [
      "\n",
      "Years: 2000_2020\n",
      "\n",
      "Most similar words to male vector:\n"
     ]
    },
    {
     "data": {
      "text/plain": [
       "[('moderatore', 0.5495796799659729),\n",
       " ('magistrate', 0.537135124206543),\n",
       " ('Uomini', 0.525381326675415),\n",
       " ('probo', 0.5215122103691101),\n",
       " ('anonimamente', 0.518482506275177),\n",
       " ('gesuita', 0.517815887928009),\n",
       " ('Mensorio', 0.5054284930229187),\n",
       " ('Franchi', 0.5021278262138367),\n",
       " ('PadoaSchioppa', 0.5015751719474792),\n",
       " ('Masih', 0.5006906390190125),\n",
       " ('Rapisarda', 0.49734416604042053),\n",
       " ('Restituiamo', 0.49563267827033997),\n",
       " ('Pinchera', 0.4954855442047119),\n",
       " ('eroicamente', 0.4952343702316284),\n",
       " ('icari', 0.49391478300094604),\n",
       " ('Castiglioni', 0.49375438690185547),\n",
       " ('semianalfabeta', 0.4926125407218933),\n",
       " ('onorabile', 0.49101564288139343),\n",
       " ('Sponziello', 0.4908043444156647),\n",
       " ('Dracula', 0.4868161976337433)]"
      ]
     },
     "metadata": {},
     "output_type": "display_data"
    },
    {
     "name": "stdout",
     "output_type": "stream",
     "text": [
      "\n",
      "Most similar words to female vector:\n"
     ]
    },
    {
     "data": {
      "text/plain": [
       "[('incinto', 0.61652010679245),\n",
       " ('maschiare', 0.5876336693763733),\n",
       " ('bambina', 0.5753710865974426),\n",
       " ('spose', 0.5685369372367859),\n",
       " ('uomini', 0.5532326102256775),\n",
       " ('Uomini', 0.5529881715774536),\n",
       " ('picchiata', 0.5529308915138245),\n",
       " ('normodotate', 0.5496178865432739),\n",
       " ('genealogia', 0.5464109182357788),\n",
       " ('ragazza', 0.5432000756263733),\n",
       " ('monoparentali', 0.5316020846366882),\n",
       " ('fattrice', 0.5290380716323853),\n",
       " ('puerpera', 0.5267908573150635),\n",
       " ('femminilita', 0.5266191363334656),\n",
       " ('giovanissime', 0.5249960422515869),\n",
       " ('persona', 0.5235183835029602),\n",
       " ('bambino', 0.5234599113464355),\n",
       " ('bisessuale', 0.5211064219474792),\n",
       " ('giovanissima', 0.5206022262573242),\n",
       " ('menopausa', 0.5193460583686829)]"
      ]
     },
     "metadata": {},
     "output_type": "display_data"
    }
   ],
   "source": [
    "W2V_models = !ls we_models/W2V_by_years_????_????\n",
    "\n",
    "for path in W2V_models:\n",
    "    print(f\"\\nYears: {path[-9:]}\")\n",
    "    model = KeyedVectors.load(path)\n",
    "    \n",
    "    for gender in ['male','female']:\n",
    "        print(f\"\\nMost similar words to {gender} vector:\")\n",
    "        _ = similar_to_avg_vector(model.wv, gendered_neutral_words[gender]) # SISTEMA!"
   ]
  },
  {
   "cell_type": "markdown",
   "metadata": {},
   "source": [
    "# 2) ANALOGIES"
   ]
  },
  {
   "cell_type": "code",
   "execution_count": 177,
   "metadata": {},
   "outputs": [
    {
     "name": "stdout",
     "output_type": "stream",
     "text": [
      "Requirement already satisfied: fastdist in /Users/Niki/opt/anaconda3/lib/python3.8/site-packages (1.1.2)\n",
      "Note: you may need to restart the kernel to use updated packages.\n"
     ]
    }
   ],
   "source": [
    "#pip install fastdist"
   ]
  },
  {
   "cell_type": "code",
   "execution_count": 2,
   "metadata": {},
   "outputs": [],
   "source": [
    "#conda install numba"
   ]
  },
  {
   "cell_type": "code",
   "execution_count": 3,
   "metadata": {},
   "outputs": [],
   "source": [
    "import pymongo\n",
    "import numpy as np\n",
    "import pandas as pd\n",
    "from gensim.models import KeyedVectors\n",
    "from gensim.models import Word2Vec\n",
    "from tqdm.auto import tqdm\n",
    "import pickle\n",
    "import os\n",
    "from itertools import product# INFORMATION RETRIEVAL PROJECT"
   ]
  },
  {
   "cell_type": "code",
   "execution_count": 4,
   "metadata": {},
   "outputs": [],
   "source": [
    "model = KeyedVectors.load('we_models/W2V_by_years_1948_1968')"
   ]
  },
  {
   "cell_type": "code",
   "execution_count": 5,
   "metadata": {},
   "outputs": [],
   "source": [
    "from INFORET_project.data import gendered_neutral_words"
   ]
  },
  {
   "cell_type": "code",
   "execution_count": 6,
   "metadata": {},
   "outputs": [],
   "source": [
    "analogies = Analogies(model.wv)"
   ]
  },
  {
   "cell_type": "code",
   "execution_count": 17,
   "metadata": {},
   "outputs": [
    {
     "data": {
      "text/html": [
       "<div>\n",
       "<style scoped>\n",
       "    .dataframe tbody tr th:only-of-type {\n",
       "        vertical-align: middle;\n",
       "    }\n",
       "\n",
       "    .dataframe tbody tr th {\n",
       "        vertical-align: top;\n",
       "    }\n",
       "\n",
       "    .dataframe thead th {\n",
       "        text-align: right;\n",
       "    }\n",
       "</style>\n",
       "<table border=\"1\" class=\"dataframe\">\n",
       "  <thead>\n",
       "    <tr style=\"text-align: right;\">\n",
       "      <th></th>\n",
       "      <th>uomo</th>\n",
       "      <th>donna</th>\n",
       "      <th>distance</th>\n",
       "      <th>score</th>\n",
       "      <th>most_x</th>\n",
       "      <th>most_y</th>\n",
       "      <th>match</th>\n",
       "    </tr>\n",
       "  </thead>\n",
       "  <tbody>\n",
       "    <tr>\n",
       "      <th>0</th>\n",
       "      <td>uomini</td>\n",
       "      <td>donna</td>\n",
       "      <td>0.836140</td>\n",
       "      <td>0.001176</td>\n",
       "      <td>uomo</td>\n",
       "      <td>donna</td>\n",
       "      <td>False</td>\n",
       "    </tr>\n",
       "    <tr>\n",
       "      <th>1</th>\n",
       "      <td>imprendere</td>\n",
       "      <td>impresa</td>\n",
       "      <td>0.869066</td>\n",
       "      <td>0.001040</td>\n",
       "      <td>impresa</td>\n",
       "      <td>imprendere</td>\n",
       "      <td>False</td>\n",
       "    </tr>\n",
       "    <tr>\n",
       "      <th>2</th>\n",
       "      <td>immigrare</td>\n",
       "      <td>immigrato</td>\n",
       "      <td>0.944050</td>\n",
       "      <td>0.001001</td>\n",
       "      <td>immigrato</td>\n",
       "      <td>immigrare</td>\n",
       "      <td>False</td>\n",
       "    </tr>\n",
       "    <tr>\n",
       "      <th>3</th>\n",
       "      <td>amicare</td>\n",
       "      <td>amico</td>\n",
       "      <td>0.963701</td>\n",
       "      <td>0.000994</td>\n",
       "      <td>amico</td>\n",
       "      <td>amicare</td>\n",
       "      <td>False</td>\n",
       "    </tr>\n",
       "    <tr>\n",
       "      <th>4</th>\n",
       "      <td>figliare</td>\n",
       "      <td>bambina</td>\n",
       "      <td>0.986153</td>\n",
       "      <td>0.000976</td>\n",
       "      <td>uomo</td>\n",
       "      <td>figliare</td>\n",
       "      <td>False</td>\n",
       "    </tr>\n",
       "    <tr>\n",
       "      <th>5</th>\n",
       "      <td>incenerimento</td>\n",
       "      <td>discarica</td>\n",
       "      <td>0.970220</td>\n",
       "      <td>0.000870</td>\n",
       "      <td>discarica</td>\n",
       "      <td>incenerimento</td>\n",
       "      <td>False</td>\n",
       "    </tr>\n",
       "    <tr>\n",
       "      <th>6</th>\n",
       "      <td>padre</td>\n",
       "      <td>madre</td>\n",
       "      <td>0.880906</td>\n",
       "      <td>0.000867</td>\n",
       "      <td>uomo</td>\n",
       "      <td>padre</td>\n",
       "      <td>False</td>\n",
       "    </tr>\n",
       "    <tr>\n",
       "      <th>7</th>\n",
       "      <td>estorsione</td>\n",
       "      <td>prostituzione</td>\n",
       "      <td>0.940585</td>\n",
       "      <td>0.000855</td>\n",
       "      <td>prostituzione</td>\n",
       "      <td>estorsione</td>\n",
       "      <td>False</td>\n",
       "    </tr>\n",
       "    <tr>\n",
       "      <th>8</th>\n",
       "      <td>Arma</td>\n",
       "      <td>Forze</td>\n",
       "      <td>0.976449</td>\n",
       "      <td>0.000846</td>\n",
       "      <td>Forze</td>\n",
       "      <td>Arma</td>\n",
       "      <td>False</td>\n",
       "    </tr>\n",
       "    <tr>\n",
       "      <th>9</th>\n",
       "      <td>barbarie</td>\n",
       "      <td>violenza</td>\n",
       "      <td>0.991629</td>\n",
       "      <td>0.000819</td>\n",
       "      <td>uomo</td>\n",
       "      <td>barbarie</td>\n",
       "      <td>False</td>\n",
       "    </tr>\n",
       "    <tr>\n",
       "      <th>10</th>\n",
       "      <td>Lumia</td>\n",
       "      <td>Maura</td>\n",
       "      <td>0.858465</td>\n",
       "      <td>0.000796</td>\n",
       "      <td>Maura</td>\n",
       "      <td>Lumia</td>\n",
       "      <td>False</td>\n",
       "    </tr>\n",
       "    <tr>\n",
       "      <th>11</th>\n",
       "      <td>delitto</td>\n",
       "      <td>stalking</td>\n",
       "      <td>0.963559</td>\n",
       "      <td>0.000788</td>\n",
       "      <td>stalking</td>\n",
       "      <td>delitto</td>\n",
       "      <td>False</td>\n",
       "    </tr>\n",
       "    <tr>\n",
       "      <th>12</th>\n",
       "      <td>Palomba</td>\n",
       "      <td>Rondini</td>\n",
       "      <td>0.951331</td>\n",
       "      <td>0.000782</td>\n",
       "      <td>Rondini</td>\n",
       "      <td>Palomba</td>\n",
       "      <td>False</td>\n",
       "    </tr>\n",
       "    <tr>\n",
       "      <th>13</th>\n",
       "      <td>eguaglianza</td>\n",
       "      <td>parita</td>\n",
       "      <td>0.939678</td>\n",
       "      <td>0.000776</td>\n",
       "      <td>parita</td>\n",
       "      <td>eguaglianza</td>\n",
       "      <td>False</td>\n",
       "    </tr>\n",
       "    <tr>\n",
       "      <th>14</th>\n",
       "      <td>eleggere</td>\n",
       "      <td>eletto</td>\n",
       "      <td>0.689584</td>\n",
       "      <td>0.000774</td>\n",
       "      <td>eletto</td>\n",
       "      <td>eleggere</td>\n",
       "      <td>False</td>\n",
       "    </tr>\n",
       "    <tr>\n",
       "      <th>15</th>\n",
       "      <td>Stradella</td>\n",
       "      <td>Bertolini</td>\n",
       "      <td>0.993763</td>\n",
       "      <td>0.000773</td>\n",
       "      <td>Bertolini</td>\n",
       "      <td>Stradella</td>\n",
       "      <td>False</td>\n",
       "    </tr>\n",
       "    <tr>\n",
       "      <th>16</th>\n",
       "      <td>papa</td>\n",
       "      <td>mamma</td>\n",
       "      <td>0.890533</td>\n",
       "      <td>0.000755</td>\n",
       "      <td>uomo</td>\n",
       "      <td>papa</td>\n",
       "      <td>False</td>\n",
       "    </tr>\n",
       "    <tr>\n",
       "      <th>17</th>\n",
       "      <td>otto</td>\n",
       "      <td>ventuno</td>\n",
       "      <td>0.990712</td>\n",
       "      <td>0.000730</td>\n",
       "      <td>ventuno</td>\n",
       "      <td>otto</td>\n",
       "      <td>False</td>\n",
       "    </tr>\n",
       "    <tr>\n",
       "      <th>18</th>\n",
       "      <td>nascere</td>\n",
       "      <td>nato</td>\n",
       "      <td>0.777923</td>\n",
       "      <td>0.000724</td>\n",
       "      <td>nato</td>\n",
       "      <td>nascere</td>\n",
       "      <td>False</td>\n",
       "    </tr>\n",
       "    <tr>\n",
       "      <th>19</th>\n",
       "      <td>insegnamento</td>\n",
       "      <td>scuola</td>\n",
       "      <td>0.949248</td>\n",
       "      <td>0.000722</td>\n",
       "      <td>scuola</td>\n",
       "      <td>insegnamento</td>\n",
       "      <td>False</td>\n",
       "    </tr>\n",
       "    <tr>\n",
       "      <th>20</th>\n",
       "      <td>professore</td>\n",
       "      <td>ricercatore</td>\n",
       "      <td>0.986797</td>\n",
       "      <td>0.000713</td>\n",
       "      <td>ricercatore</td>\n",
       "      <td>professore</td>\n",
       "      <td>False</td>\n",
       "    </tr>\n",
       "    <tr>\n",
       "      <th>21</th>\n",
       "      <td>banchiere</td>\n",
       "      <td>banca</td>\n",
       "      <td>0.995695</td>\n",
       "      <td>0.000704</td>\n",
       "      <td>banca</td>\n",
       "      <td>banchiere</td>\n",
       "      <td>False</td>\n",
       "    </tr>\n",
       "    <tr>\n",
       "      <th>22</th>\n",
       "      <td>Esercito</td>\n",
       "      <td>armato</td>\n",
       "      <td>0.955634</td>\n",
       "      <td>0.000704</td>\n",
       "      <td>armato</td>\n",
       "      <td>Esercito</td>\n",
       "      <td>False</td>\n",
       "    </tr>\n",
       "    <tr>\n",
       "      <th>23</th>\n",
       "      <td>confondere</td>\n",
       "      <td>confuso</td>\n",
       "      <td>0.984329</td>\n",
       "      <td>0.000701</td>\n",
       "      <td>confuso</td>\n",
       "      <td>confondere</td>\n",
       "      <td>False</td>\n",
       "    </tr>\n",
       "    <tr>\n",
       "      <th>24</th>\n",
       "      <td>direttore</td>\n",
       "      <td>direttorio</td>\n",
       "      <td>0.843363</td>\n",
       "      <td>0.000701</td>\n",
       "      <td>direttorio</td>\n",
       "      <td>direttore</td>\n",
       "      <td>False</td>\n",
       "    </tr>\n",
       "    <tr>\n",
       "      <th>25</th>\n",
       "      <td>fabbricare</td>\n",
       "      <td>fabbrica</td>\n",
       "      <td>0.973173</td>\n",
       "      <td>0.000697</td>\n",
       "      <td>fabbrica</td>\n",
       "      <td>fabbricare</td>\n",
       "      <td>False</td>\n",
       "    </tr>\n",
       "    <tr>\n",
       "      <th>26</th>\n",
       "      <td>Lupi</td>\n",
       "      <td>Carfagna</td>\n",
       "      <td>0.955659</td>\n",
       "      <td>0.000695</td>\n",
       "      <td>Carfagna</td>\n",
       "      <td>Lupi</td>\n",
       "      <td>False</td>\n",
       "    </tr>\n",
       "    <tr>\n",
       "      <th>27</th>\n",
       "      <td>nominare</td>\n",
       "      <td>nomina</td>\n",
       "      <td>0.880935</td>\n",
       "      <td>0.000694</td>\n",
       "      <td>nomina</td>\n",
       "      <td>nominare</td>\n",
       "      <td>False</td>\n",
       "    </tr>\n",
       "    <tr>\n",
       "      <th>28</th>\n",
       "      <td>ferire</td>\n",
       "      <td>ferito</td>\n",
       "      <td>0.976121</td>\n",
       "      <td>0.000691</td>\n",
       "      <td>ferito</td>\n",
       "      <td>ferire</td>\n",
       "      <td>False</td>\n",
       "    </tr>\n",
       "    <tr>\n",
       "      <th>29</th>\n",
       "      <td>dovra</td>\n",
       "      <td>debbono</td>\n",
       "      <td>0.959337</td>\n",
       "      <td>0.000690</td>\n",
       "      <td>debbono</td>\n",
       "      <td>dovra</td>\n",
       "      <td>False</td>\n",
       "    </tr>\n",
       "    <tr>\n",
       "      <th>30</th>\n",
       "      <td>Perrotta</td>\n",
       "      <td>Ascierto</td>\n",
       "      <td>0.974402</td>\n",
       "      <td>0.000690</td>\n",
       "      <td>Ascierto</td>\n",
       "      <td>Perrotta</td>\n",
       "      <td>False</td>\n",
       "    </tr>\n",
       "    <tr>\n",
       "      <th>31</th>\n",
       "      <td>candidare</td>\n",
       "      <td>candidato</td>\n",
       "      <td>0.844000</td>\n",
       "      <td>0.000688</td>\n",
       "      <td>candidato</td>\n",
       "      <td>candidare</td>\n",
       "      <td>False</td>\n",
       "    </tr>\n",
       "    <tr>\n",
       "      <th>32</th>\n",
       "      <td>obiettivita</td>\n",
       "      <td>serenita</td>\n",
       "      <td>0.952745</td>\n",
       "      <td>0.000688</td>\n",
       "      <td>serenita</td>\n",
       "      <td>obiettivita</td>\n",
       "      <td>False</td>\n",
       "    </tr>\n",
       "    <tr>\n",
       "      <th>33</th>\n",
       "      <td>immobile</td>\n",
       "      <td>alloggio</td>\n",
       "      <td>0.843428</td>\n",
       "      <td>0.000685</td>\n",
       "      <td>alloggio</td>\n",
       "      <td>immobile</td>\n",
       "      <td>False</td>\n",
       "    </tr>\n",
       "    <tr>\n",
       "      <th>34</th>\n",
       "      <td>arrestare</td>\n",
       "      <td>flagranza</td>\n",
       "      <td>0.923876</td>\n",
       "      <td>0.000674</td>\n",
       "      <td>flagranza</td>\n",
       "      <td>arrestare</td>\n",
       "      <td>False</td>\n",
       "    </tr>\n",
       "    <tr>\n",
       "      <th>35</th>\n",
       "      <td>populista</td>\n",
       "      <td>xenofobo</td>\n",
       "      <td>0.943513</td>\n",
       "      <td>0.000673</td>\n",
       "      <td>xenofobo</td>\n",
       "      <td>populista</td>\n",
       "      <td>False</td>\n",
       "    </tr>\n",
       "    <tr>\n",
       "      <th>36</th>\n",
       "      <td>dittatore</td>\n",
       "      <td>dittatura</td>\n",
       "      <td>0.983878</td>\n",
       "      <td>0.000671</td>\n",
       "      <td>dittatura</td>\n",
       "      <td>dittatore</td>\n",
       "      <td>False</td>\n",
       "    </tr>\n",
       "    <tr>\n",
       "      <th>37</th>\n",
       "      <td>immigrazione</td>\n",
       "      <td>irregolare</td>\n",
       "      <td>0.978379</td>\n",
       "      <td>0.000671</td>\n",
       "      <td>irregolare</td>\n",
       "      <td>immigrazione</td>\n",
       "      <td>False</td>\n",
       "    </tr>\n",
       "    <tr>\n",
       "      <th>38</th>\n",
       "      <td>embrione</td>\n",
       "      <td>procreazione</td>\n",
       "      <td>0.980118</td>\n",
       "      <td>0.000662</td>\n",
       "      <td>uomo</td>\n",
       "      <td>embrione</td>\n",
       "      <td>False</td>\n",
       "    </tr>\n",
       "    <tr>\n",
       "      <th>39</th>\n",
       "      <td>Nannicini</td>\n",
       "      <td>Deiana</td>\n",
       "      <td>0.962602</td>\n",
       "      <td>0.000656</td>\n",
       "      <td>Deiana</td>\n",
       "      <td>Nannicini</td>\n",
       "      <td>False</td>\n",
       "    </tr>\n",
       "    <tr>\n",
       "      <th>40</th>\n",
       "      <td>Convenzione</td>\n",
       "      <td>Istanbul</td>\n",
       "      <td>0.848744</td>\n",
       "      <td>0.000656</td>\n",
       "      <td>Istanbul</td>\n",
       "      <td>Convenzione</td>\n",
       "      <td>False</td>\n",
       "    </tr>\n",
       "    <tr>\n",
       "      <th>41</th>\n",
       "      <td>licenziare</td>\n",
       "      <td>licenziato</td>\n",
       "      <td>0.894577</td>\n",
       "      <td>0.000654</td>\n",
       "      <td>licenziato</td>\n",
       "      <td>licenziare</td>\n",
       "      <td>False</td>\n",
       "    </tr>\n",
       "    <tr>\n",
       "      <th>42</th>\n",
       "      <td>inviolabile</td>\n",
       "      <td>liberta</td>\n",
       "      <td>0.964115</td>\n",
       "      <td>0.000654</td>\n",
       "      <td>liberta</td>\n",
       "      <td>inviolabile</td>\n",
       "      <td>False</td>\n",
       "    </tr>\n",
       "    <tr>\n",
       "      <th>43</th>\n",
       "      <td>minuto</td>\n",
       "      <td>ora</td>\n",
       "      <td>0.990075</td>\n",
       "      <td>0.000650</td>\n",
       "      <td>ora</td>\n",
       "      <td>minuto</td>\n",
       "      <td>False</td>\n",
       "    </tr>\n",
       "    <tr>\n",
       "      <th>44</th>\n",
       "      <td>assettare</td>\n",
       "      <td>assetto</td>\n",
       "      <td>0.917056</td>\n",
       "      <td>0.000650</td>\n",
       "      <td>assetto</td>\n",
       "      <td>assettare</td>\n",
       "      <td>False</td>\n",
       "    </tr>\n",
       "    <tr>\n",
       "      <th>45</th>\n",
       "      <td>industriare</td>\n",
       "      <td>industria</td>\n",
       "      <td>0.893487</td>\n",
       "      <td>0.000648</td>\n",
       "      <td>industria</td>\n",
       "      <td>industriare</td>\n",
       "      <td>False</td>\n",
       "    </tr>\n",
       "    <tr>\n",
       "      <th>46</th>\n",
       "      <td>perbene</td>\n",
       "      <td>persona</td>\n",
       "      <td>0.984388</td>\n",
       "      <td>0.000647</td>\n",
       "      <td>uomo</td>\n",
       "      <td>perbene</td>\n",
       "      <td>False</td>\n",
       "    </tr>\n",
       "    <tr>\n",
       "      <th>47</th>\n",
       "      <td>giurista</td>\n",
       "      <td>studioso</td>\n",
       "      <td>0.954707</td>\n",
       "      <td>0.000647</td>\n",
       "      <td>studioso</td>\n",
       "      <td>giurista</td>\n",
       "      <td>False</td>\n",
       "    </tr>\n",
       "    <tr>\n",
       "      <th>48</th>\n",
       "      <td>Delbono</td>\n",
       "      <td>Cossutta</td>\n",
       "      <td>0.866715</td>\n",
       "      <td>0.000646</td>\n",
       "      <td>Cossutta</td>\n",
       "      <td>Delbono</td>\n",
       "      <td>False</td>\n",
       "    </tr>\n",
       "    <tr>\n",
       "      <th>49</th>\n",
       "      <td>Marotta</td>\n",
       "      <td>Busin</td>\n",
       "      <td>0.948617</td>\n",
       "      <td>0.000645</td>\n",
       "      <td>Busin</td>\n",
       "      <td>Marotta</td>\n",
       "      <td>False</td>\n",
       "    </tr>\n",
       "    <tr>\n",
       "      <th>50</th>\n",
       "      <td>Accordo</td>\n",
       "      <td>ratificare</td>\n",
       "      <td>0.879632</td>\n",
       "      <td>0.000643</td>\n",
       "      <td>ratificare</td>\n",
       "      <td>Accordo</td>\n",
       "      <td>False</td>\n",
       "    </tr>\n",
       "    <tr>\n",
       "      <th>51</th>\n",
       "      <td>ufficiare</td>\n",
       "      <td>ufficio</td>\n",
       "      <td>0.918168</td>\n",
       "      <td>0.000642</td>\n",
       "      <td>ufficio</td>\n",
       "      <td>ufficiare</td>\n",
       "      <td>False</td>\n",
       "    </tr>\n",
       "    <tr>\n",
       "      <th>52</th>\n",
       "      <td>ovest</td>\n",
       "      <td>nord</td>\n",
       "      <td>0.977732</td>\n",
       "      <td>0.000641</td>\n",
       "      <td>nord</td>\n",
       "      <td>ovest</td>\n",
       "      <td>False</td>\n",
       "    </tr>\n",
       "    <tr>\n",
       "      <th>53</th>\n",
       "      <td>intervistare</td>\n",
       "      <td>Sera</td>\n",
       "      <td>0.956303</td>\n",
       "      <td>0.000640</td>\n",
       "      <td>Sera</td>\n",
       "      <td>intervistare</td>\n",
       "      <td>False</td>\n",
       "    </tr>\n",
       "    <tr>\n",
       "      <th>54</th>\n",
       "      <td>171</td>\n",
       "      <td>206</td>\n",
       "      <td>0.957952</td>\n",
       "      <td>0.000636</td>\n",
       "      <td>206</td>\n",
       "      <td>171</td>\n",
       "      <td>False</td>\n",
       "    </tr>\n",
       "    <tr>\n",
       "      <th>55</th>\n",
       "      <td>medicare</td>\n",
       "      <td>medico</td>\n",
       "      <td>0.873882</td>\n",
       "      <td>0.000634</td>\n",
       "      <td>medico</td>\n",
       "      <td>medicare</td>\n",
       "      <td>False</td>\n",
       "    </tr>\n",
       "    <tr>\n",
       "      <th>56</th>\n",
       "      <td>Olanda</td>\n",
       "      <td>Spagna</td>\n",
       "      <td>0.819924</td>\n",
       "      <td>0.000634</td>\n",
       "      <td>Spagna</td>\n",
       "      <td>Olanda</td>\n",
       "      <td>False</td>\n",
       "    </tr>\n",
       "    <tr>\n",
       "      <th>57</th>\n",
       "      <td>Eugenio</td>\n",
       "      <td>Gabriella</td>\n",
       "      <td>0.877584</td>\n",
       "      <td>0.000633</td>\n",
       "      <td>Gabriella</td>\n",
       "      <td>Eugenio</td>\n",
       "      <td>False</td>\n",
       "    </tr>\n",
       "    <tr>\n",
       "      <th>58</th>\n",
       "      <td>ragazzo</td>\n",
       "      <td>ragazza</td>\n",
       "      <td>0.728984</td>\n",
       "      <td>0.000633</td>\n",
       "      <td>uomo</td>\n",
       "      <td>ragazzo</td>\n",
       "      <td>False</td>\n",
       "    </tr>\n",
       "    <tr>\n",
       "      <th>59</th>\n",
       "      <td>uccidere</td>\n",
       "      <td>ucciso</td>\n",
       "      <td>0.869173</td>\n",
       "      <td>0.000631</td>\n",
       "      <td>uomo</td>\n",
       "      <td>uccidere</td>\n",
       "      <td>False</td>\n",
       "    </tr>\n",
       "    <tr>\n",
       "      <th>60</th>\n",
       "      <td>ospedaliero</td>\n",
       "      <td>struttura</td>\n",
       "      <td>0.974445</td>\n",
       "      <td>0.000630</td>\n",
       "      <td>struttura</td>\n",
       "      <td>ospedaliero</td>\n",
       "      <td>False</td>\n",
       "    </tr>\n",
       "    <tr>\n",
       "      <th>61</th>\n",
       "      <td>comunita</td>\n",
       "      <td>popolazione</td>\n",
       "      <td>0.932522</td>\n",
       "      <td>0.000630</td>\n",
       "      <td>popolazione</td>\n",
       "      <td>comunita</td>\n",
       "      <td>False</td>\n",
       "    </tr>\n",
       "    <tr>\n",
       "      <th>62</th>\n",
       "      <td>01</td>\n",
       "      <td>07</td>\n",
       "      <td>0.792694</td>\n",
       "      <td>0.000630</td>\n",
       "      <td>07</td>\n",
       "      <td>01</td>\n",
       "      <td>False</td>\n",
       "    </tr>\n",
       "    <tr>\n",
       "      <th>63</th>\n",
       "      <td>articolare</td>\n",
       "      <td>articolo</td>\n",
       "      <td>0.858071</td>\n",
       "      <td>0.000627</td>\n",
       "      <td>articolo</td>\n",
       "      <td>articolare</td>\n",
       "      <td>False</td>\n",
       "    </tr>\n",
       "    <tr>\n",
       "      <th>64</th>\n",
       "      <td>condannare</td>\n",
       "      <td>condannato</td>\n",
       "      <td>0.874470</td>\n",
       "      <td>0.000626</td>\n",
       "      <td>condannato</td>\n",
       "      <td>condannare</td>\n",
       "      <td>False</td>\n",
       "    </tr>\n",
       "    <tr>\n",
       "      <th>65</th>\n",
       "      <td>Matteoli</td>\n",
       "      <td>Sirchia</td>\n",
       "      <td>0.947059</td>\n",
       "      <td>0.000625</td>\n",
       "      <td>Sirchia</td>\n",
       "      <td>Matteoli</td>\n",
       "      <td>False</td>\n",
       "    </tr>\n",
       "    <tr>\n",
       "      <th>66</th>\n",
       "      <td>interpellanza</td>\n",
       "      <td>mozione</td>\n",
       "      <td>0.994286</td>\n",
       "      <td>0.000624</td>\n",
       "      <td>mozione</td>\n",
       "      <td>interpellanza</td>\n",
       "      <td>False</td>\n",
       "    </tr>\n",
       "    <tr>\n",
       "      <th>67</th>\n",
       "      <td>attaccare</td>\n",
       "      <td>attacco</td>\n",
       "      <td>0.880637</td>\n",
       "      <td>0.000624</td>\n",
       "      <td>attacco</td>\n",
       "      <td>attaccare</td>\n",
       "      <td>False</td>\n",
       "    </tr>\n",
       "    <tr>\n",
       "      <th>68</th>\n",
       "      <td>salvaguardia</td>\n",
       "      <td>valorizzazione</td>\n",
       "      <td>0.994284</td>\n",
       "      <td>0.000620</td>\n",
       "      <td>valorizzazione</td>\n",
       "      <td>salvaguardia</td>\n",
       "      <td>False</td>\n",
       "    </tr>\n",
       "    <tr>\n",
       "      <th>69</th>\n",
       "      <td>dottore</td>\n",
       "      <td>dottoressa</td>\n",
       "      <td>0.986266</td>\n",
       "      <td>0.000617</td>\n",
       "      <td>dottoressa</td>\n",
       "      <td>dottore</td>\n",
       "      <td>False</td>\n",
       "    </tr>\n",
       "    <tr>\n",
       "      <th>70</th>\n",
       "      <td>furto</td>\n",
       "      <td>rapina</td>\n",
       "      <td>0.807712</td>\n",
       "      <td>0.000614</td>\n",
       "      <td>rapina</td>\n",
       "      <td>furto</td>\n",
       "      <td>False</td>\n",
       "    </tr>\n",
       "    <tr>\n",
       "      <th>71</th>\n",
       "      <td>riassettare</td>\n",
       "      <td>riorganizzazione</td>\n",
       "      <td>0.945739</td>\n",
       "      <td>0.000612</td>\n",
       "      <td>riorganizzazione</td>\n",
       "      <td>riassettare</td>\n",
       "      <td>False</td>\n",
       "    </tr>\n",
       "    <tr>\n",
       "      <th>72</th>\n",
       "      <td>offendere</td>\n",
       "      <td>umiliare</td>\n",
       "      <td>0.951945</td>\n",
       "      <td>0.000611</td>\n",
       "      <td>umiliare</td>\n",
       "      <td>offendere</td>\n",
       "      <td>False</td>\n",
       "    </tr>\n",
       "    <tr>\n",
       "      <th>73</th>\n",
       "      <td>ammalare</td>\n",
       "      <td>tumore</td>\n",
       "      <td>0.993864</td>\n",
       "      <td>0.000610</td>\n",
       "      <td>tumore</td>\n",
       "      <td>ammalare</td>\n",
       "      <td>False</td>\n",
       "    </tr>\n",
       "    <tr>\n",
       "      <th>74</th>\n",
       "      <td>Gallo</td>\n",
       "      <td>Giorgia</td>\n",
       "      <td>0.964209</td>\n",
       "      <td>0.000609</td>\n",
       "      <td>Giorgia</td>\n",
       "      <td>Gallo</td>\n",
       "      <td>False</td>\n",
       "    </tr>\n",
       "    <tr>\n",
       "      <th>75</th>\n",
       "      <td>ambiente</td>\n",
       "      <td>salute</td>\n",
       "      <td>0.921349</td>\n",
       "      <td>0.000607</td>\n",
       "      <td>salute</td>\n",
       "      <td>ambiente</td>\n",
       "      <td>False</td>\n",
       "    </tr>\n",
       "    <tr>\n",
       "      <th>76</th>\n",
       "      <td>Esecutivo</td>\n",
       "      <td>Governo</td>\n",
       "      <td>0.755825</td>\n",
       "      <td>0.000607</td>\n",
       "      <td>Governo</td>\n",
       "      <td>Esecutivo</td>\n",
       "      <td>False</td>\n",
       "    </tr>\n",
       "    <tr>\n",
       "      <th>77</th>\n",
       "      <td>etico</td>\n",
       "      <td>morale</td>\n",
       "      <td>0.823651</td>\n",
       "      <td>0.000606</td>\n",
       "      <td>morale</td>\n",
       "      <td>etico</td>\n",
       "      <td>False</td>\n",
       "    </tr>\n",
       "    <tr>\n",
       "      <th>78</th>\n",
       "      <td>est</td>\n",
       "      <td>sud</td>\n",
       "      <td>0.959976</td>\n",
       "      <td>0.000605</td>\n",
       "      <td>sud</td>\n",
       "      <td>est</td>\n",
       "      <td>False</td>\n",
       "    </tr>\n",
       "    <tr>\n",
       "      <th>79</th>\n",
       "      <td>Iran</td>\n",
       "      <td>Siria</td>\n",
       "      <td>0.829946</td>\n",
       "      <td>0.000603</td>\n",
       "      <td>Siria</td>\n",
       "      <td>Iran</td>\n",
       "      <td>False</td>\n",
       "    </tr>\n",
       "    <tr>\n",
       "      <th>80</th>\n",
       "      <td>impostare</td>\n",
       "      <td>imposta</td>\n",
       "      <td>0.922877</td>\n",
       "      <td>0.000602</td>\n",
       "      <td>imposta</td>\n",
       "      <td>impostare</td>\n",
       "      <td>False</td>\n",
       "    </tr>\n",
       "    <tr>\n",
       "      <th>81</th>\n",
       "      <td>affettare</td>\n",
       "      <td>affetto</td>\n",
       "      <td>0.964770</td>\n",
       "      <td>0.000599</td>\n",
       "      <td>affetto</td>\n",
       "      <td>affettare</td>\n",
       "      <td>False</td>\n",
       "    </tr>\n",
       "    <tr>\n",
       "      <th>82</th>\n",
       "      <td>argomentare</td>\n",
       "      <td>argomento</td>\n",
       "      <td>0.868719</td>\n",
       "      <td>0.000597</td>\n",
       "      <td>argomento</td>\n",
       "      <td>argomentare</td>\n",
       "      <td>False</td>\n",
       "    </tr>\n",
       "    <tr>\n",
       "      <th>83</th>\n",
       "      <td>erogazione</td>\n",
       "      <td>erogare</td>\n",
       "      <td>0.861092</td>\n",
       "      <td>0.000596</td>\n",
       "      <td>erogare</td>\n",
       "      <td>erogazione</td>\n",
       "      <td>False</td>\n",
       "    </tr>\n",
       "    <tr>\n",
       "      <th>84</th>\n",
       "      <td>Ha</td>\n",
       "      <td>Hanno</td>\n",
       "      <td>0.972651</td>\n",
       "      <td>0.000596</td>\n",
       "      <td>Hanno</td>\n",
       "      <td>Ha</td>\n",
       "      <td>False</td>\n",
       "    </tr>\n",
       "    <tr>\n",
       "      <th>85</th>\n",
       "      <td>squadrare</td>\n",
       "      <td>squadra</td>\n",
       "      <td>0.938229</td>\n",
       "      <td>0.000593</td>\n",
       "      <td>squadra</td>\n",
       "      <td>squadrare</td>\n",
       "      <td>False</td>\n",
       "    </tr>\n",
       "    <tr>\n",
       "      <th>86</th>\n",
       "      <td>sesto</td>\n",
       "      <td>penultimo</td>\n",
       "      <td>0.989697</td>\n",
       "      <td>0.000593</td>\n",
       "      <td>penultimo</td>\n",
       "      <td>sesto</td>\n",
       "      <td>False</td>\n",
       "    </tr>\n",
       "    <tr>\n",
       "      <th>87</th>\n",
       "      <td>Quartiani</td>\n",
       "      <td>Magnolfi</td>\n",
       "      <td>0.978224</td>\n",
       "      <td>0.000592</td>\n",
       "      <td>Magnolfi</td>\n",
       "      <td>Quartiani</td>\n",
       "      <td>False</td>\n",
       "    </tr>\n",
       "    <tr>\n",
       "      <th>88</th>\n",
       "      <td>imprenditore</td>\n",
       "      <td>azienda</td>\n",
       "      <td>0.885067</td>\n",
       "      <td>0.000591</td>\n",
       "      <td>azienda</td>\n",
       "      <td>imprenditore</td>\n",
       "      <td>False</td>\n",
       "    </tr>\n",
       "    <tr>\n",
       "      <th>89</th>\n",
       "      <td>Preannunzia</td>\n",
       "      <td>Esprime</td>\n",
       "      <td>0.960572</td>\n",
       "      <td>0.000591</td>\n",
       "      <td>Esprime</td>\n",
       "      <td>Preannunzia</td>\n",
       "      <td>False</td>\n",
       "    </tr>\n",
       "    <tr>\n",
       "      <th>90</th>\n",
       "      <td>stabilire</td>\n",
       "      <td>prevedere</td>\n",
       "      <td>0.841130</td>\n",
       "      <td>0.000588</td>\n",
       "      <td>prevedere</td>\n",
       "      <td>stabilire</td>\n",
       "      <td>False</td>\n",
       "    </tr>\n",
       "    <tr>\n",
       "      <th>91</th>\n",
       "      <td>67</td>\n",
       "      <td>65</td>\n",
       "      <td>0.651376</td>\n",
       "      <td>0.000587</td>\n",
       "      <td>65</td>\n",
       "      <td>67</td>\n",
       "      <td>False</td>\n",
       "    </tr>\n",
       "    <tr>\n",
       "      <th>92</th>\n",
       "      <td>Cristiani</td>\n",
       "      <td>Padania</td>\n",
       "      <td>0.985452</td>\n",
       "      <td>0.000587</td>\n",
       "      <td>Padania</td>\n",
       "      <td>Cristiani</td>\n",
       "      <td>False</td>\n",
       "    </tr>\n",
       "    <tr>\n",
       "      <th>93</th>\n",
       "      <td>UDC</td>\n",
       "      <td>Forza</td>\n",
       "      <td>0.980249</td>\n",
       "      <td>0.000587</td>\n",
       "      <td>Forza</td>\n",
       "      <td>UDC</td>\n",
       "      <td>False</td>\n",
       "    </tr>\n",
       "    <tr>\n",
       "      <th>94</th>\n",
       "      <td>figurare</td>\n",
       "      <td>figura</td>\n",
       "      <td>0.852085</td>\n",
       "      <td>0.000586</td>\n",
       "      <td>figura</td>\n",
       "      <td>figurare</td>\n",
       "      <td>False</td>\n",
       "    </tr>\n",
       "    <tr>\n",
       "      <th>95</th>\n",
       "      <td>Dicastero</td>\n",
       "      <td>Ministeri</td>\n",
       "      <td>0.991027</td>\n",
       "      <td>0.000586</td>\n",
       "      <td>Ministeri</td>\n",
       "      <td>Dicastero</td>\n",
       "      <td>False</td>\n",
       "    </tr>\n",
       "    <tr>\n",
       "      <th>96</th>\n",
       "      <td>imparzialita</td>\n",
       "      <td>trasparenza</td>\n",
       "      <td>0.981411</td>\n",
       "      <td>0.000585</td>\n",
       "      <td>trasparenza</td>\n",
       "      <td>imparzialita</td>\n",
       "      <td>False</td>\n",
       "    </tr>\n",
       "    <tr>\n",
       "      <th>97</th>\n",
       "      <td>rifiuto</td>\n",
       "      <td>differenziato</td>\n",
       "      <td>0.998535</td>\n",
       "      <td>0.000584</td>\n",
       "      <td>differenziato</td>\n",
       "      <td>rifiuto</td>\n",
       "      <td>False</td>\n",
       "    </tr>\n",
       "    <tr>\n",
       "      <th>98</th>\n",
       "      <td>incertezza</td>\n",
       "      <td>precarieta</td>\n",
       "      <td>0.981987</td>\n",
       "      <td>0.000583</td>\n",
       "      <td>precarieta</td>\n",
       "      <td>incertezza</td>\n",
       "      <td>False</td>\n",
       "    </tr>\n",
       "    <tr>\n",
       "      <th>99</th>\n",
       "      <td>abusare</td>\n",
       "      <td>abuso</td>\n",
       "      <td>0.931324</td>\n",
       "      <td>0.000583</td>\n",
       "      <td>abuso</td>\n",
       "      <td>abusare</td>\n",
       "      <td>False</td>\n",
       "    </tr>\n",
       "  </tbody>\n",
       "</table>\n",
       "</div>"
      ],
      "text/plain": [
       "             uomo             donna  distance     score            most_x  \\\n",
       "0          uomini             donna  0.836140  0.001176              uomo   \n",
       "1      imprendere           impresa  0.869066  0.001040           impresa   \n",
       "2       immigrare         immigrato  0.944050  0.001001         immigrato   \n",
       "3         amicare             amico  0.963701  0.000994             amico   \n",
       "4        figliare           bambina  0.986153  0.000976              uomo   \n",
       "5   incenerimento         discarica  0.970220  0.000870         discarica   \n",
       "6           padre             madre  0.880906  0.000867              uomo   \n",
       "7      estorsione     prostituzione  0.940585  0.000855     prostituzione   \n",
       "8            Arma             Forze  0.976449  0.000846             Forze   \n",
       "9        barbarie          violenza  0.991629  0.000819              uomo   \n",
       "10          Lumia             Maura  0.858465  0.000796             Maura   \n",
       "11        delitto          stalking  0.963559  0.000788          stalking   \n",
       "12        Palomba           Rondini  0.951331  0.000782           Rondini   \n",
       "13    eguaglianza            parita  0.939678  0.000776            parita   \n",
       "14       eleggere            eletto  0.689584  0.000774            eletto   \n",
       "15      Stradella         Bertolini  0.993763  0.000773         Bertolini   \n",
       "16           papa             mamma  0.890533  0.000755              uomo   \n",
       "17           otto           ventuno  0.990712  0.000730           ventuno   \n",
       "18        nascere              nato  0.777923  0.000724              nato   \n",
       "19   insegnamento            scuola  0.949248  0.000722            scuola   \n",
       "20     professore       ricercatore  0.986797  0.000713       ricercatore   \n",
       "21      banchiere             banca  0.995695  0.000704             banca   \n",
       "22       Esercito            armato  0.955634  0.000704            armato   \n",
       "23     confondere           confuso  0.984329  0.000701           confuso   \n",
       "24      direttore        direttorio  0.843363  0.000701        direttorio   \n",
       "25     fabbricare          fabbrica  0.973173  0.000697          fabbrica   \n",
       "26           Lupi          Carfagna  0.955659  0.000695          Carfagna   \n",
       "27       nominare            nomina  0.880935  0.000694            nomina   \n",
       "28         ferire            ferito  0.976121  0.000691            ferito   \n",
       "29          dovra           debbono  0.959337  0.000690           debbono   \n",
       "30       Perrotta          Ascierto  0.974402  0.000690          Ascierto   \n",
       "31      candidare         candidato  0.844000  0.000688         candidato   \n",
       "32    obiettivita          serenita  0.952745  0.000688          serenita   \n",
       "33       immobile          alloggio  0.843428  0.000685          alloggio   \n",
       "34      arrestare         flagranza  0.923876  0.000674         flagranza   \n",
       "35      populista          xenofobo  0.943513  0.000673          xenofobo   \n",
       "36      dittatore         dittatura  0.983878  0.000671         dittatura   \n",
       "37   immigrazione        irregolare  0.978379  0.000671        irregolare   \n",
       "38       embrione      procreazione  0.980118  0.000662              uomo   \n",
       "39      Nannicini            Deiana  0.962602  0.000656            Deiana   \n",
       "40    Convenzione          Istanbul  0.848744  0.000656          Istanbul   \n",
       "41     licenziare        licenziato  0.894577  0.000654        licenziato   \n",
       "42    inviolabile           liberta  0.964115  0.000654           liberta   \n",
       "43         minuto               ora  0.990075  0.000650               ora   \n",
       "44      assettare           assetto  0.917056  0.000650           assetto   \n",
       "45    industriare         industria  0.893487  0.000648         industria   \n",
       "46        perbene           persona  0.984388  0.000647              uomo   \n",
       "47       giurista          studioso  0.954707  0.000647          studioso   \n",
       "48        Delbono          Cossutta  0.866715  0.000646          Cossutta   \n",
       "49        Marotta             Busin  0.948617  0.000645             Busin   \n",
       "50        Accordo        ratificare  0.879632  0.000643        ratificare   \n",
       "51      ufficiare           ufficio  0.918168  0.000642           ufficio   \n",
       "52          ovest              nord  0.977732  0.000641              nord   \n",
       "53   intervistare              Sera  0.956303  0.000640              Sera   \n",
       "54            171               206  0.957952  0.000636               206   \n",
       "55       medicare            medico  0.873882  0.000634            medico   \n",
       "56         Olanda            Spagna  0.819924  0.000634            Spagna   \n",
       "57        Eugenio         Gabriella  0.877584  0.000633         Gabriella   \n",
       "58        ragazzo           ragazza  0.728984  0.000633              uomo   \n",
       "59       uccidere            ucciso  0.869173  0.000631              uomo   \n",
       "60    ospedaliero         struttura  0.974445  0.000630         struttura   \n",
       "61       comunita       popolazione  0.932522  0.000630       popolazione   \n",
       "62             01                07  0.792694  0.000630                07   \n",
       "63     articolare          articolo  0.858071  0.000627          articolo   \n",
       "64     condannare        condannato  0.874470  0.000626        condannato   \n",
       "65       Matteoli           Sirchia  0.947059  0.000625           Sirchia   \n",
       "66  interpellanza           mozione  0.994286  0.000624           mozione   \n",
       "67      attaccare           attacco  0.880637  0.000624           attacco   \n",
       "68   salvaguardia    valorizzazione  0.994284  0.000620    valorizzazione   \n",
       "69        dottore        dottoressa  0.986266  0.000617        dottoressa   \n",
       "70          furto            rapina  0.807712  0.000614            rapina   \n",
       "71    riassettare  riorganizzazione  0.945739  0.000612  riorganizzazione   \n",
       "72      offendere          umiliare  0.951945  0.000611          umiliare   \n",
       "73       ammalare            tumore  0.993864  0.000610            tumore   \n",
       "74          Gallo           Giorgia  0.964209  0.000609           Giorgia   \n",
       "75       ambiente            salute  0.921349  0.000607            salute   \n",
       "76      Esecutivo           Governo  0.755825  0.000607           Governo   \n",
       "77          etico            morale  0.823651  0.000606            morale   \n",
       "78            est               sud  0.959976  0.000605               sud   \n",
       "79           Iran             Siria  0.829946  0.000603             Siria   \n",
       "80      impostare           imposta  0.922877  0.000602           imposta   \n",
       "81      affettare           affetto  0.964770  0.000599           affetto   \n",
       "82    argomentare         argomento  0.868719  0.000597         argomento   \n",
       "83     erogazione           erogare  0.861092  0.000596           erogare   \n",
       "84             Ha             Hanno  0.972651  0.000596             Hanno   \n",
       "85      squadrare           squadra  0.938229  0.000593           squadra   \n",
       "86          sesto         penultimo  0.989697  0.000593         penultimo   \n",
       "87      Quartiani          Magnolfi  0.978224  0.000592          Magnolfi   \n",
       "88   imprenditore           azienda  0.885067  0.000591           azienda   \n",
       "89    Preannunzia           Esprime  0.960572  0.000591           Esprime   \n",
       "90      stabilire         prevedere  0.841130  0.000588         prevedere   \n",
       "91             67                65  0.651376  0.000587                65   \n",
       "92      Cristiani           Padania  0.985452  0.000587           Padania   \n",
       "93            UDC             Forza  0.980249  0.000587             Forza   \n",
       "94       figurare            figura  0.852085  0.000586            figura   \n",
       "95      Dicastero         Ministeri  0.991027  0.000586         Ministeri   \n",
       "96   imparzialita       trasparenza  0.981411  0.000585       trasparenza   \n",
       "97        rifiuto     differenziato  0.998535  0.000584     differenziato   \n",
       "98     incertezza        precarieta  0.981987  0.000583        precarieta   \n",
       "99        abusare             abuso  0.931324  0.000583             abuso   \n",
       "\n",
       "           most_y  match  \n",
       "0           donna  False  \n",
       "1      imprendere  False  \n",
       "2       immigrare  False  \n",
       "3         amicare  False  \n",
       "4        figliare  False  \n",
       "5   incenerimento  False  \n",
       "6           padre  False  \n",
       "7      estorsione  False  \n",
       "8            Arma  False  \n",
       "9        barbarie  False  \n",
       "10          Lumia  False  \n",
       "11        delitto  False  \n",
       "12        Palomba  False  \n",
       "13    eguaglianza  False  \n",
       "14       eleggere  False  \n",
       "15      Stradella  False  \n",
       "16           papa  False  \n",
       "17           otto  False  \n",
       "18        nascere  False  \n",
       "19   insegnamento  False  \n",
       "20     professore  False  \n",
       "21      banchiere  False  \n",
       "22       Esercito  False  \n",
       "23     confondere  False  \n",
       "24      direttore  False  \n",
       "25     fabbricare  False  \n",
       "26           Lupi  False  \n",
       "27       nominare  False  \n",
       "28         ferire  False  \n",
       "29          dovra  False  \n",
       "30       Perrotta  False  \n",
       "31      candidare  False  \n",
       "32    obiettivita  False  \n",
       "33       immobile  False  \n",
       "34      arrestare  False  \n",
       "35      populista  False  \n",
       "36      dittatore  False  \n",
       "37   immigrazione  False  \n",
       "38       embrione  False  \n",
       "39      Nannicini  False  \n",
       "40    Convenzione  False  \n",
       "41     licenziare  False  \n",
       "42    inviolabile  False  \n",
       "43         minuto  False  \n",
       "44      assettare  False  \n",
       "45    industriare  False  \n",
       "46        perbene  False  \n",
       "47       giurista  False  \n",
       "48        Delbono  False  \n",
       "49        Marotta  False  \n",
       "50        Accordo  False  \n",
       "51      ufficiare  False  \n",
       "52          ovest  False  \n",
       "53   intervistare  False  \n",
       "54            171  False  \n",
       "55       medicare  False  \n",
       "56         Olanda  False  \n",
       "57        Eugenio  False  \n",
       "58        ragazzo  False  \n",
       "59       uccidere  False  \n",
       "60    ospedaliero  False  \n",
       "61       comunita  False  \n",
       "62             01  False  \n",
       "63     articolare  False  \n",
       "64     condannare  False  \n",
       "65       Matteoli  False  \n",
       "66  interpellanza  False  \n",
       "67      attaccare  False  \n",
       "68   salvaguardia  False  \n",
       "69        dottore  False  \n",
       "70          furto  False  \n",
       "71    riassettare  False  \n",
       "72      offendere  False  \n",
       "73       ammalare  False  \n",
       "74          Gallo  False  \n",
       "75       ambiente  False  \n",
       "76      Esecutivo  False  \n",
       "77          etico  False  \n",
       "78            est  False  \n",
       "79           Iran  False  \n",
       "80      impostare  False  \n",
       "81      affettare  False  \n",
       "82    argomentare  False  \n",
       "83     erogazione  False  \n",
       "84             Ha  False  \n",
       "85      squadrare  False  \n",
       "86          sesto  False  \n",
       "87      Quartiani  False  \n",
       "88   imprenditore  False  \n",
       "89    Preannunzia  False  \n",
       "90      stabilire  False  \n",
       "91             67  False  \n",
       "92      Cristiani  False  \n",
       "93            UDC  False  \n",
       "94       figurare  False  \n",
       "95      Dicastero  False  \n",
       "96   imparzialita  False  \n",
       "97        rifiuto  False  \n",
       "98     incertezza  False  \n",
       "99        abusare  False  "
      ]
     },
     "execution_count": 17,
     "metadata": {},
     "output_type": "execute_result"
    }
   ],
   "source": [
    "analogies.generate_analogies(n_analogies=100, seed=['uomo','donna'], use_avg_gender=False,\n",
    "                            multiple=False, delta=1., restrict_vocab=10000,\n",
    "                            unrestricted=True)"
   ]
  },
  {
   "cell_type": "code",
   "execution_count": 7,
   "metadata": {},
   "outputs": [
    {
     "data": {
      "text/html": [
       "<div>\n",
       "<style scoped>\n",
       "    .dataframe tbody tr th:only-of-type {\n",
       "        vertical-align: middle;\n",
       "    }\n",
       "\n",
       "    .dataframe tbody tr th {\n",
       "        vertical-align: top;\n",
       "    }\n",
       "\n",
       "    .dataframe thead th {\n",
       "        text-align: right;\n",
       "    }\n",
       "</style>\n",
       "<table border=\"1\" class=\"dataframe\">\n",
       "  <thead>\n",
       "    <tr style=\"text-align: right;\">\n",
       "      <th></th>\n",
       "      <th>female_avg</th>\n",
       "      <th>male_avg</th>\n",
       "      <th>distance</th>\n",
       "      <th>score</th>\n",
       "      <th>most_x</th>\n",
       "      <th>most_y</th>\n",
       "      <th>match</th>\n",
       "    </tr>\n",
       "  </thead>\n",
       "  <tbody>\n",
       "    <tr>\n",
       "      <th>0</th>\n",
       "      <td>ella</td>\n",
       "      <td>egli</td>\n",
       "      <td>0.942863</td>\n",
       "      <td>0.001969</td>\n",
       "      <td>egli</td>\n",
       "      <td>ella</td>\n",
       "      <td>False</td>\n",
       "    </tr>\n",
       "    <tr>\n",
       "      <th>1</th>\n",
       "      <td>lei</td>\n",
       "      <td>lui</td>\n",
       "      <td>0.722058</td>\n",
       "      <td>0.001842</td>\n",
       "      <td>lui</td>\n",
       "      <td>lei</td>\n",
       "      <td>False</td>\n",
       "    </tr>\n",
       "    <tr>\n",
       "      <th>2</th>\n",
       "      <td>occidentale</td>\n",
       "      <td>occidente</td>\n",
       "      <td>0.775401</td>\n",
       "      <td>0.001315</td>\n",
       "      <td>occidente</td>\n",
       "      <td>occidentale</td>\n",
       "      <td>False</td>\n",
       "    </tr>\n",
       "    <tr>\n",
       "      <th>3</th>\n",
       "      <td>Ella</td>\n",
       "      <td>Egli</td>\n",
       "      <td>0.842111</td>\n",
       "      <td>0.001312</td>\n",
       "      <td>Egli</td>\n",
       "      <td>Ella</td>\n",
       "      <td>False</td>\n",
       "    </tr>\n",
       "    <tr>\n",
       "      <th>4</th>\n",
       "      <td>donna</td>\n",
       "      <td>giovane</td>\n",
       "      <td>0.997564</td>\n",
       "      <td>0.001259</td>\n",
       "      <td>giovane</td>\n",
       "      <td>donna</td>\n",
       "      <td>False</td>\n",
       "    </tr>\n",
       "    <tr>\n",
       "      <th>...</th>\n",
       "      <td>...</td>\n",
       "      <td>...</td>\n",
       "      <td>...</td>\n",
       "      <td>...</td>\n",
       "      <td>...</td>\n",
       "      <td>...</td>\n",
       "      <td>...</td>\n",
       "    </tr>\n",
       "    <tr>\n",
       "      <th>95</th>\n",
       "      <td>preoccuparci</td>\n",
       "      <td>preoccuparsi</td>\n",
       "      <td>0.888398</td>\n",
       "      <td>0.000759</td>\n",
       "      <td>preoccuparsi</td>\n",
       "      <td>preoccuparci</td>\n",
       "      <td>False</td>\n",
       "    </tr>\n",
       "    <tr>\n",
       "      <th>96</th>\n",
       "      <td>13</td>\n",
       "      <td>5</td>\n",
       "      <td>0.769558</td>\n",
       "      <td>0.000758</td>\n",
       "      <td>5</td>\n",
       "      <td>13</td>\n",
       "      <td>False</td>\n",
       "    </tr>\n",
       "    <tr>\n",
       "      <th>97</th>\n",
       "      <td>vergognoso</td>\n",
       "      <td>inammissibile</td>\n",
       "      <td>0.994128</td>\n",
       "      <td>0.000758</td>\n",
       "      <td>inammissibile</td>\n",
       "      <td>vergognoso</td>\n",
       "      <td>False</td>\n",
       "    </tr>\n",
       "    <tr>\n",
       "      <th>98</th>\n",
       "      <td>soltanto</td>\n",
       "      <td>soprattutto</td>\n",
       "      <td>0.936357</td>\n",
       "      <td>0.000758</td>\n",
       "      <td>soprattutto</td>\n",
       "      <td>soltanto</td>\n",
       "      <td>False</td>\n",
       "    </tr>\n",
       "    <tr>\n",
       "      <th>99</th>\n",
       "      <td>bisognera</td>\n",
       "      <td>dovra</td>\n",
       "      <td>0.907548</td>\n",
       "      <td>0.000757</td>\n",
       "      <td>dovra</td>\n",
       "      <td>bisognera</td>\n",
       "      <td>False</td>\n",
       "    </tr>\n",
       "  </tbody>\n",
       "</table>\n",
       "<p>100 rows × 7 columns</p>\n",
       "</div>"
      ],
      "text/plain": [
       "      female_avg       male_avg  distance     score         most_x  \\\n",
       "0           ella           egli  0.942863  0.001969           egli   \n",
       "1            lei            lui  0.722058  0.001842            lui   \n",
       "2    occidentale      occidente  0.775401  0.001315      occidente   \n",
       "3           Ella           Egli  0.842111  0.001312           Egli   \n",
       "4          donna        giovane  0.997564  0.001259        giovane   \n",
       "..           ...            ...       ...       ...            ...   \n",
       "95  preoccuparci   preoccuparsi  0.888398  0.000759   preoccuparsi   \n",
       "96            13              5  0.769558  0.000758              5   \n",
       "97    vergognoso  inammissibile  0.994128  0.000758  inammissibile   \n",
       "98      soltanto    soprattutto  0.936357  0.000758    soprattutto   \n",
       "99     bisognera          dovra  0.907548  0.000757          dovra   \n",
       "\n",
       "          most_y  match  \n",
       "0           ella  False  \n",
       "1            lei  False  \n",
       "2    occidentale  False  \n",
       "3           Ella  False  \n",
       "4          donna  False  \n",
       "..           ...    ...  \n",
       "95  preoccuparci  False  \n",
       "96            13  False  \n",
       "97    vergognoso  False  \n",
       "98      soltanto  False  \n",
       "99     bisognera  False  \n",
       "\n",
       "[100 rows x 7 columns]"
      ]
     },
     "execution_count": 7,
     "metadata": {},
     "output_type": "execute_result"
    }
   ],
   "source": [
    "analogies.generate_analogies(n_analogies=100, use_avg_gender=True,\n",
    "                            multiple=False, delta=1., restrict_vocab=10000,\n",
    "                            unrestricted=True)"
   ]
  },
  {
   "cell_type": "markdown",
   "metadata": {},
   "source": [
    "----"
   ]
  },
  {
   "cell_type": "markdown",
   "metadata": {},
   "source": [
    "### Create a list of adjectives to test with analogies\n",
    "Inspired from https://github.com/nikhgarg/EmbeddingDynamicStereotypes and WEAT test"
   ]
  },
  {
   "cell_type": "markdown",
   "metadata": {},
   "source": [
    "**Analogies_Distance_Bias** works by retrieving analogies for each neutral word with one gender as positive and the other as negative, then the average similarity between the group of words retrieved and both gendered words is calculated. If there is a difference in the two similarities, it is probable that the words similar to the neutral word are more related to one gender than to the other. Ideally, if there wasn't any stereotype the similarities should be \n",
    "The bias is calculated as the difference in the 2 similarities. <br>\n",
    "The analogy for the same word is calculated both by using as positive one gender and then the other one as positive. "
   ]
  },
  {
   "cell_type": "code",
   "execution_count": 4,
   "metadata": {},
   "outputs": [],
   "source": [
    "model = KeyedVectors.load('we_models/W2V_by_years_1948_1968')\n",
    "from INFORET_project.data import gendered_neutral_words\n",
    "from INFORET_project import Analogies_Distance_Bias"
   ]
  },
  {
   "cell_type": "code",
   "execution_count": 4,
   "metadata": {},
   "outputs": [],
   "source": [
    "score = Analogies_Distance_Bias(model.wv,\n",
    "                                gender_female='donna',\n",
    "                                gender_male='uomo',\n",
    "                                type_most_similar = 'cosmul')"
   ]
  },
  {
   "cell_type": "code",
   "execution_count": 5,
   "metadata": {
    "scrolled": true
   },
   "outputs": [
    {
     "name": "stdout",
     "output_type": "stream",
     "text": [
      "\n",
      "Word: brutto\n",
      "Similarity of 'male' analogies to 'male': 0.4240516021847725, to 'female': 0.12895660232752562\n",
      "Bias for 'male' analogies: 0.29509499985724685\n",
      "Similarity of 'female' analogies to 'male': 0.23219432383775712, to 'female': 0.4980472296476364\n",
      "Bias for 'female' analogies: 0.2658529058098793\n",
      "\n",
      "Word: rozzo\n",
      "Similarity of 'male' analogies to 'male': 0.4410634711384773, to 'female': 0.16383448615670204\n",
      "Bias for 'male' analogies: 0.2772289849817753\n",
      "Similarity of 'female' analogies to 'male': 0.196292395144701, to 'female': 0.4567902535200119\n",
      "Bias for 'female' analogies: 0.2604978583753109\n",
      "\n",
      "Word: piacevole\n",
      "Similarity of 'male' analogies to 'male': 0.4228265553712845, to 'female': 0.16422654390335084\n",
      "Bias for 'male' analogies: 0.25860001146793365\n",
      "Similarity of 'female' analogies to 'male': 0.16246785651892423, to 'female': 0.4143325835466385\n",
      "Bias for 'female' analogies: 0.25186472702771423\n",
      "\n",
      "Word: bello\n",
      "Similarity of 'male' analogies to 'male': 0.4440027758479118, to 'female': 0.1678279098123312\n",
      "Bias for 'male' analogies: 0.2761748660355806\n",
      "Similarity of 'female' analogies to 'male': 0.15501134917140008, to 'female': 0.3886432446539402\n",
      "Bias for 'female' analogies: 0.2336318954825401\n",
      "\n",
      "Word: carino\n",
      "Similarity of 'male' analogies to 'male': 0.39207861572504044, to 'female': 0.17732486724853516\n",
      "Bias for 'male' analogies: 0.21475374847650527\n",
      "Similarity of 'female' analogies to 'male': 0.1604430928826332, to 'female': 0.4495025873184204\n",
      "Bias for 'female' analogies: 0.2890594944357872\n",
      "\n",
      "Word: splendido\n",
      "Similarity of 'male' analogies to 'male': 0.46207498759031296, to 'female': 0.17973588928580284\n",
      "Bias for 'male' analogies: 0.2823390983045101\n",
      "Similarity of 'female' analogies to 'male': 0.22946688979864122, to 'female': 0.4360474020242691\n",
      "Bias for 'female' analogies: 0.2065805122256279\n",
      "\n",
      "Word: sensuale\n",
      "Similarity of 'male' analogies to 'male': 0.45824864506721497, to 'female': 0.19471916258335115\n",
      "Bias for 'male' analogies: 0.2635294824838638\n",
      "Similarity of 'female' analogies to 'male': 0.24644585102796554, to 'female': 0.47075060904026034\n",
      "Bias for 'female' analogies: 0.2243047580122948\n",
      "\n",
      "Word: frivolo\n",
      "Similarity of 'male' analogies to 'male': 0.4198571309447289, to 'female': 0.16319949179887772\n",
      "Bias for 'male' analogies: 0.25665763914585116\n",
      "Similarity of 'female' analogies to 'male': 0.22404146641492845, to 'female': 0.4322427913546562\n",
      "Bias for 'female' analogies: 0.20820132493972776\n",
      "\n",
      "Word: magro\n",
      "Similarity of 'male' analogies to 'male': 0.298303709179163, to 'female': 0.13988183550536631\n",
      "Bias for 'male' analogies: 0.15842187367379668\n",
      "Similarity of 'female' analogies to 'male': 0.12529708920046687, to 'female': 0.4243718609213829\n",
      "Bias for 'female' analogies: 0.299074771720916\n",
      "\n",
      "Word: grasso\n",
      "Similarity of 'male' analogies to 'male': 0.31035745367407797, to 'female': 0.14770407415926456\n",
      "Bias for 'male' analogies: 0.1626533795148134\n",
      "Similarity of 'female' analogies to 'male': 0.13929926705895923, to 'female': 0.3133391156792641\n",
      "Bias for 'female' analogies: 0.17403984862030486\n"
     ]
    }
   ],
   "source": [
    "top_bias = score.get_top_bias(pred_positive_word='adj_appearence')"
   ]
  },
  {
   "cell_type": "code",
   "execution_count": 6,
   "metadata": {},
   "outputs": [
    {
     "name": "stdout",
     "output_type": "stream",
     "text": [
      "\n",
      "Word: brutto\n",
      "\n",
      "Positive gender: male\n"
     ]
    },
    {
     "data": {
      "text/plain": [
       "[('brutto', 0.5006075524125156),\n",
       " ('uomo', 0.5005223682383805),\n",
       " ('bruttare', 0.5004065489840138),\n",
       " ('hobby', 0.5003803105203399),\n",
       " ('araldo', 0.5003687344089883),\n",
       " ('inquisitore', 0.500366682238291),\n",
       " ('eclettico', 0.5003541856268412),\n",
       " ('illustre', 0.5003536100728226),\n",
       " ('lapsus', 0.500351871846717),\n",
       " ('operetta', 0.5003493893461514)]"
      ]
     },
     "metadata": {},
     "output_type": "display_data"
    },
    {
     "name": "stdout",
     "output_type": "stream",
     "text": [
      "Positive gender: female\n"
     ]
    },
    {
     "data": {
      "text/plain": [
       "[('brutto', 0.5005600859855832),\n",
       " ('donna', 0.5004986385057769),\n",
       " ('ragazza', 0.5004032723367208),\n",
       " ('casalingo', 0.500328544216722),\n",
       " ('bello', 0.5003203944201551),\n",
       " ('coniugato', 0.5003145616937776),\n",
       " ('bambina', 0.5003131384860301),\n",
       " ('madre', 0.5003053465979763),\n",
       " ('traviata', 0.5002912342907856),\n",
       " ('passeggiatrice', 0.5002908317425176)]"
      ]
     },
     "metadata": {},
     "output_type": "display_data"
    },
    {
     "name": "stdout",
     "output_type": "stream",
     "text": [
      "\n",
      "Word: rozzo\n",
      "\n",
      "Positive gender: male\n"
     ]
    },
    {
     "data": {
      "text/plain": [
       "[('rozzo', 0.5006219039055707),\n",
       " ('uomo', 0.5005169892754816),\n",
       " ('inquisitore', 0.500455419909462),\n",
       " ('araldo', 0.5004371153029402),\n",
       " ('utilitarismo', 0.5004190011979728),\n",
       " ('concettualismo', 0.5003995990067123),\n",
       " ('esagitare', 0.5003968274480199),\n",
       " ('bizzoso', 0.500393146376239),\n",
       " ('nichilismo', 0.5003905816233016),\n",
       " ('barricadiero', 0.50038961973162)]"
      ]
     },
     "metadata": {},
     "output_type": "display_data"
    },
    {
     "name": "stdout",
     "output_type": "stream",
     "text": [
      "Positive gender: female\n"
     ]
    },
    {
     "data": {
      "text/plain": [
       "[('rozzo', 0.5005457362251707),\n",
       " ('donna', 0.5004789119451701),\n",
       " ('spudorato', 0.500337447730483),\n",
       " ('ragazza', 0.5003359080371427),\n",
       " ('casalingo', 0.5003239890975809),\n",
       " ('lavoratrice', 0.5003226970636082),\n",
       " ('atrocemente', 0.5003110050711828),\n",
       " ('corredo', 0.5003085493125684),\n",
       " ('manganare', 0.5003079792662748),\n",
       " ('semioccupati', 0.5003073527299212)]"
      ]
     },
     "metadata": {},
     "output_type": "display_data"
    },
    {
     "name": "stdout",
     "output_type": "stream",
     "text": [
      "\n",
      "Word: piacevole\n",
      "\n",
      "Positive gender: male\n"
     ]
    },
    {
     "data": {
      "text/plain": [
       "[('piacevole', 0.5005808909863496),\n",
       " ('uomo', 0.5004710308068522),\n",
       " ('inquisitore', 0.5004177921472504),\n",
       " ('gioviale', 0.5003904707894042),\n",
       " ('contradittore', 0.5003837025546597),\n",
       " ('lapsus', 0.5003779481209311),\n",
       " ('humour', 0.500376269896909),\n",
       " ('dolciastro', 0.5003737697720553),\n",
       " ('saggista', 0.5003723295191609),\n",
       " ('scontroso', 0.5003714864989046)]"
      ]
     },
     "metadata": {},
     "output_type": "display_data"
    },
    {
     "name": "stdout",
     "output_type": "stream",
     "text": [
      "Positive gender: female\n"
     ]
    },
    {
     "data": {
      "text/plain": [
       "[('piacevole', 0.5005867460323099),\n",
       " ('donna', 0.500473957698147),\n",
       " ('ragazza', 0.5003692248447655),\n",
       " ('lcro', 0.5003140290373874),\n",
       " ('mamma', 0.5003009791197706),\n",
       " ('porcheria', 0.5002964297982023),\n",
       " ('femmina', 0.5002946536095313),\n",
       " ('domenicale', 0.5002942181836219),\n",
       " ('bambina', 0.5002928912929334),\n",
       " ('cinematografo', 0.5002928110929492)]"
      ]
     },
     "metadata": {},
     "output_type": "display_data"
    },
    {
     "name": "stdout",
     "output_type": "stream",
     "text": [
      "\n",
      "Word: bello\n",
      "\n",
      "Positive gender: male\n"
     ]
    },
    {
     "data": {
      "text/plain": [
       "[('bello', 0.5005534660074376),\n",
       " ('uomo', 0.5004755692305171),\n",
       " ('inquisitore', 0.5003749456828501),\n",
       " ('insignire', 0.5003735403831805),\n",
       " ('immaginifico', 0.5003704779589985),\n",
       " ('araldo', 0.5003699806064499),\n",
       " ('poesia', 0.5003673813303188),\n",
       " ('epoque', 0.500356443934652),\n",
       " ('saggista', 0.5003536043434805),\n",
       " ('amicare', 0.5003528935286186)]"
      ]
     },
     "metadata": {},
     "output_type": "display_data"
    },
    {
     "name": "stdout",
     "output_type": "stream",
     "text": [
      "Positive gender: female\n"
     ]
    },
    {
     "data": {
      "text/plain": [
       "[('bello', 0.5006141729687194),\n",
       " ('donna', 0.5005059171087611),\n",
       " ('ragazza', 0.5003826497372391),\n",
       " ('madre', 0.5003454176428281),\n",
       " ('Sovraintendenza', 0.5003402013579572),\n",
       " ('Belle', 0.5003192957876542),\n",
       " ('Accademie', 0.5003098333607426),\n",
       " ('arto', 0.5003065482545623),\n",
       " ('femmina', 0.500306205783999),\n",
       " ('tessitrici', 0.5003041106575091)]"
      ]
     },
     "metadata": {},
     "output_type": "display_data"
    },
    {
     "name": "stdout",
     "output_type": "stream",
     "text": [
      "\n",
      "Word: carino\n",
      "\n",
      "Positive gender: male\n"
     ]
    },
    {
     "data": {
      "text/plain": [
       "[('carino', 0.5005172475390353),\n",
       " ('uomo', 0.5004332181520663),\n",
       " ('abilitA', 0.5003347327363333),\n",
       " ('Iiberth', 0.5003334800018048),\n",
       " ('araldo', 0.5003281758217286),\n",
       " ('Eiar', 0.5003205540286989),\n",
       " ('chiazzare', 0.5003178634411751),\n",
       " ('opt', 0.5003178626960983),\n",
       " ('potentissimo', 0.5003108863626589),\n",
       " ('bonini', 0.5003107381042139)]"
      ]
     },
     "metadata": {},
     "output_type": "display_data"
    },
    {
     "name": "stdout",
     "output_type": "stream",
     "text": [
      "Positive gender: female\n"
     ]
    },
    {
     "data": {
      "text/plain": [
       "[('carino', 0.500650398403555),\n",
       " ('donna', 0.5004997780664112),\n",
       " ('nutrice', 0.5003819799889268),\n",
       " ('lir', 0.5003759527275314),\n",
       " ('manganare', 0.5003670921004102),\n",
       " ('erie', 0.500366181472612),\n",
       " ('ragazza', 0.5003655861061836),\n",
       " ('lavoratrice', 0.5003513395646892),\n",
       " ('autocolonne', 0.5003489961904586),\n",
       " ('madre', 0.5003463264801459)]"
      ]
     },
     "metadata": {},
     "output_type": "display_data"
    }
   ],
   "source": [
    "score.print_top_analogies()"
   ]
  },
  {
   "cell_type": "code",
   "execution_count": 7,
   "metadata": {},
   "outputs": [
    {
     "data": {
      "text/plain": [
       "[('brutto', (0.29509499985724685, 0.2658529058098793)),\n",
       " ('rozzo', (0.2772289849817753, 0.2604978583753109)),\n",
       " ('piacevole', (0.25860001146793365, 0.25186472702771423)),\n",
       " ('bello', (0.2761748660355806, 0.2336318954825401)),\n",
       " ('carino', (0.21475374847650527, 0.2890594944357872)),\n",
       " ('splendido', (0.2823390983045101, 0.2065805122256279)),\n",
       " ('sensuale', (0.2635294824838638, 0.2243047580122948)),\n",
       " ('frivolo', (0.25665763914585116, 0.20820132493972776)),\n",
       " ('magro', (0.15842187367379668, 0.299074771720916)),\n",
       " ('grasso', (0.1626533795148134, 0.17403984862030486))]"
      ]
     },
     "execution_count": 7,
     "metadata": {},
     "output_type": "execute_result"
    }
   ],
   "source": [
    "top_bias"
   ]
  },
  {
   "cell_type": "code",
   "execution_count": 5,
   "metadata": {},
   "outputs": [],
   "source": [
    "score = Analogies_Distance_Bias(model.wv,\n",
    "                                use_avg_gender=True,\n",
    "                                type_most_similar = 'cosadd')"
   ]
  },
  {
   "cell_type": "code",
   "execution_count": 6,
   "metadata": {},
   "outputs": [
    {
     "name": "stdout",
     "output_type": "stream",
     "text": [
      "\n",
      "Word: accudire\n",
      "Similarity of 'male' analogies to 'male': 0.25668581277132035, to 'female': 0.1820064939558506\n",
      "Bias for 'male' analogies: 0.07467931881546974\n",
      "Similarity of 'female' analogies to 'male': 0.30427939891815187, to 'female': 0.37619348913431166\n",
      "Bias for 'female' analogies: 0.0719140902161598\n",
      "\n",
      "Word: matrimonio\n",
      "Similarity of 'male' analogies to 'male': 0.3377647399902344, to 'female': 0.2666329726576805\n",
      "Bias for 'male' analogies: 0.07113176733255389\n",
      "Similarity of 'female' analogies to 'male': 0.33030027225613595, to 'female': 0.3818299904465675\n",
      "Bias for 'female' analogies: 0.05152971819043156\n",
      "\n",
      "Word: bambino\n",
      "Similarity of 'male' analogies to 'male': 0.4203109800815582, to 'female': 0.4462025463581085\n",
      "Bias for 'male' analogies: 0.025891566276550315\n",
      "Similarity of 'female' analogies to 'male': 0.3692569434642792, to 'female': 0.4500099837779999\n",
      "Bias for 'female' analogies: 0.08075304031372071\n",
      "\n",
      "Word: famiglia\n",
      "Similarity of 'male' analogies to 'male': 0.37169394791126253, to 'female': 0.33755735903978346\n",
      "Bias for 'male' analogies: 0.03413658887147908\n",
      "Similarity of 'female' analogies to 'male': 0.37023376673460007, to 'female': 0.40520742535591125\n",
      "Bias for 'female' analogies: 0.03497365862131119\n",
      "\n",
      "Word: figlio\n",
      "Similarity of 'male' analogies to 'male': 0.4242926508188248, to 'female': 0.384756463766098\n",
      "Bias for 'male' analogies: 0.03953618705272677\n",
      "Similarity of 'female' analogies to 'male': 0.4138511002063751, to 'female': 0.4339599788188934\n",
      "Bias for 'female' analogies: 0.02010887861251831\n",
      "\n",
      "Word: genitore\n",
      "Similarity of 'male' analogies to 'male': 0.43802310526371, to 'female': 0.3968453675508499\n",
      "Bias for 'male' analogies: 0.041177737712860096\n",
      "Similarity of 'female' analogies to 'male': 0.41322357058525083, to 'female': 0.43106608390808104\n",
      "Bias for 'female' analogies: 0.01784251332283021\n"
     ]
    }
   ],
   "source": [
    "top_bias = score.get_top_bias(pred_positive_word='family')"
   ]
  },
  {
   "cell_type": "code",
   "execution_count": 7,
   "metadata": {},
   "outputs": [
    {
     "name": "stdout",
     "output_type": "stream",
     "text": [
      "\n",
      "Word: accudire\n",
      "\n",
      "Positive gender: male\n"
     ]
    },
    {
     "data": {
      "text/plain": [
       "[('dedicarsi', 0.004445362687110901),\n",
       " ('procurarsi', 0.003897855281829834),\n",
       " ('sacrificare', 0.0038402104377746583),\n",
       " ('dedicare', 0.0038223356008529664),\n",
       " ('adempiere', 0.0036985045671463013),\n",
       " ('sostentamento', 0.0036698457598686217),\n",
       " ('pasto', 0.003458617329597473),\n",
       " ('adattare', 0.0033995354175567626),\n",
       " ('esplicare', 0.0033927419781684875),\n",
       " ('assolvere', 0.003356236219406128)]"
      ]
     },
     "metadata": {},
     "output_type": "display_data"
    },
    {
     "name": "stdout",
     "output_type": "stream",
     "text": [
      "Positive gender: female\n"
     ]
    },
    {
     "data": {
      "text/plain": [
       "[('mangiare', 0.004226142764091492),\n",
       " ('bambino', 0.0037913140654563904),\n",
       " ('andarsene', 0.0037820088863372804),\n",
       " ('pulizia', 0.0037592536211013793),\n",
       " ('domestico', 0.003706730604171753),\n",
       " ('ragazza', 0.003608248233795166),\n",
       " ('mamma', 0.003576974272727966),\n",
       " ('tranquillamente', 0.0035543090105056765),\n",
       " ('dedicarsi', 0.0035467857122421266),\n",
       " ('ora', 0.003395317494869232)]"
      ]
     },
     "metadata": {},
     "output_type": "display_data"
    },
    {
     "name": "stdout",
     "output_type": "stream",
     "text": [
      "\n",
      "Word: matrimonio\n",
      "\n",
      "Positive gender: male\n"
     ]
    },
    {
     "data": {
      "text/plain": [
       "[('matrimonio', 0.008714920282363892),\n",
       " ('coniuge', 0.004453501105308533),\n",
       " ('contrarre', 0.0040754228830337524),\n",
       " ('figliare', 0.004054704904556275),\n",
       " ('nullita', 0.003772009313106537),\n",
       " ('contrattare', 0.0037107190489768984),\n",
       " ('figlio', 0.003701685667037964),\n",
       " ('genitore', 0.003638618290424347),\n",
       " ('religioso', 0.0036263853311538697),\n",
       " ('erede', 0.003617284297943115)]"
      ]
     },
     "metadata": {},
     "output_type": "display_data"
    },
    {
     "name": "stdout",
     "output_type": "stream",
     "text": [
      "Positive gender: female\n"
     ]
    },
    {
     "data": {
      "text/plain": [
       "[('matrimonio', 0.008818765878677368),\n",
       " ('coniuge', 0.003994110226631165),\n",
       " ('madre', 0.003804255127906799),\n",
       " ('figlio', 0.0037482964992523195),\n",
       " ('minorenne', 0.0036943888664245604),\n",
       " ('nullita', 0.003693387508392334),\n",
       " ('licenziamento', 0.003666011095046997),\n",
       " ('sesso', 0.003582318425178528),\n",
       " ('bambino', 0.003506814241409302),\n",
       " ('ragazza', 0.0034795206785202025)]"
      ]
     },
     "metadata": {},
     "output_type": "display_data"
    },
    {
     "name": "stdout",
     "output_type": "stream",
     "text": [
      "\n",
      "Word: bambino\n",
      "\n",
      "Positive gender: male\n"
     ]
    },
    {
     "data": {
      "text/plain": [
       "[('bambino', 0.008584889173507691),\n",
       " ('bimbo', 0.006671656370162964),\n",
       " ('ragazzo', 0.006267432570457459),\n",
       " ('figlio', 0.005902101397514343),\n",
       " ('genitore', 0.005880438685417175),\n",
       " ('fanciullo', 0.005782114267349243),\n",
       " ('creatura', 0.005306261777877808),\n",
       " ('madre', 0.005008050799369812),\n",
       " ('malato', 0.004983475804328919),\n",
       " ('padre', 0.004940121173858642)]"
      ]
     },
     "metadata": {},
     "output_type": "display_data"
    },
    {
     "name": "stdout",
     "output_type": "stream",
     "text": [
      "Positive gender: female\n"
     ]
    },
    {
     "data": {
      "text/plain": [
       "[('bambino', 0.00896656334400177),\n",
       " ('bimbo', 0.006902187466621399),\n",
       " ('ragazzo', 0.006570672988891602),\n",
       " ('fanciullo', 0.006181245446205139),\n",
       " ('ragazza', 0.005692279934883118),\n",
       " ('madre', 0.005679070353507996),\n",
       " ('ammalato', 0.005560184717178345),\n",
       " ('figlio', 0.005275740623474121),\n",
       " ('ricoverato', 0.005261427760124207),\n",
       " ('scolaro', 0.005137016773223877)]"
      ]
     },
     "metadata": {},
     "output_type": "display_data"
    },
    {
     "name": "stdout",
     "output_type": "stream",
     "text": [
      "\n",
      "Word: famiglia\n",
      "\n",
      "Positive gender: male\n"
     ]
    },
    {
     "data": {
      "text/plain": [
       "[('famiglia', 0.008747725486755372),\n",
       " ('famiglio', 0.006578624248504639),\n",
       " ('familiare', 0.005478525161743164),\n",
       " ('figlio', 0.005005384087562561),\n",
       " ('genitore', 0.004810256659984588),\n",
       " ('padre', 0.0046809127926826476),\n",
       " ('moglie', 0.004532037377357483),\n",
       " ('figliare', 0.004367718994617462),\n",
       " ('podere', 0.004027146697044372),\n",
       " ('colonico', 0.003988499343395233)]"
      ]
     },
     "metadata": {},
     "output_type": "display_data"
    },
    {
     "name": "stdout",
     "output_type": "stream",
     "text": [
      "Positive gender: female\n"
     ]
    },
    {
     "data": {
      "text/plain": [
       "[('famiglia', 0.008784778714179993),\n",
       " ('famiglio', 0.006578373312950134),\n",
       " ('madre', 0.005178713798522949),\n",
       " ('figlio', 0.0051274895668029785),\n",
       " ('bambino', 0.0050285434722900394),\n",
       " ('familiare', 0.005027446746826172),\n",
       " ('moglie', 0.004899892508983612),\n",
       " ('ragazza', 0.004484929442405701),\n",
       " ('mamma', 0.004457286298274994),\n",
       " ('colonico', 0.00441476970911026)]"
      ]
     },
     "metadata": {},
     "output_type": "display_data"
    },
    {
     "name": "stdout",
     "output_type": "stream",
     "text": [
      "\n",
      "Word: figlio\n",
      "\n",
      "Positive gender: male\n"
     ]
    },
    {
     "data": {
      "text/plain": [
       "[('figlio', 0.008743928670883179),\n",
       " ('genitore', 0.006900186538696289),\n",
       " ('figliare', 0.0062721347808837894),\n",
       " ('padre', 0.005848220586776733),\n",
       " ('moglie', 0.005352215766906738),\n",
       " ('coniuge', 0.005329657196998596),\n",
       " ('fratello', 0.0052834200859069825),\n",
       " ('famiglia', 0.005029486417770386),\n",
       " ('sorella', 0.004891587793827057),\n",
       " ('bambino', 0.004759061336517334)]"
      ]
     },
     "metadata": {},
     "output_type": "display_data"
    },
    {
     "name": "stdout",
     "output_type": "stream",
     "text": [
      "Positive gender: female\n"
     ]
    },
    {
     "data": {
      "text/plain": [
       "[('figlio', 0.008788654804229737),\n",
       " ('genitore', 0.006400023698806763),\n",
       " ('bambino', 0.006330084204673767),\n",
       " ('madre', 0.0059287166595458985),\n",
       " ('moglie', 0.005692713260650635),\n",
       " ('bimbo', 0.005540204048156738),\n",
       " ('ragazzo', 0.005483008623123169),\n",
       " ('orfano', 0.00528549075126648),\n",
       " ('figliare', 0.005228322744369507),\n",
       " ('famiglia', 0.005103728175163269)]"
      ]
     },
     "metadata": {},
     "output_type": "display_data"
    }
   ],
   "source": [
    "score.print_top_analogies()"
   ]
  },
  {
   "cell_type": "markdown",
   "metadata": {},
   "source": [
    "---"
   ]
  },
  {
   "cell_type": "markdown",
   "metadata": {},
   "source": [
    "# 3) WEAT and ECT"
   ]
  },
  {
   "cell_type": "markdown",
   "metadata": {},
   "source": [
    "## WEAT"
   ]
  },
  {
   "cell_type": "code",
   "execution_count": 8,
   "metadata": {},
   "outputs": [],
   "source": [
    "from INFORET_project import WEAT\n",
    "from INFORET_project.data import gendered_neutral_words"
   ]
  },
  {
   "cell_type": "code",
   "execution_count": 3,
   "metadata": {},
   "outputs": [],
   "source": [
    "model = KeyedVectors.load('we_models/W2V_by_years_1948_1968')"
   ]
  },
  {
   "cell_type": "code",
   "execution_count": 9,
   "metadata": {},
   "outputs": [
    {
     "data": {
      "text/plain": [
       "{'Target words': 'career vs. family',\n",
       " 'Attrib. words': 'donna vs. uomo',\n",
       " 's': -0.752927340567112,\n",
       " 'd': -1.6041145,\n",
       " 'p': 0.9989177489177489,\n",
       " 'Nt': '10x2',\n",
       " 'Na': '3x2'}"
      ]
     },
     "execution_count": 9,
     "metadata": {},
     "output_type": "execute_result"
    }
   ],
   "source": [
    "WEAT(model.wv, \n",
    "     first_target={'name':'career', 'words': gendered_neutral_words['career']},\n",
    "     second_target={'name':'family', 'words': gendered_neutral_words['family']},\n",
    "     first_attribute={'name':'donna', 'words': gendered_neutral_words['female']},\n",
    "     second_attribute={'name':'uomo', 'words': gendered_neutral_words['male']}\n",
    ")\n",
    "\n",
    "# WEAT result (score, size effect, Nt, Na and p-value)\n",
    "# score: z-score. result of the test statistic\n",
    "# size effect: intensity of the effect, how much the 2 samples are separated\n",
    "# p-value: The null hypothesis is that there is no difference between the two sets of target words in \n",
    "#terms of their relative similarity to the two sets of attribute words.\n",
    "# Nt: dimension of target (6x2: 6 words for 2 targets)\n",
    "# Na: dimension of attributes (8x2: 8 words for 2 attributes)\n",
    "\n",
    "# low p-value, so H0 rejected"
   ]
  },
  {
   "cell_type": "code",
   "execution_count": 10,
   "metadata": {},
   "outputs": [
    {
     "data": {
      "text/plain": [
       "{'Target words': 'male_stereotypes vs. female_stereotypes',\n",
       " 'Attrib. words': 'donna vs. uomo',\n",
       " 's': -0.24709320068359375,\n",
       " 'd': -0.95323783,\n",
       " 'p': 0.9557109557109557,\n",
       " 'Nt': '7x2',\n",
       " 'Na': '3x2'}"
      ]
     },
     "execution_count": 10,
     "metadata": {},
     "output_type": "execute_result"
    }
   ],
   "source": [
    "WEAT(model.wv, \n",
    "     first_target={'name':'male_stereotypes', 'words': gendered_neutral_words['male_stereotypes']},\n",
    "     second_target={'name':'female_stereotypes', 'words': gendered_neutral_words['female_stereotypes']},\n",
    "     first_attribute={'name':'donna', 'words': gendered_neutral_words['female']},\n",
    "     second_attribute={'name':'uomo', 'words': gendered_neutral_words['male']}\n",
    ")"
   ]
  },
  {
   "cell_type": "markdown",
   "metadata": {},
   "source": [
    "## ECT"
   ]
  },
  {
   "cell_type": "code",
   "execution_count": 11,
   "metadata": {},
   "outputs": [],
   "source": [
    "from INFORET_project.utils import fast_cosine_sim, calculate_avg_vector\n",
    "from INFORET_project import ECT"
   ]
  },
  {
   "cell_type": "code",
   "execution_count": 12,
   "metadata": {},
   "outputs": [
    {
     "name": "stdout",
     "output_type": "stream",
     "text": [
      "ECT for words: ['famiglia', 'figlio', 'matrimonio', 'genitore', 'bambino', 'accudire']\n",
      "\n",
      "Spearman correlation has value 0.7714 with p-value 0.0724\n",
      "High correlation --> Low bias\n",
      "\n",
      "Cosine similarity of 'famiglia' to 'female' is 0.3612, to 'male' is 0.3747\n",
      "Cosine similarity of 'figlio' to 'female' is 0.4409, to 'male' is 0.4577\n",
      "Cosine similarity of 'matrimonio' to 'female' is 0.3251, to 'male' is 0.3103\n",
      "Cosine similarity of 'genitore' to 'female' is 0.3743, to 'male' is 0.4375\n",
      "Cosine similarity of 'bambino' to 'female' is 0.5360, to 'male' is 0.4293\n",
      "Cosine similarity of 'accudire' to 'female' is 0.3432, to 'male' is 0.3072\n"
     ]
    }
   ],
   "source": [
    "spearman_corr, pval = ECT(model.wv, \n",
    "                          gendered_neutral_words['female'], \n",
    "                          gendered_neutral_words['male'], \n",
    "                          neutral_words = gendered_neutral_words['family'])"
   ]
  },
  {
   "cell_type": "code",
   "execution_count": 16,
   "metadata": {},
   "outputs": [
    {
     "name": "stdout",
     "output_type": "stream",
     "text": [
      "ECT for words: ['capo', 'presidente', 'onorevole', 'potere', 'carriera', 'salario', 'lavoro', 'professionale', 'denaro', 'ambizione']\n",
      "\n",
      "Spearman correlation has value 0.4182 with p-value 0.2291\n",
      "Moderate correlation --> Moderate bias\n",
      "\n",
      "Cosine similarity of 'capo' to 'female' is 0.1374, to 'male' is 0.1829\n",
      "Cosine similarity of 'presidente' to 'female' is 0.1468, to 'male' is 0.2569\n",
      "Cosine similarity of 'onorevole' to 'female' is 0.1621, to 'male' is 0.2763\n",
      "Cosine similarity of 'potere' to 'female' is 0.1830, to 'male' is 0.2610\n",
      "Cosine similarity of 'carriera' to 'female' is 0.2111, to 'male' is 0.1765\n",
      "Cosine similarity of 'salario' to 'female' is 0.2812, to 'male' is 0.2145\n",
      "Cosine similarity of 'lavoro' to 'female' is 0.1026, to 'male' is 0.1105\n",
      "Cosine similarity of 'professionale' to 'female' is 0.2597, to 'male' is 0.2347\n",
      "Cosine similarity of 'denaro' to 'female' is 0.1057, to 'male' is 0.1724\n",
      "Cosine similarity of 'ambizione' to 'female' is 0.2159, to 'male' is 0.1939\n"
     ]
    }
   ],
   "source": [
    "spearman_corr, pval = ECT(model.wv, \n",
    "                          gendered_neutral_words['female'], \n",
    "                          gendered_neutral_words['male'], \n",
    "                          neutral_words = gendered_neutral_words['career'])"
   ]
  },
  {
   "cell_type": "code",
   "execution_count": 9,
   "metadata": {},
   "outputs": [
    {
     "name": "stdout",
     "output_type": "stream",
     "text": [
      "ECT for words: ['bello', 'superficiale', 'frivolo', 'sensibile', 'delicato', 'gentile', 'passivo', 'silenzioso', 'insicuro', 'illogico', 'isterico', 'debole', 'irrazionale']\n",
      "\n",
      "Spearman correlation has value 0.6538 with p-value 0.0153\n",
      "Moderate correlation --> Moderate bias\n",
      "\n",
      "Cosine similarity of 'bello' to 'female' is 0.2014, to 'male' is 0.2699\n",
      "Cosine similarity of 'superficiale' to 'female' is 0.1012, to 'male' is 0.0804\n",
      "Cosine similarity of 'frivolo' to 'female' is 0.3124, to 'male' is 0.4547\n",
      "Cosine similarity of 'sensibile' to 'female' is 0.2410, to 'male' is 0.2043\n",
      "Cosine similarity of 'delicato' to 'female' is 0.2247, to 'male' is 0.1971\n",
      "Cosine similarity of 'gentile' to 'female' is 0.2040, to 'male' is 0.2745\n",
      "Cosine similarity of 'passivo' to 'female' is 0.2332, to 'male' is 0.1659\n",
      "Cosine similarity of 'silenzioso' to 'female' is 0.2856, to 'male' is 0.2322\n",
      "Cosine similarity of 'insicuro' to 'female' is 0.3190, to 'male' is 0.2932\n",
      "Cosine similarity of 'illogico' to 'female' is 0.0738, to 'male' is 0.0976\n",
      "Cosine similarity of 'isterico' to 'female' is 0.2321, to 'male' is 0.2622\n",
      "Cosine similarity of 'debole' to 'female' is 0.2851, to 'male' is 0.2551\n",
      "Cosine similarity of 'irrazionale' to 'female' is 0.1074, to 'male' is 0.1299\n"
     ]
    }
   ],
   "source": [
    "spearman_corr, pval = ECT(model.wv, \n",
    "                          gendered_neutral_words['female'], \n",
    "                          gendered_neutral_words['male'], \n",
    "                          neutral_words = gendered_neutral_words['female_stereotypes'])"
   ]
  },
  {
   "cell_type": "code",
   "execution_count": 18,
   "metadata": {},
   "outputs": [
    {
     "name": "stdout",
     "output_type": "stream",
     "text": [
      "ECT for words: ['intelligente', 'razionale', 'saggio', 'ambizioso', 'forte', 'crudele', 'intollerante']\n",
      "\n",
      "Spearman correlation has value 0.9643 with p-value 0.0005\n",
      "High correlation --> Low bias\n",
      "\n",
      "Cosine similarity of 'intelligente' to 'female' is 0.2679, to 'male' is 0.3162\n",
      "Cosine similarity of 'razionale' to 'female' is 0.1441, to 'male' is 0.1110\n",
      "Cosine similarity of 'saggio' to 'female' is 0.2478, to 'male' is 0.2573\n",
      "Cosine similarity of 'ambizioso' to 'female' is 0.1682, to 'male' is 0.2052\n",
      "Cosine similarity of 'forte' to 'female' is 0.2035, to 'male' is 0.2288\n",
      "Cosine similarity of 'crudele' to 'female' is 0.3126, to 'male' is 0.2876\n",
      "Cosine similarity of 'intollerante' to 'female' is 0.3143, to 'male' is 0.3642\n"
     ]
    }
   ],
   "source": [
    "spearman_corr, pval = ECT(model.wv, \n",
    "                          gendered_neutral_words['female'], \n",
    "                          gendered_neutral_words['male'], \n",
    "                          neutral_words = gendered_neutral_words['male_stereotypes'])"
   ]
  },
  {
   "cell_type": "code",
   "execution_count": 30,
   "metadata": {},
   "outputs": [
    {
     "name": "stdout",
     "output_type": "stream",
     "text": [
      "ECT for words: ['intollerante', 'crudele', 'isterico', 'aggressivo', 'brutale', 'odioso', 'cattivo']\n",
      "\n",
      "Spearman correlation has value 0.8571 with p-value 0.0137\n",
      "High correlation --> Low bias\n",
      "\n",
      "Cosine similarity of 'intollerante' to 'female' is 0.2680, to 'male' is 0.2491\n",
      "Cosine similarity of 'crudele' to 'female' is 0.2685, to 'male' is 0.2354\n",
      "Cosine similarity of 'isterico' to 'female' is 0.2520, to 'male' is 0.2439\n",
      "Cosine similarity of 'aggressivo' to 'female' is 0.1572, to 'male' is 0.1096\n",
      "Cosine similarity of 'brutale' to 'female' is 0.2082, to 'male' is 0.1489\n",
      "Cosine similarity of 'odioso' to 'female' is 0.2511, to 'male' is 0.1883\n",
      "Cosine similarity of 'cattivo' to 'female' is 0.1634, to 'male' is 0.1506\n"
     ]
    }
   ],
   "source": [
    "spearman_corr, pval = ECT(model.wv, \n",
    "                          gendered_neutral_words['female'], \n",
    "                          gendered_neutral_words['male'], \n",
    "                          neutral_words = gendered_neutral_words['rage'])"
   ]
  },
  {
   "cell_type": "code",
   "execution_count": 31,
   "metadata": {},
   "outputs": [
    {
     "name": "stdout",
     "output_type": "stream",
     "text": [
      "ECT for words: ['premuroso', 'sensibile', 'delicato', 'buono', 'bravo']\n",
      "\n",
      "Spearman correlation has value 0.3000 with p-value 0.6238\n",
      "Moderate correlation --> Moderate bias\n",
      "\n",
      "Cosine similarity of 'premuroso' to 'female' is 0.4219, to 'male' is 0.4423\n",
      "Cosine similarity of 'sensibile' to 'female' is 0.2052, to 'male' is 0.1993\n",
      "Cosine similarity of 'delicato' to 'female' is 0.1560, to 'male' is 0.1426\n",
      "Cosine similarity of 'buono' to 'female' is 0.1840, to 'male' is 0.2057\n",
      "Cosine similarity of 'bravo' to 'female' is 0.1441, to 'male' is 0.3304\n"
     ]
    }
   ],
   "source": [
    "spearman_corr, pval = ECT(model.wv, \n",
    "                          gendered_neutral_words['female'], \n",
    "                          gendered_neutral_words['male'], \n",
    "                          neutral_words = gendered_neutral_words['kindness'])"
   ]
  },
  {
   "cell_type": "code",
   "execution_count": 32,
   "metadata": {},
   "outputs": [
    {
     "name": "stdout",
     "output_type": "stream",
     "text": [
      "ECT for words: ['ambizioso', 'forte', 'assertivo', 'sicuro']\n",
      "\n",
      "Spearman correlation has value 0.8000 with p-value 0.2000\n",
      "High correlation --> Low bias\n",
      "\n",
      "Cosine similarity of 'ambizioso' to 'female' is 0.1076, to 'male' is 0.1195\n",
      "Cosine similarity of 'forte' to 'female' is 0.1613, to 'male' is 0.1652\n",
      "Cosine similarity of 'assertivo' to 'female' is 0.2730, to 'male' is 0.2641\n",
      "Cosine similarity of 'sicuro' to 'female' is 0.1501, to 'male' is 0.2230\n"
     ]
    }
   ],
   "source": [
    "spearman_corr, pval = ECT(model.wv, \n",
    "                          gendered_neutral_words['female'], \n",
    "                          gendered_neutral_words['male'], \n",
    "                          neutral_words = gendered_neutral_words['active'])"
   ]
  },
  {
   "cell_type": "code",
   "execution_count": 33,
   "metadata": {},
   "outputs": [
    {
     "name": "stdout",
     "output_type": "stream",
     "text": [
      "ECT for words: ['timido', 'passivo', 'insicuro', 'debole']\n",
      "\n",
      "Spearman correlation has value 0.4000 with p-value 0.6000\n",
      "Moderate correlation --> Moderate bias\n",
      "\n",
      "Cosine similarity of 'timido' to 'female' is 0.1413, to 'male' is 0.0818\n",
      "Cosine similarity of 'passivo' to 'female' is 0.2038, to 'male' is 0.1974\n",
      "Cosine similarity of 'insicuro' to 'female' is 0.2750, to 'male' is 0.1942\n",
      "Cosine similarity of 'debole' to 'female' is 0.2337, to 'male' is 0.2131\n"
     ]
    }
   ],
   "source": [
    "spearman_corr, pval = ECT(model.wv, \n",
    "                          gendered_neutral_words['female'], \n",
    "                          gendered_neutral_words['male'], \n",
    "                          neutral_words = gendered_neutral_words['passive'])"
   ]
  },
  {
   "cell_type": "code",
   "execution_count": 34,
   "metadata": {},
   "outputs": [
    {
     "name": "stdout",
     "output_type": "stream",
     "text": [
      "ECT for words: ['intelligente', 'razionale', 'saggio', 'studioso', 'serio']\n",
      "\n",
      "Spearman correlation has value 0.6000 with p-value 0.2848\n",
      "Moderate correlation --> Moderate bias\n",
      "\n",
      "Cosine similarity of 'intelligente' to 'female' is 0.1905, to 'male' is 0.2639\n",
      "Cosine similarity of 'razionale' to 'female' is 0.0948, to 'male' is 0.1226\n",
      "Cosine similarity of 'saggio' to 'female' is 0.2104, to 'male' is 0.2332\n",
      "Cosine similarity of 'studioso' to 'female' is 0.1374, to 'male' is 0.2804\n",
      "Cosine similarity of 'serio' to 'female' is 0.1004, to 'male' is 0.1440\n"
     ]
    }
   ],
   "source": [
    "spearman_corr, pval = ECT(model.wv, \n",
    "                          gendered_neutral_words['female'], \n",
    "                          gendered_neutral_words['male'], \n",
    "                          neutral_words = gendered_neutral_words['intelligence'])"
   ]
  },
  {
   "cell_type": "code",
   "execution_count": 11,
   "metadata": {},
   "outputs": [
    {
     "name": "stdout",
     "output_type": "stream",
     "text": [
      "ECT for words: ['illogico', 'irrazionale', 'stupido', 'superficiale']\n",
      "\n",
      "Spearman correlation has value 1.0000 with p-value 0.0000\n",
      "High correlation --> Low bias\n",
      "\n",
      "Cosine similarity of 'illogico' to 'female' is 0.1155, to 'male' is 0.0661\n",
      "Cosine similarity of 'irrazionale' to 'female' is 0.1216, to 'male' is 0.0806\n",
      "Cosine similarity of 'stupido' to 'female' is 0.2806, to 'male' is 0.3270\n",
      "Cosine similarity of 'superficiale' to 'female' is 0.1665, to 'male' is 0.1251\n"
     ]
    }
   ],
   "source": [
    "spearman_corr, pval = ECT(model.wv, \n",
    "                          gendered_neutral_words['female'], \n",
    "                          gendered_neutral_words['male'], \n",
    "                          neutral_words = gendered_neutral_words['dumbness'])"
   ]
  },
  {
   "cell_type": "markdown",
   "metadata": {},
   "source": [
    "---"
   ]
  },
  {
   "cell_type": "code",
   "execution_count": 4,
   "metadata": {},
   "outputs": [],
   "source": [
    "model = KeyedVectors.load('we_models/W2V_by_years_1948_1968')"
   ]
  },
  {
   "cell_type": "code",
   "execution_count": 6,
   "metadata": {},
   "outputs": [],
   "source": [
    "model = KeyedVectors.load('we_models/W2V_by_years_1968_1985')"
   ]
  },
  {
   "cell_type": "code",
   "execution_count": 8,
   "metadata": {},
   "outputs": [],
   "source": [
    "model = KeyedVectors.load('we_models/W2V_by_years_1985_2000')"
   ]
  },
  {
   "cell_type": "code",
   "execution_count": 6,
   "metadata": {},
   "outputs": [],
   "source": [
    "model = KeyedVectors.load('we_models/W2V_by_years_2000_2020')"
   ]
  },
  {
   "cell_type": "code",
   "execution_count": null,
   "metadata": {},
   "outputs": [],
   "source": [
    "# comparazoone metodi diversi\n",
    "# ob funzioni: capire qnd parola legata a genere\n",
    "# fai ranking parole, se i metodi sono robusti.\n",
    "# studia intersezioni tra parole\n",
    "# fai manualmente liste di parole polarizzate e parole neutre, vedi\n",
    "# se i metodi le trovano nella posizione giusta.\n",
    "# applica debias e vedi differenze?\n",
    "# baseline: dividi i doc in 2 gruppi M,F e calcola misura di specificità di\n",
    "#parole (TFIDF, PMI) per vedere se sono caratteristiche.\n",
    "# i metodi fanno meglio? \n",
    "\n",
    "# correlazione tra stereotipi e numero di donne in aumento del parlamentoà"
   ]
  }
 ],
 "metadata": {
  "kernelspec": {
   "display_name": "Python 3",
   "language": "python",
   "name": "python3"
  },
  "language_info": {
   "codemirror_mode": {
    "name": "ipython",
    "version": 3
   },
   "file_extension": ".py",
   "mimetype": "text/x-python",
   "name": "python",
   "nbconvert_exporter": "python",
   "pygments_lexer": "ipython3",
   "version": "3.8.5"
  }
 },
 "nbformat": 4,
 "nbformat_minor": 4
}
