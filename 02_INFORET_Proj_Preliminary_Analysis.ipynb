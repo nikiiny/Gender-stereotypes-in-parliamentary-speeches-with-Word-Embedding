{
 "cells": [
  {
   "cell_type": "markdown",
   "metadata": {},
   "source": [
    "# INFORMATION RETRIEVAL PROJECT\n",
    "# 2. ANALYSIS OF GENDER STEREOTYPES BY YEARS - PRELIMINARY ANALYSIS"
   ]
  },
  {
   "cell_type": "markdown",
   "metadata": {},
   "source": [
    "---\n",
    "## Gender stereotypes in parliamentary speeches\n",
    "\n",
    "In word embedding models, each word is assigned to a high-dimensional vector such that the geometry of the vectors captures semantic relations between the words – e.g. vectors being closer together has been shown to correspond to more similar words. Recent works in machine learning demonstrate that word embeddings also capture common stereotypes, as these stereotypes are likely to be present, even if subtly, in the large corpora of training texts. These stereotypes are automatically learned by the embedding algorithm and could be problematic in many context if the embedding is then used for sensitive applications such as search rankings, product recommendations, or translations. An important direction of research is on developing algorithms to debias the word embeddings.\n",
    "\n",
    "This project aims to use the word embeddings to study historical trends – specifically trends in the gender and ethnic stereotypes in the Italian parliamentary speeches from 1948 to 2020."
   ]
  },
  {
   "cell_type": "code",
   "execution_count": 1,
   "metadata": {},
   "outputs": [],
   "source": [
    "import numpy as np\n",
    "import pandas as pd\n",
    "import gensim\n",
    "from gensim.models import KeyedVectors\n",
    "from gensim.models import Word2Vec\n",
    "import pickle\n",
    "import os\n",
    "from collections import defaultdict, OrderedDict\n",
    "from tqdm.auto import tqdm\n",
    "import itertools\n",
    "from itertools import product\n",
    "import json\n",
    "from sklearn.feature_extraction.text import TfidfVectorizer\n",
    "\n",
    "from INFORET_project import load_embed_model\n",
    "# import matplotlib.pylab as plt\n",
    "pd.set_option(\"display.max_rows\", 100, \"display.max_columns\", 100)"
   ]
  },
  {
   "cell_type": "markdown",
   "metadata": {},
   "source": [
    "Load a different model for each time period"
   ]
  },
  {
   "cell_type": "code",
   "execution_count": 13,
   "metadata": {},
   "outputs": [],
   "source": [
    "from INFORET_project import YEARS"
   ]
  },
  {
   "cell_type": "code",
   "execution_count": 14,
   "metadata": {},
   "outputs": [
    {
     "data": {
      "text/plain": [
       "['1948_1968', '1968_1985', '1985_2000', '2000_2020']"
      ]
     },
     "execution_count": 14,
     "metadata": {},
     "output_type": "execute_result"
    }
   ],
   "source": [
    "YEARS"
   ]
  },
  {
   "cell_type": "code",
   "execution_count": null,
   "metadata": {},
   "outputs": [],
   "source": [
    "model = load_embed_model(YEARS[0])"
   ]
  },
  {
   "cell_type": "code",
   "execution_count": 7,
   "metadata": {},
   "outputs": [],
   "source": [
    "model = load_embed_model(YEARS[1])"
   ]
  },
  {
   "cell_type": "code",
   "execution_count": 8,
   "metadata": {},
   "outputs": [],
   "source": [
    "model = load_embed_model(YEARS[2])"
   ]
  },
  {
   "cell_type": "code",
   "execution_count": 16,
   "metadata": {},
   "outputs": [],
   "source": [
    "model = load_embed_model(YEARS[3])"
   ]
  },
  {
   "cell_type": "markdown",
   "metadata": {},
   "source": [
    "---"
   ]
  },
  {
   "cell_type": "markdown",
   "metadata": {},
   "source": [
    "## 1) PRELIMINARY ANALYSIS\n",
    "Create a group of gendered words and retrieve the mean vector, then retrieve the most similar words to the mean vector. This provides to us a first hint of the most related words to each gender."
   ]
  },
  {
   "cell_type": "code",
   "execution_count": 58,
   "metadata": {},
   "outputs": [],
   "source": [
    "# to return the nearest words to an averaged vector of words. cosine similarity is used\n",
    "from INFORET_project import similar_to_avg_vector \n",
    "# download the dictionary of useful words\n",
    "from INFORET_project.data import gendered_neutral_words"
   ]
  },
  {
   "cell_type": "code",
   "execution_count": 31,
   "metadata": {
    "scrolled": true
   },
   "outputs": [
    {
     "name": "stdout",
     "output_type": "stream",
     "text": [
      "\n",
      "Years: 1948_1968\n",
      "\n",
      "Most similar words to male vector:\n"
     ]
    },
    {
     "data": {
      "text/plain": [
       "[('Zappelli', 0.5698506832122803),\n",
       " ('Settembrini', 0.5646949410438538),\n",
       " ('lei', 0.562781572341919),\n",
       " ('Lho', 0.5611302256584167),\n",
       " ('maschiare', 0.5558352470397949),\n",
       " ('divulgatore', 0.5550841093063354),\n",
       " ('Uscito', 0.5509503483772278),\n",
       " ('brav', 0.5507361888885498),\n",
       " ('piglio', 0.5503260493278503),\n",
       " ('Spellanzon', 0.5499021410942078),\n",
       " ('Montemartini', 0.5494170188903809),\n",
       " ('Maffi', 0.545027494430542),\n",
       " ('Roggero', 0.5446869134902954),\n",
       " ('possedette', 0.543790876865387),\n",
       " ('casata', 0.5433430075645447),\n",
       " ('Olgiati', 0.5430217981338501),\n",
       " ('causidica', 0.5428649187088013),\n",
       " ('novantenne', 0.5408570170402527),\n",
       " ('Ricordati', 0.539644181728363),\n",
       " ('Filpo', 0.5394607186317444)]"
      ]
     },
     "metadata": {},
     "output_type": "display_data"
    },
    {
     "name": "stdout",
     "output_type": "stream",
     "text": [
      "\n",
      "Most similar words to female vector:\n"
     ]
    },
    {
     "data": {
      "text/plain": [
       "[('maschio', 0.6027352809906006),\n",
       " ('coniugato', 0.5403891801834106),\n",
       " ('bambino', 0.5359815359115601),\n",
       " ('madre', 0.5300886034965515),\n",
       " ('A4110ra', 0.5290261507034302),\n",
       " ('Duro', 0.5266222953796387),\n",
       " ('pizza', 0.5260553359985352),\n",
       " ('traviata', 0.5229917764663696),\n",
       " ('caramellare', 0.5219253301620483),\n",
       " ('Speravano', 0.519498884677887),\n",
       " ('educabili', 0.5186226963996887),\n",
       " ('piazzarsi', 0.5178252458572388),\n",
       " ('tenerissima', 0.5173928141593933),\n",
       " ('ragazza', 0.516727864742279),\n",
       " ('PerchP', 0.5149996280670166),\n",
       " ('Parlavamo', 0.5093346238136292),\n",
       " ('epoi', 0.5088962316513062),\n",
       " ('magliaie', 0.5078704953193665),\n",
       " ('Nbn', 0.507202684879303),\n",
       " ('ragazzina', 0.5067441463470459)]"
      ]
     },
     "metadata": {},
     "output_type": "display_data"
    },
    {
     "name": "stdout",
     "output_type": "stream",
     "text": [
      "\n",
      "Years: 1968_1985\n",
      "\n",
      "Most similar words to male vector:\n"
     ]
    },
    {
     "data": {
      "text/plain": [
       "[('imparentare', 0.5919234752655029),\n",
       " ('dabbene', 0.5873482823371887),\n",
       " ('Cascavilla', 0.5757697224617004),\n",
       " ('moraleggiare', 0.57254558801651),\n",
       " ('Pascal', 0.5718967914581299),\n",
       " ('degnissima', 0.5694552063941956),\n",
       " ('toccarla', 0.5629111528396606),\n",
       " ('incestuoso', 0.5626682639122009),\n",
       " ('Mahler', 0.5580506324768066),\n",
       " ('Pagheranno', 0.5543779730796814),\n",
       " ('Ponzo', 0.5536849498748779),\n",
       " ('Studenti', 0.5516732931137085),\n",
       " ('andarvi', 0.5507052540779114),\n",
       " ('integerrimo', 0.5496920943260193),\n",
       " ('focoso', 0.5495660305023193),\n",
       " ('sottoccupato', 0.5480859279632568),\n",
       " ('peccatore', 0.5471469759941101),\n",
       " ('svillaneggiare', 0.5464788675308228),\n",
       " ('suggestivamente', 0.5458648800849915),\n",
       " ('violabili', 0.545601487159729)]"
      ]
     },
     "metadata": {},
     "output_type": "display_data"
    },
    {
     "name": "stdout",
     "output_type": "stream",
     "text": [
      "\n",
      "Most similar words to female vector:\n"
     ]
    },
    {
     "data": {
      "text/plain": [
       "[('emancipato', 0.6487357020378113),\n",
       " ('sessualmente', 0.6152198314666748),\n",
       " ('maschiare', 0.6015832424163818),\n",
       " ('giovanissime', 0.5884872674942017),\n",
       " ('nubile', 0.5852416157722473),\n",
       " ('focomelico', 0.5786728858947754),\n",
       " ('55°', 0.5733279585838318),\n",
       " ('evirare', 0.5684111714363098),\n",
       " ('lei', 0.5655562281608582),\n",
       " ('lesbica', 0.565072774887085),\n",
       " ('abortire', 0.5640296339988708),\n",
       " ('ragazza', 0.5634415149688721),\n",
       " ('sgraziato', 0.5633205771446228),\n",
       " ('incinto', 0.5623881220817566),\n",
       " ('Resti', 0.5620538592338562),\n",
       " ('puerpera', 0.561506450176239),\n",
       " ('Vapona', 0.5599506497383118),\n",
       " ('malformato', 0.5562317371368408),\n",
       " ('nutrice', 0.5554565191268921),\n",
       " ('incestuoso', 0.5538656711578369)]"
      ]
     },
     "metadata": {},
     "output_type": "display_data"
    },
    {
     "name": "stdout",
     "output_type": "stream",
     "text": [
      "\n",
      "Years: 1985_2000\n",
      "\n",
      "Most similar words to male vector:\n"
     ]
    },
    {
     "data": {
      "text/plain": [
       "[('capoccia', 0.5751026272773743),\n",
       " ('supplicare', 0.5648277401924133),\n",
       " ('evangelista', 0.5597399473190308),\n",
       " ('coglione', 0.5544094443321228),\n",
       " ('prostituire', 0.5524687767028809),\n",
       " ('tenerezza', 0.5514913201332092),\n",
       " ('aguzzino', 0.5504509210586548),\n",
       " ('Nietzsche', 0.5490137338638306),\n",
       " ('immodestamente', 0.545851469039917),\n",
       " ('sentirla', 0.5446656942367554),\n",
       " ('battagliero', 0.5441685914993286),\n",
       " ('Votano', 0.5432336330413818),\n",
       " ('squartare', 0.542973518371582),\n",
       " ('Parlava', 0.5422471165657043),\n",
       " ('abate', 0.5420100092887878),\n",
       " ('cannonata', 0.5413274765014648),\n",
       " ('ubriacare', 0.5363138318061829),\n",
       " ('motoretta', 0.5358209609985352),\n",
       " ('Arbore', 0.5346950888633728),\n",
       " ('Milton', 0.5343030691146851)]"
      ]
     },
     "metadata": {},
     "output_type": "display_data"
    },
    {
     "name": "stdout",
     "output_type": "stream",
     "text": [
      "\n",
      "Most similar words to female vector:\n"
     ]
    },
    {
     "data": {
      "text/plain": [
       "[('divorziato', 0.5739867091178894),\n",
       " ('menopausa', 0.5716233849525452),\n",
       " ('giovanissime', 0.5603377819061279),\n",
       " ('incinto', 0.558162271976471),\n",
       " ('partoriente', 0.5513758659362793),\n",
       " ('sieropositivo', 0.551144540309906),\n",
       " ('monoparentali', 0.5507063269615173),\n",
       " ('empowerment', 0.5504602789878845),\n",
       " ('motoretta', 0.5501375198364258),\n",
       " ('bambino', 0.548194408416748),\n",
       " ('single', 0.546561062335968),\n",
       " ('bambina', 0.5425636768341064),\n",
       " ('persona', 0.5407829284667969),\n",
       " ('ragazza', 0.5405844449996948),\n",
       " ('accudire', 0.5405091643333435),\n",
       " ('adulto', 0.5365861654281616),\n",
       " ('giovane', 0.5364285707473755),\n",
       " ('procreare', 0.5351355075836182),\n",
       " ('studentessa', 0.5350608229637146),\n",
       " ('maciullare', 0.5350210070610046)]"
      ]
     },
     "metadata": {},
     "output_type": "display_data"
    },
    {
     "name": "stdout",
     "output_type": "stream",
     "text": [
      "\n",
      "Years: 2000_2020\n",
      "\n",
      "Most similar words to male vector:\n"
     ]
    },
    {
     "data": {
      "text/plain": [
       "[('moderatore', 0.5495796799659729),\n",
       " ('magistrate', 0.537135124206543),\n",
       " ('Uomini', 0.525381326675415),\n",
       " ('probo', 0.5215122103691101),\n",
       " ('anonimamente', 0.518482506275177),\n",
       " ('gesuita', 0.517815887928009),\n",
       " ('Mensorio', 0.5054284930229187),\n",
       " ('Franchi', 0.5021278262138367),\n",
       " ('PadoaSchioppa', 0.5015751719474792),\n",
       " ('Masih', 0.5006906390190125),\n",
       " ('Rapisarda', 0.49734416604042053),\n",
       " ('Restituiamo', 0.49563267827033997),\n",
       " ('Pinchera', 0.4954855442047119),\n",
       " ('eroicamente', 0.4952343702316284),\n",
       " ('icari', 0.49391478300094604),\n",
       " ('Castiglioni', 0.49375438690185547),\n",
       " ('semianalfabeta', 0.4926125407218933),\n",
       " ('onorabile', 0.49101564288139343),\n",
       " ('Sponziello', 0.4908043444156647),\n",
       " ('Dracula', 0.4868161976337433)]"
      ]
     },
     "metadata": {},
     "output_type": "display_data"
    },
    {
     "name": "stdout",
     "output_type": "stream",
     "text": [
      "\n",
      "Most similar words to female vector:\n"
     ]
    },
    {
     "data": {
      "text/plain": [
       "[('incinto', 0.61652010679245),\n",
       " ('maschiare', 0.5876336693763733),\n",
       " ('bambina', 0.5753710865974426),\n",
       " ('spose', 0.5685369372367859),\n",
       " ('uomini', 0.5532326102256775),\n",
       " ('Uomini', 0.5529881715774536),\n",
       " ('picchiata', 0.5529308915138245),\n",
       " ('normodotate', 0.5496178865432739),\n",
       " ('genealogia', 0.5464109182357788),\n",
       " ('ragazza', 0.5432000756263733),\n",
       " ('monoparentali', 0.5316020846366882),\n",
       " ('fattrice', 0.5290380716323853),\n",
       " ('puerpera', 0.5267908573150635),\n",
       " ('femminilita', 0.5266191363334656),\n",
       " ('giovanissime', 0.5249960422515869),\n",
       " ('persona', 0.5235183835029602),\n",
       " ('bambino', 0.5234599113464355),\n",
       " ('bisessuale', 0.5211064219474792),\n",
       " ('giovanissima', 0.5206022262573242),\n",
       " ('menopausa', 0.5193460583686829)]"
      ]
     },
     "metadata": {},
     "output_type": "display_data"
    }
   ],
   "source": [
    "# Print for every time period the most similar words to the averaged vectors of genders\n",
    "\n",
    "for year in YEARS:\n",
    "    print(f\"\\nYears: {year}\")\n",
    "    model = load_embed_model(year)\n",
    "    \n",
    "    for gender in ['male','female']:\n",
    "        print(f\"\\nMost similar words to {gender} vector:\")\n",
    "        _ = similar_to_avg_vector(model.wv, gendered_neutral_words[gender]) "
   ]
  },
  {
   "cell_type": "markdown",
   "metadata": {},
   "source": [
    "## 2) TF-IDF BASELINE"
   ]
  },
  {
   "cell_type": "markdown",
   "metadata": {},
   "source": [
    "Use TF-IDF to create a baseline for assessing the performance of the other methods. <br>\n",
    "First, retrieve the TF-IDF for the words in the documents divided by the gender of speakers and time periods. Then compute, for each time period, the difference between the TF-IDF of males and females speakers. The higher the TF-IDF for the word, the higher its bias. <br>\n",
    "Calculate the TF-IDF only for the words contained in the group of words used for this analysis. Then compute the average TF-IDF for each group of word and use it to rank the groups.\n",
    "\n",
    "The TF-IDF vectorisation has been done through ISLab virtual machine, so the results are copy-pasted from the shell to avoid downloading large data on the local machine."
   ]
  },
  {
   "cell_type": "code",
   "execution_count": null,
   "metadata": {},
   "outputs": [],
   "source": [
    "# create the corpus where each document correspond to all the documents of a specific \n",
    "#gender and time period\n",
    "\n",
    "basepath = '/home/student/Desktop/COGNOMEnomeMATRICOLA/FORMENTInicole941481'\n",
    "\n",
    "YEARS = [ \"1948_1968\", \"1968_1985\", \"1985_2000\", \"2000_2020\" ]\n",
    "GENDER = [\"male\",\"female\"]\n",
    "corpus = []\n",
    "\n",
    "for years,gender in tqdm(product(YEARS,GENDER),\n",
    "                        total=len(YEARS)*len(GENDER)):\n",
    "    print(f'YEARS: {years}, GENDER: {gender}')\n",
    "    with open(os.path.join(basepath,f'docs_by_years_gender_{years}_{gender}.pickle'), \"rb\") as output:\n",
    "        docs = pickle.load(output)\n",
    "        # append to the corpus the flattened list of documents of each gender and time period\n",
    "        corpus.append(list(itertools.chain.from_iterable(docs)))"
   ]
  },
  {
   "cell_type": "markdown",
   "metadata": {},
   "source": [
    "Order of documents is:\n",
    "\n",
    "```\n",
    "  0%|                                                     | 0/8 [00:00<?, ?it/s]\n",
    "YEARS: 1948_1968, GENDER: male\n",
    " 12%|█████▋                                       | 1/8 [00:22<02:39, 22.78s/it]\n",
    "YEARS: 1948_1968, GENDER: female\n",
    " 25%|███████████▎                                 | 2/8 [00:25<01:06, 11.03s/it]\n",
    "YEARS: 1968_1985, GENDER: male\n",
    " 38%|████████████████▉                            | 3/8 [00:39<01:01, 12.25s/it]\n",
    "YEARS: 1968_1985, GENDER: female\n",
    " 50%|██████████████████████▌                      | 4/8 [00:44<00:38,  9.61s/it]\n",
    "YEARS: 1985_2000, GENDER: male\n",
    " 62%|████████████████████████████▏                | 5/8 [01:00<00:35, 11.85s/it]\n",
    "YEARS: 1985_2000, GENDER: female\n",
    " 75%|█████████████████████████████████▊           | 6/8 [01:05<00:18,  9.49s/it]\n",
    "YEARS: 2000_2020, GENDER: male\n",
    " 88%|███████████████████████████████████████▍     | 7/8 [01:31<00:15, 15.01s/it]\n",
    "YEARS: 2000_2020, GENDER: female\n",
    "100%|█████████████████████████████████████████████| 8/8 [01:35<00:00, 11.92s/it]\n",
    "```"
   ]
  },
  {
   "cell_type": "code",
   "execution_count": null,
   "metadata": {},
   "outputs": [],
   "source": [
    "# Compute TF-IDF \n",
    "vectorizer = TfidfVectorizer()\n",
    "corpus = [' '.join(doc) for doc in corpus] \n",
    "X = vectorizer.fit_transform(corpus)\n",
    "# retrieve the words in the corpus\n",
    "features = vectorizer.get_feature_names()"
   ]
  },
  {
   "cell_type": "code",
   "execution_count": null,
   "metadata": {},
   "outputs": [],
   "source": [
    "print(X.shape)"
   ]
  },
  {
   "cell_type": "markdown",
   "metadata": {},
   "source": [
    "Shape of X is: ```(8, 500080)```\n",
    "\n",
    "Where there are 8 documents (corpus divided by gender and years) and 500080 words."
   ]
  },
  {
   "cell_type": "code",
   "execution_count": 4,
   "metadata": {},
   "outputs": [],
   "source": [
    "# The function returns the TF-IDF score of all the documents for each word\n",
    "\n",
    "def word_to_tfidf(X, features, word):\n",
    "    index = features.index(word)\n",
    "    return X[:,index].toarray()"
   ]
  },
  {
   "cell_type": "code",
   "execution_count": null,
   "metadata": {},
   "outputs": [],
   "source": [
    "word_to_tfidf(X, features, 'donna')"
   ]
  },
  {
   "cell_type": "markdown",
   "metadata": {},
   "source": [
    "Output is:\n",
    "```\n",
    "array([[0.00071704],\n",
    "       [0.01754887],\n",
    "       [0.00133872],\n",
    "       [0.01613872],\n",
    "       [0.00077914],\n",
    "       [0.01025392],\n",
    "       [0.00139078],\n",
    "       [0.01102728]])\n",
    "```"
   ]
  },
  {
   "cell_type": "code",
   "execution_count": null,
   "metadata": {},
   "outputs": [],
   "source": [
    "with open(os.path.join(basepath,'gendered_neutral_words.json')) as fin:\n",
    "    gendered_neutral_words = json.load(fin)\n",
    "\n",
    "WORDS_GROUP = list(gendered_neutral_words.keys())[4:]"
   ]
  },
  {
   "cell_type": "code",
   "execution_count": null,
   "metadata": {},
   "outputs": [],
   "source": [
    "# create and populate a dataframe to store the TF-IDF of all the relevant words \n",
    "#for the different genders and time periods\n",
    "\n",
    "columns = set([w for group in WORDS_GROUP for w in gendered_neutral_words[group] ])\n",
    "tfidf_words = pd.DataFrame(columns=columns, index=list(product(YEARS,GENDER)))\n",
    "\n",
    "for word in tfidf_words.columns:\n",
    "    try:\n",
    "        tfidf = word_to_tfidf(X, features, word)\n",
    "        tfidf_words[word] = np.round(tfidf,5)\n",
    "    except:\n",
    "        pass\n",
    "    \n",
    "tfidf_words.to_csv(os.path.join(basepath,'tfidf_words_dataframe'))"
   ]
  },
  {
   "cell_type": "code",
   "execution_count": null,
   "metadata": {},
   "outputs": [],
   "source": [
    "#!/bin/bash\n",
    "BASEPATH_src=/home/student/Desktop/COGNOMEnomeMATRICOLA/FORMENTInicole941481\n",
    "file=$BASEPATH_src'/tfidf_words_dataframe'\n",
    "scp -P 22 student@***.**.**.**:$file ~/Gender-stereotypes-in-parliamentary-speeches-with-Word-Embedding/misc"
   ]
  },
  {
   "cell_type": "markdown",
   "metadata": {},
   "source": [
    "---\n",
    "Load the data in the notebook"
   ]
  },
  {
   "cell_type": "code",
   "execution_count": 60,
   "metadata": {},
   "outputs": [],
   "source": [
    "from INFORET_project import WORDS_GROUP\n",
    "from INFORET_project.data import gendered_neutral_words"
   ]
  },
  {
   "cell_type": "code",
   "execution_count": 61,
   "metadata": {},
   "outputs": [],
   "source": [
    "tfidf_words = pd.read_csv('misc/tfidf_words_dataframe',\n",
    "                         index_col='Unnamed: 0').T"
   ]
  },
  {
   "cell_type": "code",
   "execution_count": 62,
   "metadata": {},
   "outputs": [],
   "source": [
    "# create for each time period a new colum containing the difference of TF-IDF between\n",
    "#male and female speakers\n",
    "\n",
    "for year in YEARS:\n",
    "    tfidf_words[f'bias_{year}'] = abs(tfidf_words[f\"('{year}', 'male')\"] - tfidf_words[f\"('{year}', 'female')\"])"
   ]
  },
  {
   "cell_type": "code",
   "execution_count": 64,
   "metadata": {},
   "outputs": [
    {
     "data": {
      "text/html": [
       "<div>\n",
       "<style scoped>\n",
       "    .dataframe tbody tr th:only-of-type {\n",
       "        vertical-align: middle;\n",
       "    }\n",
       "\n",
       "    .dataframe tbody tr th {\n",
       "        vertical-align: top;\n",
       "    }\n",
       "\n",
       "    .dataframe thead th {\n",
       "        text-align: right;\n",
       "    }\n",
       "</style>\n",
       "<table border=\"1\" class=\"dataframe\">\n",
       "  <thead>\n",
       "    <tr style=\"text-align: right;\">\n",
       "      <th></th>\n",
       "      <th>('1948_1968', 'male')</th>\n",
       "      <th>('1948_1968', 'female')</th>\n",
       "      <th>('1968_1985', 'male')</th>\n",
       "      <th>('1968_1985', 'female')</th>\n",
       "      <th>('1985_2000', 'male')</th>\n",
       "      <th>('1985_2000', 'female')</th>\n",
       "      <th>('2000_2020', 'male')</th>\n",
       "      <th>('2000_2020', 'female')</th>\n",
       "      <th>bias_1948_1968</th>\n",
       "      <th>bias_1968_1985</th>\n",
       "      <th>bias_1985_2000</th>\n",
       "      <th>bias_2000_2020</th>\n",
       "    </tr>\n",
       "  </thead>\n",
       "  <tbody>\n",
       "    <tr>\n",
       "      <th>timido</th>\n",
       "      <td>0.00009</td>\n",
       "      <td>0.00006</td>\n",
       "      <td>0.00008</td>\n",
       "      <td>0.00010</td>\n",
       "      <td>0.00007</td>\n",
       "      <td>0.00009</td>\n",
       "      <td>0.00009</td>\n",
       "      <td>0.00010</td>\n",
       "      <td>0.00003</td>\n",
       "      <td>0.00002</td>\n",
       "      <td>0.00002</td>\n",
       "      <td>0.00001</td>\n",
       "    </tr>\n",
       "    <tr>\n",
       "      <th>ambizioso</th>\n",
       "      <td>0.00005</td>\n",
       "      <td>0.00000</td>\n",
       "      <td>0.00006</td>\n",
       "      <td>0.00003</td>\n",
       "      <td>0.00007</td>\n",
       "      <td>0.00014</td>\n",
       "      <td>0.00018</td>\n",
       "      <td>0.00021</td>\n",
       "      <td>0.00005</td>\n",
       "      <td>0.00003</td>\n",
       "      <td>0.00007</td>\n",
       "      <td>0.00003</td>\n",
       "    </tr>\n",
       "    <tr>\n",
       "      <th>sensuale</th>\n",
       "      <td>0.00000</td>\n",
       "      <td>0.00001</td>\n",
       "      <td>0.00000</td>\n",
       "      <td>0.00002</td>\n",
       "      <td>0.00000</td>\n",
       "      <td>0.00000</td>\n",
       "      <td>0.00000</td>\n",
       "      <td>0.00000</td>\n",
       "      <td>0.00001</td>\n",
       "      <td>0.00002</td>\n",
       "      <td>0.00000</td>\n",
       "      <td>0.00000</td>\n",
       "    </tr>\n",
       "    <tr>\n",
       "      <th>maschile</th>\n",
       "      <td>0.00005</td>\n",
       "      <td>0.00091</td>\n",
       "      <td>0.00006</td>\n",
       "      <td>0.00041</td>\n",
       "      <td>0.00004</td>\n",
       "      <td>0.00041</td>\n",
       "      <td>0.00004</td>\n",
       "      <td>0.00033</td>\n",
       "      <td>0.00086</td>\n",
       "      <td>0.00035</td>\n",
       "      <td>0.00037</td>\n",
       "      <td>0.00029</td>\n",
       "    </tr>\n",
       "    <tr>\n",
       "      <th>bello</th>\n",
       "      <td>0.00060</td>\n",
       "      <td>0.00089</td>\n",
       "      <td>0.00041</td>\n",
       "      <td>0.00041</td>\n",
       "      <td>0.00044</td>\n",
       "      <td>0.00047</td>\n",
       "      <td>0.00063</td>\n",
       "      <td>0.00070</td>\n",
       "      <td>0.00029</td>\n",
       "      <td>0.00000</td>\n",
       "      <td>0.00003</td>\n",
       "      <td>0.00007</td>\n",
       "    </tr>\n",
       "  </tbody>\n",
       "</table>\n",
       "</div>"
      ],
      "text/plain": [
       "           ('1948_1968', 'male')  ('1948_1968', 'female')  \\\n",
       "timido                   0.00009                  0.00006   \n",
       "ambizioso                0.00005                  0.00000   \n",
       "sensuale                 0.00000                  0.00001   \n",
       "maschile                 0.00005                  0.00091   \n",
       "bello                    0.00060                  0.00089   \n",
       "\n",
       "           ('1968_1985', 'male')  ('1968_1985', 'female')  \\\n",
       "timido                   0.00008                  0.00010   \n",
       "ambizioso                0.00006                  0.00003   \n",
       "sensuale                 0.00000                  0.00002   \n",
       "maschile                 0.00006                  0.00041   \n",
       "bello                    0.00041                  0.00041   \n",
       "\n",
       "           ('1985_2000', 'male')  ('1985_2000', 'female')  \\\n",
       "timido                   0.00007                  0.00009   \n",
       "ambizioso                0.00007                  0.00014   \n",
       "sensuale                 0.00000                  0.00000   \n",
       "maschile                 0.00004                  0.00041   \n",
       "bello                    0.00044                  0.00047   \n",
       "\n",
       "           ('2000_2020', 'male')  ('2000_2020', 'female')  bias_1948_1968  \\\n",
       "timido                   0.00009                  0.00010         0.00003   \n",
       "ambizioso                0.00018                  0.00021         0.00005   \n",
       "sensuale                 0.00000                  0.00000         0.00001   \n",
       "maschile                 0.00004                  0.00033         0.00086   \n",
       "bello                    0.00063                  0.00070         0.00029   \n",
       "\n",
       "           bias_1968_1985  bias_1985_2000  bias_2000_2020  \n",
       "timido            0.00002         0.00002         0.00001  \n",
       "ambizioso         0.00003         0.00007         0.00003  \n",
       "sensuale          0.00002         0.00000         0.00000  \n",
       "maschile          0.00035         0.00037         0.00029  \n",
       "bello             0.00000         0.00003         0.00007  "
      ]
     },
     "execution_count": 64,
     "metadata": {},
     "output_type": "execute_result"
    }
   ],
   "source": [
    "tfidf_words.head()"
   ]
  },
  {
   "cell_type": "markdown",
   "metadata": {},
   "source": [
    "Store for each time period and each group of words, the mean of the bias of the words within the group. Then rank group of words according to the average bias"
   ]
  },
  {
   "cell_type": "code",
   "execution_count": 49,
   "metadata": {},
   "outputs": [],
   "source": [
    "tfidf_dict = defaultdict(lambda: defaultdict(int))\n",
    "\n",
    "for group in WORDS_GROUP:\n",
    "    rows = gendered_neutral_words[group]\n",
    "    data = tfidf_words.loc[rows]\n",
    "    for year in YEARS:\n",
    "        tfidf_dict[f'{year}'][f'{group}'] = data[f'bias_{year}'].mean()"
   ]
  },
  {
   "cell_type": "code",
   "execution_count": 57,
   "metadata": {},
   "outputs": [
    {
     "name": "stdout",
     "output_type": "stream",
     "text": [
      "YEAR: 1948_1968\n",
      "\n",
      "TOP BIASED TOPICS:\n"
     ]
    },
    {
     "data": {
      "text/plain": [
       "[('family', 0.003511666666666667),\n",
       " ('career', 0.0021229999999999995),\n",
       " ('gendered_words', 0.001305),\n",
       " ('intelligence', 8.500000000000006e-05),\n",
       " ('kindness', 8.428571428571435e-05),\n",
       " ('female_stereotypes', 7.76923076923077e-05)]"
      ]
     },
     "metadata": {},
     "output_type": "display_data"
    },
    {
     "name": "stdout",
     "output_type": "stream",
     "text": [
      "LEAST BIASED TOPICS:\n"
     ]
    },
    {
     "data": {
      "text/plain": [
       "[('rage', 7.333333333333333e-05),\n",
       " ('passive', 5.399999999999999e-05),\n",
       " ('active', 5.000000000000002e-05),\n",
       " ('adj_appearence', 3.833333333333334e-05),\n",
       " ('male_stereotypes', 3.8000000000000016e-05),\n",
       " ('dumbness', 2.4000000000000007e-05)]"
      ]
     },
     "metadata": {},
     "output_type": "display_data"
    },
    {
     "name": "stdout",
     "output_type": "stream",
     "text": [
      "YEAR: 1968_1985\n",
      "\n",
      "TOP BIASED TOPICS:\n"
     ]
    },
    {
     "data": {
      "text/plain": [
       "[('career', 0.002613999999999999),\n",
       " ('family', 0.001535),\n",
       " ('gendered_words', 0.000555),\n",
       " ('kindness', 0.00012714285714285716),\n",
       " ('intelligence', 0.00011666666666666665),\n",
       " ('female_stereotypes', 9.461538461538461e-05)]"
      ]
     },
     "metadata": {},
     "output_type": "display_data"
    },
    {
     "name": "stdout",
     "output_type": "stream",
     "text": [
      "LEAST BIASED TOPICS:\n"
     ]
    },
    {
     "data": {
      "text/plain": [
       "[('passive', 8.599999999999999e-05),\n",
       " ('active', 8.000000000000002e-05),\n",
       " ('male_stereotypes', 7.300000000000001e-05),\n",
       " ('dumbness', 3.5999999999999994e-05),\n",
       " ('rage', 2.9999999999999997e-05),\n",
       " ('adj_appearence', 1.4999999999999999e-05)]"
      ]
     },
     "metadata": {},
     "output_type": "display_data"
    },
    {
     "name": "stdout",
     "output_type": "stream",
     "text": [
      "YEAR: 1985_2000\n",
      "\n",
      "TOP BIASED TOPICS:\n"
     ]
    },
    {
     "data": {
      "text/plain": [
       "[('career', 0.0022179999999999986),\n",
       " ('family', 0.0013283333333333333),\n",
       " ('gendered_words', 0.00041100000000000007),\n",
       " ('active', 0.000126),\n",
       " ('intelligence', 0.00011),\n",
       " ('passive', 9.4e-05)]"
      ]
     },
     "metadata": {},
     "output_type": "display_data"
    },
    {
     "name": "stdout",
     "output_type": "stream",
     "text": [
      "LEAST BIASED TOPICS:\n"
     ]
    },
    {
     "data": {
      "text/plain": [
       "[('male_stereotypes', 8.1e-05),\n",
       " ('female_stereotypes', 5.384615384615385e-05),\n",
       " ('kindness', 3.571428571428574e-05),\n",
       " ('dumbness', 2.8000000000000003e-05),\n",
       " ('rage', 2.3333333333333332e-05),\n",
       " ('adj_appearence', 8.333333333333329e-06)]"
      ]
     },
     "metadata": {},
     "output_type": "display_data"
    },
    {
     "name": "stdout",
     "output_type": "stream",
     "text": [
      "YEAR: 2000_2020\n",
      "\n",
      "TOP BIASED TOPICS:\n"
     ]
    },
    {
     "data": {
      "text/plain": [
       "[('career', 0.0016339999999999996),\n",
       " ('family', 0.001555),\n",
       " ('gendered_words', 0.00042400000000000006),\n",
       " ('rage', 4.333333333333333e-05),\n",
       " ('passive', 4.2e-05),\n",
       " ('intelligence', 4.166666666666677e-05)]"
      ]
     },
     "metadata": {},
     "output_type": "display_data"
    },
    {
     "name": "stdout",
     "output_type": "stream",
     "text": [
      "LEAST BIASED TOPICS:\n"
     ]
    },
    {
     "data": {
      "text/plain": [
       "[('active', 3.999999999999993e-05),\n",
       " ('female_stereotypes', 3.923076923076923e-05),\n",
       " ('kindness', 3.71428571428571e-05),\n",
       " ('male_stereotypes', 2.7999999999999966e-05),\n",
       " ('adj_appearence', 1.2499999999999997e-05),\n",
       " ('dumbness', 1.2000000000000004e-05)]"
      ]
     },
     "metadata": {},
     "output_type": "display_data"
    }
   ],
   "source": [
    "for year in YEARS:\n",
    "    print(f'YEAR: {year}')\n",
    "    diction = tfidf_dict[f'{year}']\n",
    "    print('\\nTOP BIASED TOPICS:')\n",
    "    # sort the group of words by their bias\n",
    "    display(sorted(diction.items(), key= lambda x: x[1], reverse=True)[:6])\n",
    "    print('LEAST BIASED TOPICS:')\n",
    "    display(sorted(diction.items(), key= lambda x: x[1], reverse=True)[6:])"
   ]
  }
 ],
 "metadata": {
  "kernelspec": {
   "display_name": "Python 3",
   "language": "python",
   "name": "python3"
  },
  "language_info": {
   "codemirror_mode": {
    "name": "ipython",
    "version": 3
   },
   "file_extension": ".py",
   "mimetype": "text/x-python",
   "name": "python",
   "nbconvert_exporter": "python",
   "pygments_lexer": "ipython3",
   "version": "3.8.5"
  }
 },
 "nbformat": 4,
 "nbformat_minor": 4
}
