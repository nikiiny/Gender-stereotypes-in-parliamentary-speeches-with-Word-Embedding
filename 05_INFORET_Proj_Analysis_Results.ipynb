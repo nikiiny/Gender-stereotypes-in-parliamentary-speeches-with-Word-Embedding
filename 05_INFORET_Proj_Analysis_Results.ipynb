{
 "cells": [
  {
   "cell_type": "markdown",
   "metadata": {},
   "source": [
    "# INFORMATION RETRIEVAL PROJECT\n",
    "# 5. RESULTS OF ANALYSIS OF GENDER STEREOTYPES BY YEARS "
   ]
  },
  {
   "cell_type": "markdown",
   "metadata": {},
   "source": [
    "---\n",
    "## Gender stereotypes in parliamentary speeches\n",
    "\n",
    "In word embedding models, each word is assigned to a high-dimensional vector such that the geometry of the vectors captures semantic relations between the words – e.g. vectors being closer together has been shown to correspond to more similar words. Recent works in machine learning demonstrate that word embeddings also capture common stereotypes, as these stereotypes are likely to be present, even if subtly, in the large corpora of training texts. These stereotypes are automatically learned by the embedding algorithm and could be problematic in many context if the embedding is then used for sensitive applications such as search rankings, product recommendations, or translations. An important direction of research is on developing algorithms to debias the word embeddings.\n",
    "\n",
    "This project aims to use the word embeddings to study historical trends – specifically trends in the gender and ethnic stereotypes in the Italian parliamentary speeches from 1948 to 2020."
   ]
  },
  {
   "cell_type": "code",
   "execution_count": 60,
   "metadata": {},
   "outputs": [],
   "source": [
    "import numpy as np\n",
    "import pandas as pd\n",
    "import gensim\n",
    "from gensim.models import KeyedVectors\n",
    "from gensim.models import Word2Vec\n",
    "import os\n",
    "from tqdm.auto import tqdm\n",
    "from collections import defaultdict, OrderedDict\n",
    "\n",
    "from INFORET_project import load_embed_model\n",
    "from INFORET_project import YEARS, WORDS_GROUP # INFORMATION RETRIEVAL PROJECT\n",
    "from INFORET_project.utils import to_list"
   ]
  },
  {
   "cell_type": "markdown",
   "metadata": {},
   "source": [
    "---"
   ]
  },
  {
   "cell_type": "markdown",
   "metadata": {},
   "source": [
    "## 1) TOP 6 MOST AND LESS BIASED GROUPS \n",
    "### (according to ECT, ANALOGIES BIAS and WEAT)"
   ]
  },
  {
   "cell_type": "code",
   "execution_count": 118,
   "metadata": {},
   "outputs": [],
   "source": [
    "%store -r results"
   ]
  },
  {
   "cell_type": "code",
   "execution_count": 119,
   "metadata": {
    "scrolled": true
   },
   "outputs": [
    {
     "data": {
      "text/html": [
       "<div>\n",
       "<style scoped>\n",
       "    .dataframe tbody tr th:only-of-type {\n",
       "        vertical-align: middle;\n",
       "    }\n",
       "\n",
       "    .dataframe tbody tr th {\n",
       "        vertical-align: top;\n",
       "    }\n",
       "\n",
       "    .dataframe thead th {\n",
       "        text-align: right;\n",
       "    }\n",
       "</style>\n",
       "<table border=\"1\" class=\"dataframe\">\n",
       "  <thead>\n",
       "    <tr style=\"text-align: right;\">\n",
       "      <th></th>\n",
       "      <th>EAB_1948_1968</th>\n",
       "      <th>EAB_avg_gender_1948_1968</th>\n",
       "      <th>ECT_1948_1968</th>\n",
       "      <th>WEAT_1948_1968</th>\n",
       "      <th>EAB_1968_1985</th>\n",
       "      <th>EAB_avg_gender_1968_1985</th>\n",
       "      <th>ECT_1968_1985</th>\n",
       "      <th>WEAT_1968_1985</th>\n",
       "      <th>EAB_1985_2000</th>\n",
       "      <th>EAB_avg_gender_1985_2000</th>\n",
       "      <th>ECT_1985_2000</th>\n",
       "      <th>WEAT_1985_2000</th>\n",
       "      <th>EAB_2000_2020</th>\n",
       "      <th>EAB_avg_gender_2000_2020</th>\n",
       "      <th>ECT_2000_2020</th>\n",
       "      <th>WEAT_2000_2020</th>\n",
       "    </tr>\n",
       "  </thead>\n",
       "  <tbody>\n",
       "    <tr>\n",
       "      <th>0</th>\n",
       "      <td>gendered_words</td>\n",
       "      <td>gendered_words</td>\n",
       "      <td>adj_appearence</td>\n",
       "      <td>family</td>\n",
       "      <td>gendered_words</td>\n",
       "      <td>gendered_words</td>\n",
       "      <td>family</td>\n",
       "      <td>family</td>\n",
       "      <td>gendered_words</td>\n",
       "      <td>gendered_words</td>\n",
       "      <td>gendered_words</td>\n",
       "      <td>family</td>\n",
       "      <td>gendered_words</td>\n",
       "      <td>gendered_words</td>\n",
       "      <td>gendered_words</td>\n",
       "      <td>family</td>\n",
       "    </tr>\n",
       "    <tr>\n",
       "      <th>1</th>\n",
       "      <td>active</td>\n",
       "      <td>intelligence</td>\n",
       "      <td>gendered_words</td>\n",
       "      <td>gendered_words</td>\n",
       "      <td>active</td>\n",
       "      <td>family</td>\n",
       "      <td>active</td>\n",
       "      <td>gendered_words</td>\n",
       "      <td>family</td>\n",
       "      <td>family</td>\n",
       "      <td>kindness</td>\n",
       "      <td>gendered_words</td>\n",
       "      <td>passive</td>\n",
       "      <td>family</td>\n",
       "      <td>kindness</td>\n",
       "      <td>gendered_words</td>\n",
       "    </tr>\n",
       "    <tr>\n",
       "      <th>2</th>\n",
       "      <td>adj_appearence</td>\n",
       "      <td>adj_appearence</td>\n",
       "      <td>dumbness</td>\n",
       "      <td>dumbness</td>\n",
       "      <td>passive</td>\n",
       "      <td>adj_appearence</td>\n",
       "      <td>female_stereotypes</td>\n",
       "      <td>dumbness</td>\n",
       "      <td>passive</td>\n",
       "      <td>career</td>\n",
       "      <td>career</td>\n",
       "      <td>passive</td>\n",
       "      <td>family</td>\n",
       "      <td>rage</td>\n",
       "      <td>passive</td>\n",
       "      <td>passive</td>\n",
       "    </tr>\n",
       "    <tr>\n",
       "      <th>3</th>\n",
       "      <td>male_stereotypes</td>\n",
       "      <td>family</td>\n",
       "      <td>rage</td>\n",
       "      <td>passive</td>\n",
       "      <td>kindness</td>\n",
       "      <td>dumbness</td>\n",
       "      <td>intelligence</td>\n",
       "      <td>passive</td>\n",
       "      <td>adj_appearence</td>\n",
       "      <td>passive</td>\n",
       "      <td>female_stereotypes</td>\n",
       "      <td>active</td>\n",
       "      <td>rage</td>\n",
       "      <td>passive</td>\n",
       "      <td>career</td>\n",
       "      <td>dumbness</td>\n",
       "    </tr>\n",
       "    <tr>\n",
       "      <th>4</th>\n",
       "      <td>kindness</td>\n",
       "      <td>career</td>\n",
       "      <td>female_stereotypes</td>\n",
       "      <td>rage</td>\n",
       "      <td>intelligence</td>\n",
       "      <td>intelligence</td>\n",
       "      <td>passive</td>\n",
       "      <td>rage</td>\n",
       "      <td>rage</td>\n",
       "      <td>kindness</td>\n",
       "      <td>family</td>\n",
       "      <td>dumbness</td>\n",
       "      <td>intelligence</td>\n",
       "      <td>career</td>\n",
       "      <td>intelligence</td>\n",
       "      <td>rage</td>\n",
       "    </tr>\n",
       "    <tr>\n",
       "      <th>5</th>\n",
       "      <td>passive</td>\n",
       "      <td>male_stereotypes</td>\n",
       "      <td>family</td>\n",
       "      <td>adj_appearence</td>\n",
       "      <td>adj_appearence</td>\n",
       "      <td>female_stereotypes</td>\n",
       "      <td>adj_appearence</td>\n",
       "      <td>active</td>\n",
       "      <td>kindness</td>\n",
       "      <td>adj_appearence</td>\n",
       "      <td>rage</td>\n",
       "      <td>rage</td>\n",
       "      <td>adj_appearence</td>\n",
       "      <td>dumbness</td>\n",
       "      <td>family</td>\n",
       "      <td>kindness</td>\n",
       "    </tr>\n",
       "    <tr>\n",
       "      <th>6</th>\n",
       "      <td>family</td>\n",
       "      <td>passive</td>\n",
       "      <td>career</td>\n",
       "      <td>kindness</td>\n",
       "      <td>family</td>\n",
       "      <td>kindness</td>\n",
       "      <td>career</td>\n",
       "      <td>adj_appearence</td>\n",
       "      <td>active</td>\n",
       "      <td>female_stereotypes</td>\n",
       "      <td>intelligence</td>\n",
       "      <td>kindness</td>\n",
       "      <td>kindness</td>\n",
       "      <td>female_stereotypes</td>\n",
       "      <td>active</td>\n",
       "      <td>female_stereotypes</td>\n",
       "    </tr>\n",
       "    <tr>\n",
       "      <th>7</th>\n",
       "      <td>intelligence</td>\n",
       "      <td>female_stereotypes</td>\n",
       "      <td>passive</td>\n",
       "      <td>female_stereotypes</td>\n",
       "      <td>male_stereotypes</td>\n",
       "      <td>male_stereotypes</td>\n",
       "      <td>kindness</td>\n",
       "      <td>kindness</td>\n",
       "      <td>female_stereotypes</td>\n",
       "      <td>intelligence</td>\n",
       "      <td>adj_appearence</td>\n",
       "      <td>male_stereotypes</td>\n",
       "      <td>male_stereotypes</td>\n",
       "      <td>male_stereotypes</td>\n",
       "      <td>male_stereotypes</td>\n",
       "      <td>adj_appearence</td>\n",
       "    </tr>\n",
       "    <tr>\n",
       "      <th>8</th>\n",
       "      <td>female_stereotypes</td>\n",
       "      <td>kindness</td>\n",
       "      <td>kindness</td>\n",
       "      <td>career</td>\n",
       "      <td>female_stereotypes</td>\n",
       "      <td>passive</td>\n",
       "      <td>dumbness</td>\n",
       "      <td>male_stereotypes</td>\n",
       "      <td>career</td>\n",
       "      <td>active</td>\n",
       "      <td>dumbness</td>\n",
       "      <td>female_stereotypes</td>\n",
       "      <td>active</td>\n",
       "      <td>kindness</td>\n",
       "      <td>female_stereotypes</td>\n",
       "      <td>male_stereotypes</td>\n",
       "    </tr>\n",
       "    <tr>\n",
       "      <th>9</th>\n",
       "      <td>rage</td>\n",
       "      <td>rage</td>\n",
       "      <td>intelligence</td>\n",
       "      <td>male_stereotypes</td>\n",
       "      <td>rage</td>\n",
       "      <td>career</td>\n",
       "      <td>gendered_words</td>\n",
       "      <td>female_stereotypes</td>\n",
       "      <td>male_stereotypes</td>\n",
       "      <td>dumbness</td>\n",
       "      <td>passive</td>\n",
       "      <td>intelligence</td>\n",
       "      <td>female_stereotypes</td>\n",
       "      <td>intelligence</td>\n",
       "      <td>rage</td>\n",
       "      <td>career</td>\n",
       "    </tr>\n",
       "    <tr>\n",
       "      <th>10</th>\n",
       "      <td>dumbness</td>\n",
       "      <td>dumbness</td>\n",
       "      <td>active</td>\n",
       "      <td>intelligence</td>\n",
       "      <td>career</td>\n",
       "      <td>active</td>\n",
       "      <td>rage</td>\n",
       "      <td>intelligence</td>\n",
       "      <td>intelligence</td>\n",
       "      <td>rage</td>\n",
       "      <td>male_stereotypes</td>\n",
       "      <td>adj_appearence</td>\n",
       "      <td>career</td>\n",
       "      <td>adj_appearence</td>\n",
       "      <td>adj_appearence</td>\n",
       "      <td>intelligence</td>\n",
       "    </tr>\n",
       "    <tr>\n",
       "      <th>11</th>\n",
       "      <td>career</td>\n",
       "      <td>active</td>\n",
       "      <td>male_stereotypes</td>\n",
       "      <td>active</td>\n",
       "      <td>dumbness</td>\n",
       "      <td>rage</td>\n",
       "      <td>male_stereotypes</td>\n",
       "      <td>career</td>\n",
       "      <td>dumbness</td>\n",
       "      <td>male_stereotypes</td>\n",
       "      <td>active</td>\n",
       "      <td>career</td>\n",
       "      <td>dumbness</td>\n",
       "      <td>active</td>\n",
       "      <td>dumbness</td>\n",
       "      <td>active</td>\n",
       "    </tr>\n",
       "  </tbody>\n",
       "</table>\n",
       "</div>"
      ],
      "text/plain": [
       "         EAB_1948_1968 EAB_avg_gender_1948_1968       ECT_1948_1968  \\\n",
       "0       gendered_words           gendered_words      adj_appearence   \n",
       "1               active             intelligence      gendered_words   \n",
       "2       adj_appearence           adj_appearence            dumbness   \n",
       "3     male_stereotypes                   family                rage   \n",
       "4             kindness                   career  female_stereotypes   \n",
       "5              passive         male_stereotypes              family   \n",
       "6               family                  passive              career   \n",
       "7         intelligence       female_stereotypes             passive   \n",
       "8   female_stereotypes                 kindness            kindness   \n",
       "9                 rage                     rage        intelligence   \n",
       "10            dumbness                 dumbness              active   \n",
       "11              career                   active    male_stereotypes   \n",
       "\n",
       "        WEAT_1948_1968       EAB_1968_1985 EAB_avg_gender_1968_1985  \\\n",
       "0               family      gendered_words           gendered_words   \n",
       "1       gendered_words              active                   family   \n",
       "2             dumbness             passive           adj_appearence   \n",
       "3              passive            kindness                 dumbness   \n",
       "4                 rage        intelligence             intelligence   \n",
       "5       adj_appearence      adj_appearence       female_stereotypes   \n",
       "6             kindness              family                 kindness   \n",
       "7   female_stereotypes    male_stereotypes         male_stereotypes   \n",
       "8               career  female_stereotypes                  passive   \n",
       "9     male_stereotypes                rage                   career   \n",
       "10        intelligence              career                   active   \n",
       "11              active            dumbness                     rage   \n",
       "\n",
       "         ECT_1968_1985      WEAT_1968_1985       EAB_1985_2000  \\\n",
       "0               family              family      gendered_words   \n",
       "1               active      gendered_words              family   \n",
       "2   female_stereotypes            dumbness             passive   \n",
       "3         intelligence             passive      adj_appearence   \n",
       "4              passive                rage                rage   \n",
       "5       adj_appearence              active            kindness   \n",
       "6               career      adj_appearence              active   \n",
       "7             kindness            kindness  female_stereotypes   \n",
       "8             dumbness    male_stereotypes              career   \n",
       "9       gendered_words  female_stereotypes    male_stereotypes   \n",
       "10                rage        intelligence        intelligence   \n",
       "11    male_stereotypes              career            dumbness   \n",
       "\n",
       "   EAB_avg_gender_1985_2000       ECT_1985_2000      WEAT_1985_2000  \\\n",
       "0            gendered_words      gendered_words              family   \n",
       "1                    family            kindness      gendered_words   \n",
       "2                    career              career             passive   \n",
       "3                   passive  female_stereotypes              active   \n",
       "4                  kindness              family            dumbness   \n",
       "5            adj_appearence                rage                rage   \n",
       "6        female_stereotypes        intelligence            kindness   \n",
       "7              intelligence      adj_appearence    male_stereotypes   \n",
       "8                    active            dumbness  female_stereotypes   \n",
       "9                  dumbness             passive        intelligence   \n",
       "10                     rage    male_stereotypes      adj_appearence   \n",
       "11         male_stereotypes              active              career   \n",
       "\n",
       "         EAB_2000_2020 EAB_avg_gender_2000_2020       ECT_2000_2020  \\\n",
       "0       gendered_words           gendered_words      gendered_words   \n",
       "1              passive                   family            kindness   \n",
       "2               family                     rage             passive   \n",
       "3                 rage                  passive              career   \n",
       "4         intelligence                   career        intelligence   \n",
       "5       adj_appearence                 dumbness              family   \n",
       "6             kindness       female_stereotypes              active   \n",
       "7     male_stereotypes         male_stereotypes    male_stereotypes   \n",
       "8               active                 kindness  female_stereotypes   \n",
       "9   female_stereotypes             intelligence                rage   \n",
       "10              career           adj_appearence      adj_appearence   \n",
       "11            dumbness                   active            dumbness   \n",
       "\n",
       "        WEAT_2000_2020  \n",
       "0               family  \n",
       "1       gendered_words  \n",
       "2              passive  \n",
       "3             dumbness  \n",
       "4                 rage  \n",
       "5             kindness  \n",
       "6   female_stereotypes  \n",
       "7       adj_appearence  \n",
       "8     male_stereotypes  \n",
       "9               career  \n",
       "10        intelligence  \n",
       "11              active  "
      ]
     },
     "execution_count": 119,
     "metadata": {},
     "output_type": "execute_result"
    }
   ],
   "source": [
    "results"
   ]
  },
  {
   "cell_type": "code",
   "execution_count": 130,
   "metadata": {},
   "outputs": [
    {
     "name": "stdout",
     "output_type": "stream",
     "text": [
      "\n",
      "\n",
      "YEAR: 1948_1968\n",
      "\n",
      "TOP 6 MOST BIASED:\n"
     ]
    },
    {
     "data": {
      "text/plain": [
       "{'adj_appearence', 'dumbness', 'family', 'gendered_words', 'rage'}"
      ]
     },
     "metadata": {},
     "output_type": "display_data"
    },
    {
     "name": "stdout",
     "output_type": "stream",
     "text": [
      "\n",
      "TOP 6 LEAST BIASED:\n"
     ]
    },
    {
     "data": {
      "text/plain": [
       "{'active', 'career', 'intelligence', 'kindness', 'male_stereotypes'}"
      ]
     },
     "metadata": {},
     "output_type": "display_data"
    },
    {
     "name": "stdout",
     "output_type": "stream",
     "text": [
      "\n",
      "\n",
      "YEAR: 1968_1985\n",
      "\n",
      "TOP 6 MOST BIASED:\n"
     ]
    },
    {
     "data": {
      "text/plain": [
       "{'active', 'family', 'passive'}"
      ]
     },
     "metadata": {},
     "output_type": "display_data"
    },
    {
     "name": "stdout",
     "output_type": "stream",
     "text": [
      "\n",
      "TOP 6 LEAST BIASED:\n"
     ]
    },
    {
     "data": {
      "text/plain": [
       "{'career', 'kindness', 'male_stereotypes'}"
      ]
     },
     "metadata": {},
     "output_type": "display_data"
    },
    {
     "name": "stdout",
     "output_type": "stream",
     "text": [
      "\n",
      "\n",
      "YEAR: 1985_2000\n",
      "\n",
      "TOP 6 MOST BIASED:\n"
     ]
    },
    {
     "data": {
      "text/plain": [
       "{'family', 'gendered_words', 'rage'}"
      ]
     },
     "metadata": {},
     "output_type": "display_data"
    },
    {
     "name": "stdout",
     "output_type": "stream",
     "text": [
      "\n",
      "TOP 6 LEAST BIASED:\n"
     ]
    },
    {
     "data": {
      "text/plain": [
       "{'adj_appearence', 'intelligence', 'male_stereotypes'}"
      ]
     },
     "metadata": {},
     "output_type": "display_data"
    },
    {
     "name": "stdout",
     "output_type": "stream",
     "text": [
      "\n",
      "\n",
      "YEAR: 2000_2020\n",
      "\n",
      "TOP 6 MOST BIASED:\n"
     ]
    },
    {
     "data": {
      "text/plain": [
       "{'family', 'gendered_words', 'kindness', 'passive'}"
      ]
     },
     "metadata": {},
     "output_type": "display_data"
    },
    {
     "name": "stdout",
     "output_type": "stream",
     "text": [
      "\n",
      "TOP 6 LEAST BIASED:\n"
     ]
    },
    {
     "data": {
      "text/plain": [
       "{'active', 'adj_appearence', 'female_stereotypes', 'male_stereotypes'}"
      ]
     },
     "metadata": {},
     "output_type": "display_data"
    }
   ],
   "source": [
    "# intersection without EAB\n",
    "\n",
    "for year in YEARS:\n",
    "    print(f'\\n\\nYEAR: {year}\\n')\n",
    "    \n",
    "    print('TOP 6 MOST BIASED:')\n",
    "    display( set.intersection(\n",
    "        set( to_list(results[f'ECT_{year}'][:6]) ),\n",
    "        set( to_list(results[f'WEAT_{year}'][:6]) )\n",
    "    ))\n",
    "    \n",
    "    print('\\nTOP 6 LEAST BIASED:')\n",
    "    \n",
    "    display( set.intersection(\n",
    "        set( to_list(results[f'ECT_{year}'][-6:]) ),\n",
    "        set( to_list(results[f'WEAT_{year}'][-6:]) )\n",
    "    ))"
   ]
  },
  {
   "cell_type": "code",
   "execution_count": 131,
   "metadata": {},
   "outputs": [
    {
     "name": "stdout",
     "output_type": "stream",
     "text": [
      "\n",
      "\n",
      "YEAR: 1948_1968\n",
      "\n",
      "TOP 6 MOST BIASED:\n"
     ]
    },
    {
     "data": {
      "text/plain": [
       "{'adj_appearence', 'gendered_words'}"
      ]
     },
     "metadata": {},
     "output_type": "display_data"
    },
    {
     "data": {
      "text/plain": [
       "{'adj_appearence', 'family', 'gendered_words'}"
      ]
     },
     "metadata": {},
     "output_type": "display_data"
    },
    {
     "name": "stdout",
     "output_type": "stream",
     "text": [
      "\n",
      "TOP 6 LEAST BIASED:\n"
     ]
    },
    {
     "data": {
      "text/plain": [
       "{'career', 'intelligence'}"
      ]
     },
     "metadata": {},
     "output_type": "display_data"
    },
    {
     "data": {
      "text/plain": [
       "{'active', 'kindness'}"
      ]
     },
     "metadata": {},
     "output_type": "display_data"
    },
    {
     "name": "stdout",
     "output_type": "stream",
     "text": [
      "\n",
      "\n",
      "YEAR: 1968_1985\n",
      "\n",
      "TOP 6 MOST BIASED:\n"
     ]
    },
    {
     "data": {
      "text/plain": [
       "{'active', 'passive'}"
      ]
     },
     "metadata": {},
     "output_type": "display_data"
    },
    {
     "data": {
      "text/plain": [
       "{'family'}"
      ]
     },
     "metadata": {},
     "output_type": "display_data"
    },
    {
     "name": "stdout",
     "output_type": "stream",
     "text": [
      "\n",
      "TOP 6 LEAST BIASED:\n"
     ]
    },
    {
     "data": {
      "text/plain": [
       "{'career', 'male_stereotypes'}"
      ]
     },
     "metadata": {},
     "output_type": "display_data"
    },
    {
     "data": {
      "text/plain": [
       "{'career', 'kindness', 'male_stereotypes'}"
      ]
     },
     "metadata": {},
     "output_type": "display_data"
    },
    {
     "name": "stdout",
     "output_type": "stream",
     "text": [
      "\n",
      "\n",
      "YEAR: 1985_2000\n",
      "\n",
      "TOP 6 MOST BIASED:\n"
     ]
    },
    {
     "data": {
      "text/plain": [
       "{'family', 'gendered_words', 'rage'}"
      ]
     },
     "metadata": {},
     "output_type": "display_data"
    },
    {
     "data": {
      "text/plain": [
       "{'family', 'gendered_words'}"
      ]
     },
     "metadata": {},
     "output_type": "display_data"
    },
    {
     "name": "stdout",
     "output_type": "stream",
     "text": [
      "\n",
      "TOP 6 LEAST BIASED:\n"
     ]
    },
    {
     "data": {
      "text/plain": [
       "{'intelligence', 'male_stereotypes'}"
      ]
     },
     "metadata": {},
     "output_type": "display_data"
    },
    {
     "data": {
      "text/plain": [
       "{'intelligence', 'male_stereotypes'}"
      ]
     },
     "metadata": {},
     "output_type": "display_data"
    },
    {
     "name": "stdout",
     "output_type": "stream",
     "text": [
      "\n",
      "\n",
      "YEAR: 2000_2020\n",
      "\n",
      "TOP 6 MOST BIASED:\n"
     ]
    },
    {
     "data": {
      "text/plain": [
       "{'family', 'gendered_words', 'passive'}"
      ]
     },
     "metadata": {},
     "output_type": "display_data"
    },
    {
     "data": {
      "text/plain": [
       "{'family', 'gendered_words', 'passive'}"
      ]
     },
     "metadata": {},
     "output_type": "display_data"
    },
    {
     "name": "stdout",
     "output_type": "stream",
     "text": [
      "\n",
      "TOP 6 LEAST BIASED:\n"
     ]
    },
    {
     "data": {
      "text/plain": [
       "{'active', 'female_stereotypes', 'male_stereotypes'}"
      ]
     },
     "metadata": {},
     "output_type": "display_data"
    },
    {
     "data": {
      "text/plain": [
       "{'active', 'adj_appearence', 'female_stereotypes', 'male_stereotypes'}"
      ]
     },
     "metadata": {},
     "output_type": "display_data"
    }
   ],
   "source": [
    "# intersection with EAB\n",
    "\n",
    "for year in YEARS:\n",
    "    print(f'\\n\\nYEAR: {year}\\n')\n",
    "    \n",
    "    print('TOP 6 MOST BIASED:')\n",
    "    display( set.intersection(\n",
    "        set( to_list(results[f'EAB_{year}'][:6]) ),\n",
    "        set( to_list(results[f'ECT_{year}'][:6]) ),\n",
    "        set( to_list(results[f'WEAT_{year}'][:6]) )\n",
    "    ))\n",
    "    \n",
    "    display( set.intersection(\n",
    "        set( to_list(results[f'EAB_avg_gender_{year}'][:6]) ),\n",
    "        set( to_list(results[f'ECT_{year}'][:6]) ),\n",
    "        set( to_list(results[f'WEAT_{year}'][:6]) )\n",
    "    ))\n",
    "    \n",
    "    print('\\nTOP 6 LEAST BIASED:')\n",
    "    \n",
    "    display( set.intersection(\n",
    "        set( to_list(results[f'EAB_{year}'][-6:]) ),\n",
    "        set( to_list(results[f'ECT_{year}'][-6:]) ),\n",
    "        set( to_list(results[f'WEAT_{year}'][-6:]) )\n",
    "    ))\n",
    "    \n",
    "    display( set.intersection(\n",
    "        set( to_list(results[f'EAB_avg_gender_{year}'][-6:]) ),\n",
    "        set( to_list(results[f'ECT_{year}'][-6:]) ),\n",
    "        set( to_list(results[f'WEAT_{year}'][-6:]) )\n",
    "    ))"
   ]
  },
  {
   "cell_type": "markdown",
   "metadata": {},
   "source": [
    "## 2) TOP 3 BIASED WORDS PER GROUP"
   ]
  },
  {
   "cell_type": "code",
   "execution_count": 124,
   "metadata": {},
   "outputs": [],
   "source": [
    "%store -r EAB_top_bias_NO_avg_gender\n",
    "%store -r EAB_top_bias_avg_gender\n",
    "%store -r ECT_top_bias"
   ]
  },
  {
   "cell_type": "code",
   "execution_count": 127,
   "metadata": {
    "scrolled": false
   },
   "outputs": [],
   "source": [
    "def show_top_biased_words_intersection(year, topn=3, verbose=True):\n",
    "    \n",
    "    if verbose:\n",
    "        print(f'YEAR: {year}\\n\\nTOP {topn} BIASED WORDS\\n\\n')\n",
    "    \n",
    "    %store -r EAB_top_bias_NO_avg_gender\n",
    "    %store -r EAB_top_bias_avg_gender\n",
    "    %store -r ECT_top_bias\n",
    "    \n",
    "    top_biased_words_intersection_NO_avg = defaultdict(list)\n",
    "    top_biased_words_intersection_avg = defaultdict(list)\n",
    "    \n",
    "    for group in WORDS_GROUP:\n",
    "        if verbose:\n",
    "            print(f'GROUP OF WORDS: {group}')\n",
    "        \n",
    "        top_biased_words_intersection_NO_avg[group] = set.intersection(\n",
    "            set( to_list( [ i[0] for i in EAB_top_bias_avg_gender[year][group] ][:topn]) ), \n",
    "            set( to_list( [ i[0] for i in ECT_top_bias[year][group] ][:topn] )) \n",
    "            )\n",
    "        \n",
    "        top_biased_words_intersection_avg[group] = set.intersection(\n",
    "            set( to_list( [ i[0] for i in EAB_top_bias_NO_avg_gender[year][group] ][:topn]) ),\n",
    "            set( to_list( [ i[0] for i in ECT_top_bias[year][group] ][:topn] )) \n",
    "            )\n",
    "        \n",
    "        if verbose:\n",
    "            display( top_biased_words_intersection_NO_avg[group] )\n",
    "            display( top_biased_words_intersection_avg[group] )\n",
    "        \n",
    "    return top_biased_words_intersection_NO_avg, top_biased_words_intersection_avg"
   ]
  },
  {
   "cell_type": "code",
   "execution_count": 157,
   "metadata": {},
   "outputs": [
    {
     "name": "stdout",
     "output_type": "stream",
     "text": [
      "YEAR: 2000_2020\n",
      "\n",
      "TOP 3 BIASED WORDS\n",
      "\n",
      "\n",
      "GROUP OF WORDS: adj_appearence\n"
     ]
    },
    {
     "data": {
      "text/plain": [
       "{'splendido'}"
      ]
     },
     "metadata": {},
     "output_type": "display_data"
    },
    {
     "data": {
      "text/plain": [
       "{'splendido'}"
      ]
     },
     "metadata": {},
     "output_type": "display_data"
    },
    {
     "name": "stdout",
     "output_type": "stream",
     "text": [
      "GROUP OF WORDS: family\n"
     ]
    },
    {
     "data": {
      "text/plain": [
       "{'bambino', 'figlio'}"
      ]
     },
     "metadata": {},
     "output_type": "display_data"
    },
    {
     "data": {
      "text/plain": [
       "{'bambino'}"
      ]
     },
     "metadata": {},
     "output_type": "display_data"
    },
    {
     "name": "stdout",
     "output_type": "stream",
     "text": [
      "GROUP OF WORDS: career\n"
     ]
    },
    {
     "data": {
      "text/plain": [
       "set()"
      ]
     },
     "metadata": {},
     "output_type": "display_data"
    },
    {
     "data": {
      "text/plain": [
       "set()"
      ]
     },
     "metadata": {},
     "output_type": "display_data"
    },
    {
     "name": "stdout",
     "output_type": "stream",
     "text": [
      "GROUP OF WORDS: rage\n"
     ]
    },
    {
     "data": {
      "text/plain": [
       "{'brutale'}"
      ]
     },
     "metadata": {},
     "output_type": "display_data"
    },
    {
     "data": {
      "text/plain": [
       "{'brutale', 'odioso'}"
      ]
     },
     "metadata": {},
     "output_type": "display_data"
    },
    {
     "name": "stdout",
     "output_type": "stream",
     "text": [
      "GROUP OF WORDS: kindness\n"
     ]
    },
    {
     "data": {
      "text/plain": [
       "{'bravo'}"
      ]
     },
     "metadata": {},
     "output_type": "display_data"
    },
    {
     "data": {
      "text/plain": [
       "{'bravo'}"
      ]
     },
     "metadata": {},
     "output_type": "display_data"
    },
    {
     "name": "stdout",
     "output_type": "stream",
     "text": [
      "GROUP OF WORDS: intelligence\n"
     ]
    },
    {
     "data": {
      "text/plain": [
       "{'intelligente', 'studioso'}"
      ]
     },
     "metadata": {},
     "output_type": "display_data"
    },
    {
     "data": {
      "text/plain": [
       "{'intelligente', 'studioso'}"
      ]
     },
     "metadata": {},
     "output_type": "display_data"
    },
    {
     "name": "stdout",
     "output_type": "stream",
     "text": [
      "GROUP OF WORDS: dumbness\n"
     ]
    },
    {
     "data": {
      "text/plain": [
       "{'stupido', 'superficiale'}"
      ]
     },
     "metadata": {},
     "output_type": "display_data"
    },
    {
     "data": {
      "text/plain": [
       "{'stupido'}"
      ]
     },
     "metadata": {},
     "output_type": "display_data"
    },
    {
     "name": "stdout",
     "output_type": "stream",
     "text": [
      "GROUP OF WORDS: active\n"
     ]
    },
    {
     "data": {
      "text/plain": [
       "{'ambizioso', 'assertivo', 'sicuro'}"
      ]
     },
     "metadata": {},
     "output_type": "display_data"
    },
    {
     "data": {
      "text/plain": [
       "{'ambizioso', 'assertivo', 'sicuro'}"
      ]
     },
     "metadata": {},
     "output_type": "display_data"
    },
    {
     "name": "stdout",
     "output_type": "stream",
     "text": [
      "GROUP OF WORDS: passive\n"
     ]
    },
    {
     "data": {
      "text/plain": [
       "{'insicuro'}"
      ]
     },
     "metadata": {},
     "output_type": "display_data"
    },
    {
     "data": {
      "text/plain": [
       "{'timido'}"
      ]
     },
     "metadata": {},
     "output_type": "display_data"
    },
    {
     "name": "stdout",
     "output_type": "stream",
     "text": [
      "GROUP OF WORDS: gendered_words\n"
     ]
    },
    {
     "data": {
      "text/plain": [
       "{'femminile', 'maschile', 'ragazza'}"
      ]
     },
     "metadata": {},
     "output_type": "display_data"
    },
    {
     "data": {
      "text/plain": [
       "{'femminile', 'maschile'}"
      ]
     },
     "metadata": {},
     "output_type": "display_data"
    },
    {
     "name": "stdout",
     "output_type": "stream",
     "text": [
      "GROUP OF WORDS: female_stereotypes\n"
     ]
    },
    {
     "data": {
      "text/plain": [
       "{'insicuro'}"
      ]
     },
     "metadata": {},
     "output_type": "display_data"
    },
    {
     "data": {
      "text/plain": [
       "set()"
      ]
     },
     "metadata": {},
     "output_type": "display_data"
    },
    {
     "name": "stdout",
     "output_type": "stream",
     "text": [
      "GROUP OF WORDS: male_stereotypes\n"
     ]
    },
    {
     "data": {
      "text/plain": [
       "{'crudele'}"
      ]
     },
     "metadata": {},
     "output_type": "display_data"
    },
    {
     "data": {
      "text/plain": [
       "{'intelligente'}"
      ]
     },
     "metadata": {},
     "output_type": "display_data"
    }
   ],
   "source": [
    "_,_ = show_top_biased_words_intersection(YEARS[3])"
   ]
  },
  {
   "cell_type": "markdown",
   "metadata": {},
   "source": [
    "## 3) DISPLAY ANALOGIES FOR THE TOP 3 BIASED WORDS "
   ]
  },
  {
   "cell_type": "markdown",
   "metadata": {},
   "source": [
    "### 1. ANALOGIES BIAS ONLY"
   ]
  },
  {
   "cell_type": "code",
   "execution_count": 63,
   "metadata": {},
   "outputs": [],
   "source": [
    "from INFORET_project.data import gendered_neutral_words\n",
    "from INFORET_project import Analogies_Distance_Bias"
   ]
  },
  {
   "cell_type": "code",
   "execution_count": 111,
   "metadata": {
    "scrolled": false
   },
   "outputs": [],
   "source": [
    "def show_top_biased_analogies(year, topn=3, intersection=False):\n",
    "\n",
    "    print(f'YEAR: {year}\\n\\n')\n",
    "    model = load_embed_model(year)\n",
    "    \n",
    "    if intersection:\n",
    "        words,_ = show_top_biased_words_intersection(year, verbose=False)\n",
    "    \n",
    "    for group in WORDS_GROUP:\n",
    "        \n",
    "        score = AEB(model.wv,\n",
    "                    gender_female='donna',\n",
    "                    gender_male='uomo',\n",
    "                    type_most_similar = 'cosmul')\n",
    "        \n",
    "        try:\n",
    "            if intersection:\n",
    "                    top_bias = score.get_top_bias(positive_word=words[group], verbose=False)\n",
    "            else:\n",
    "                top_bias = score.get_top_bias(pred_positive_word=group, verbose=False)\n",
    "            \n",
    "            print(f'GROUP OF WORDS: {group}\\nTOP 3 BIASED WORDS:')\n",
    "            score.print_top_analogies(topn=topn)\n",
    "        except:\n",
    "            pass"
   ]
  },
  {
   "cell_type": "code",
   "execution_count": 112,
   "metadata": {},
   "outputs": [
    {
     "name": "stdout",
     "output_type": "stream",
     "text": [
      "YEAR: 1948_1968\n",
      "\n",
      "\n",
      "GROUP OF WORDS: adj_appearence\n",
      "TOP 3 BIASED WORDS:\n",
      "\n",
      "Word: brutto\n",
      "\n",
      "Positive gender: male\n"
     ]
    },
    {
     "data": {
      "text/plain": [
       "[('brutto', 0.5006075524125156),\n",
       " ('uomo', 0.5005223682383805),\n",
       " ('bruttare', 0.5004065489840138),\n",
       " ('hobby', 0.5003803105203399),\n",
       " ('araldo', 0.5003687344089883),\n",
       " ('inquisitore', 0.500366682238291),\n",
       " ('eclettico', 0.5003541856268412),\n",
       " ('illustre', 0.5003536100728226),\n",
       " ('lapsus', 0.500351871846717),\n",
       " ('operetta', 0.5003493893461514)]"
      ]
     },
     "metadata": {},
     "output_type": "display_data"
    },
    {
     "name": "stdout",
     "output_type": "stream",
     "text": [
      "Positive gender: female\n"
     ]
    },
    {
     "data": {
      "text/plain": [
       "[('brutto', 0.5005600859855832),\n",
       " ('donna', 0.5004986385057769),\n",
       " ('ragazza', 0.5004032723367208),\n",
       " ('casalingo', 0.500328544216722),\n",
       " ('bello', 0.5003203944201551),\n",
       " ('coniugato', 0.5003145616937776),\n",
       " ('bambina', 0.5003131384860301),\n",
       " ('madre', 0.5003053465979763),\n",
       " ('traviata', 0.5002912342907856),\n",
       " ('passeggiatrice', 0.5002908317425176)]"
      ]
     },
     "metadata": {},
     "output_type": "display_data"
    },
    {
     "name": "stdout",
     "output_type": "stream",
     "text": [
      "\n",
      "Word: rozzo\n",
      "\n",
      "Positive gender: male\n"
     ]
    },
    {
     "data": {
      "text/plain": [
       "[('rozzo', 0.5006219039055707),\n",
       " ('uomo', 0.5005169892754816),\n",
       " ('inquisitore', 0.500455419909462),\n",
       " ('araldo', 0.5004371153029402),\n",
       " ('utilitarismo', 0.5004190011979728),\n",
       " ('concettualismo', 0.5003995990067123),\n",
       " ('esagitare', 0.5003968274480199),\n",
       " ('bizzoso', 0.500393146376239),\n",
       " ('nichilismo', 0.5003905816233016),\n",
       " ('barricadiero', 0.50038961973162)]"
      ]
     },
     "metadata": {},
     "output_type": "display_data"
    },
    {
     "name": "stdout",
     "output_type": "stream",
     "text": [
      "Positive gender: female\n"
     ]
    },
    {
     "data": {
      "text/plain": [
       "[('rozzo', 0.5005457362251707),\n",
       " ('donna', 0.5004789119451701),\n",
       " ('spudorato', 0.500337447730483),\n",
       " ('ragazza', 0.5003359080371427),\n",
       " ('casalingo', 0.5003239890975809),\n",
       " ('lavoratrice', 0.5003226970636082),\n",
       " ('atrocemente', 0.5003110050711828),\n",
       " ('corredo', 0.5003085493125684),\n",
       " ('manganare', 0.5003079792662748),\n",
       " ('semioccupati', 0.5003073527299212)]"
      ]
     },
     "metadata": {},
     "output_type": "display_data"
    },
    {
     "name": "stdout",
     "output_type": "stream",
     "text": [
      "\n",
      "Word: piacevole\n",
      "\n",
      "Positive gender: male\n"
     ]
    },
    {
     "data": {
      "text/plain": [
       "[('piacevole', 0.5005808909863496),\n",
       " ('uomo', 0.5004710308068522),\n",
       " ('inquisitore', 0.5004177921472504),\n",
       " ('gioviale', 0.5003904707894042),\n",
       " ('contradittore', 0.5003837025546597),\n",
       " ('lapsus', 0.5003779481209311),\n",
       " ('humour', 0.500376269896909),\n",
       " ('dolciastro', 0.5003737697720553),\n",
       " ('saggista', 0.5003723295191609),\n",
       " ('scontroso', 0.5003714864989046)]"
      ]
     },
     "metadata": {},
     "output_type": "display_data"
    },
    {
     "name": "stdout",
     "output_type": "stream",
     "text": [
      "Positive gender: female\n"
     ]
    },
    {
     "data": {
      "text/plain": [
       "[('piacevole', 0.5005867460323099),\n",
       " ('donna', 0.500473957698147),\n",
       " ('ragazza', 0.5003692248447655),\n",
       " ('lcro', 0.5003140290373874),\n",
       " ('mamma', 0.5003009791197706),\n",
       " ('porcheria', 0.5002964297982023),\n",
       " ('femmina', 0.5002946536095313),\n",
       " ('domenicale', 0.5002942181836219),\n",
       " ('bambina', 0.5002928912929334),\n",
       " ('cinematografo', 0.5002928110929492)]"
      ]
     },
     "metadata": {},
     "output_type": "display_data"
    },
    {
     "name": "stdout",
     "output_type": "stream",
     "text": [
      "GROUP OF WORDS: family\n",
      "TOP 3 BIASED WORDS:\n",
      "\n",
      "Word: accudire\n",
      "\n",
      "Positive gender: male\n"
     ]
    },
    {
     "data": {
      "text/plain": [
       "[('accudire', 0.5005116245376043),\n",
       " ('uomo', 0.5004874492007488),\n",
       " ('improvvisarsi', 0.5003179926762515),\n",
       " ('sgabuzzino', 0.5003068383096384),\n",
       " ('privarsi', 0.5003032029919254),\n",
       " ('Fornari', 0.5003002535526994),\n",
       " ('briciolo', 0.5002965100781595),\n",
       " ('andarne', 0.5002949800430493),\n",
       " ('affidarla', 0.5002926503066113),\n",
       " ('inquisitore', 0.5002921805381908)]"
      ]
     },
     "metadata": {},
     "output_type": "display_data"
    },
    {
     "name": "stdout",
     "output_type": "stream",
     "text": [
      "Positive gender: female\n"
     ]
    },
    {
     "data": {
      "text/plain": [
       "[('accudire', 0.5006560233404257),\n",
       " ('donna', 0.5005596399947568),\n",
       " ('ragazza', 0.5003873947075238),\n",
       " ('nubile', 0.5003854018005731),\n",
       " ('mondina', 0.500383594337271),\n",
       " ('bambino', 0.5003780187308046),\n",
       " ('corredo', 0.5003777524058454),\n",
       " ('casale', 0.5003770292933555),\n",
       " ('manganare', 0.5003681200825284),\n",
       " ('mondariso', 0.5003651936354415)]"
      ]
     },
     "metadata": {},
     "output_type": "display_data"
    },
    {
     "name": "stdout",
     "output_type": "stream",
     "text": [
      "\n",
      "Word: matrimonio\n",
      "\n",
      "Positive gender: male\n"
     ]
    },
    {
     "data": {
      "text/plain": [
       "[('matrimonio', 0.5004715966122827),\n",
       " ('uomo', 0.500441194558413),\n",
       " ('filosofare', 0.5003205691658394),\n",
       " ('indissolubilita', 0.5003062166929005),\n",
       " ('sacramentare', 0.5003033934095701),\n",
       " ('Locke', 0.5002911132780754),\n",
       " ('matrimoniale', 0.5002898016217343),\n",
       " ('apoteosi', 0.5002875879485463),\n",
       " ('morris', 0.5002769741153857),\n",
       " ('intenzionalita', 0.5002765953685758)]"
      ]
     },
     "metadata": {},
     "output_type": "display_data"
    },
    {
     "name": "stdout",
     "output_type": "stream",
     "text": [
      "Positive gender: female\n"
     ]
    },
    {
     "data": {
      "text/plain": [
       "[('matrimonio', 0.5006960658577183),\n",
       " ('donna', 0.5005534098978183),\n",
       " ('nubile', 0.5004293415072304),\n",
       " ('madre', 0.500415516979858),\n",
       " ('sposato', 0.5004081597272269),\n",
       " ('coniugato', 0.5003981582949226),\n",
       " ('puerperio', 0.5003907393431177),\n",
       " ('minorenne', 0.5003854957384463),\n",
       " ('maschio', 0.5003781221734539),\n",
       " ('ragazza', 0.5003760276880159)]"
      ]
     },
     "metadata": {},
     "output_type": "display_data"
    },
    {
     "name": "stdout",
     "output_type": "stream",
     "text": [
      "\n",
      "Word: famiglia\n",
      "\n",
      "Positive gender: male\n"
     ]
    },
    {
     "data": {
      "text/plain": [
       "[('uomo', 0.5004980166464625),\n",
       " ('famiglia', 0.5004762346583813),\n",
       " ('famiglio', 0.500338908392516),\n",
       " ('Saggio', 0.5003057998488021),\n",
       " ('amicare', 0.5003003132518438),\n",
       " ('figliare', 0.5002986016716341),\n",
       " ('Regdo', 0.5002958500781471),\n",
       " ('padre', 0.5002944572773911),\n",
       " ('altruismo', 0.5002941772180942),\n",
       " ('Filpo', 0.5002930015585194)]"
      ]
     },
     "metadata": {},
     "output_type": "display_data"
    },
    {
     "name": "stdout",
     "output_type": "stream",
     "text": [
      "Positive gender: female\n"
     ]
    },
    {
     "data": {
      "text/plain": [
       "[('famiglia', 0.5006914259145633),\n",
       " ('donna', 0.5006056055272667),\n",
       " ('famiglio', 0.500536834481233),\n",
       " ('madre', 0.5005047188780928),\n",
       " ('bambino', 0.5004552631961682),\n",
       " ('nubile', 0.5004519382835044),\n",
       " ('figlio', 0.500446962673363),\n",
       " ('famigliare', 0.5004416090822096),\n",
       " ('ragazza', 0.5004406984529489),\n",
       " ('mondariso', 0.5004289433588467)]"
      ]
     },
     "metadata": {},
     "output_type": "display_data"
    },
    {
     "name": "stdout",
     "output_type": "stream",
     "text": [
      "GROUP OF WORDS: career\n",
      "TOP 3 BIASED WORDS:\n",
      "\n",
      "Word: ambizione\n",
      "\n",
      "Positive gender: male\n"
     ]
    },
    {
     "data": {
      "text/plain": [
       "[('ambizione', 0.5006772323776505),\n",
       " ('uomo', 0.5005066928709424),\n",
       " ('araldo', 0.5004408453976438),\n",
       " ('inquisitore', 0.5004101751792747),\n",
       " ('isolazionismo', 0.5003972077768276),\n",
       " ('liberissimo', 0.5003828625079628),\n",
       " ('arcobaleno', 0.5003660114996836),\n",
       " ('fideistico', 0.5003637829447399),\n",
       " ('egoismo', 0.5003616450037732),\n",
       " ('universalismo', 0.5003603405820917)]"
      ]
     },
     "metadata": {},
     "output_type": "display_data"
    },
    {
     "name": "stdout",
     "output_type": "stream",
     "text": [
      "Positive gender: female\n"
     ]
    },
    {
     "data": {
      "text/plain": [
       "[('ambizione', 0.5004904220762532),\n",
       " ('donna', 0.5004133107409443),\n",
       " ('ragazza', 0.5002921106434023),\n",
       " ('madre', 0.5002916414054511),\n",
       " ('rivendicazione', 0.5002907363124414),\n",
       " ('aspirazione', 0.50028663581664),\n",
       " ('nubile', 0.5002822602751981),\n",
       " ('lavoratrice', 0.500279022638636),\n",
       " ('traviata', 0.5002773350070373),\n",
       " ('puerpera', 0.5002737067441263)]"
      ]
     },
     "metadata": {},
     "output_type": "display_data"
    },
    {
     "name": "stdout",
     "output_type": "stream",
     "text": [
      "\n",
      "Word: capo\n",
      "\n",
      "Positive gender: male\n"
     ]
    },
    {
     "data": {
      "text/plain": [
       "[('capo', 0.5005743718361727),\n",
       " ('uomo', 0.5004621332831282),\n",
       " ('capere', 0.5003829280846294),\n",
       " ('personaggio', 0.5003501023191635),\n",
       " ('saggista', 0.5003122030130526),\n",
       " ('collaboratore', 0.500306732228702),\n",
       " ('Fornari', 0.5003021179042497),\n",
       " ('redattore', 0.5002969106247159),\n",
       " ('cap', 0.5002905996063249),\n",
       " ('legittimista', 0.5002885182770658)]"
      ]
     },
     "metadata": {},
     "output_type": "display_data"
    },
    {
     "name": "stdout",
     "output_type": "stream",
     "text": [
      "Positive gender: female\n"
     ]
    },
    {
     "data": {
      "text/plain": [
       "[('capo', 0.5005932653844979),\n",
       " ('donna', 0.5004715778801893),\n",
       " ('disoccupato', 0.5003255022624413),\n",
       " ('ragazza', 0.5003237879252292),\n",
       " ('gambini', 0.5003179490162336),\n",
       " ('mondariso', 0.5003172602556896),\n",
       " ('femminile', 0.5003136108850714),\n",
       " ('lcro', 0.5003104932168904),\n",
       " ('salariato', 0.5003088518547173),\n",
       " ('sunnominati', 0.5002996054702299)]"
      ]
     },
     "metadata": {},
     "output_type": "display_data"
    },
    {
     "name": "stdout",
     "output_type": "stream",
     "text": [
      "\n",
      "Word: professionale\n",
      "\n",
      "Positive gender: male\n"
     ]
    },
    {
     "data": {
      "text/plain": [
       "[('professionale', 0.500545148622595),\n",
       " ('uomo', 0.5004828018409608),\n",
       " ('addestramento', 0.5003771115841551),\n",
       " ('positivistica', 0.500346681925171),\n",
       " ('abilitA', 0.5003440861344552),\n",
       " ('antropologico', 0.5003295954285104),\n",
       " ('riorientamento', 0.5003248017445342),\n",
       " ('Padoan', 0.5003197029979961),\n",
       " ('tradizionalistica', 0.5003143794658016),\n",
       " ('antropologia', 0.5003138248876076)]"
      ]
     },
     "metadata": {},
     "output_type": "display_data"
    },
    {
     "name": "stdout",
     "output_type": "stream",
     "text": [
      "Positive gender: female\n"
     ]
    },
    {
     "data": {
      "text/plain": [
       "[('professionale', 0.5006224916167757),\n",
       " ('donna', 0.500521467088095),\n",
       " ('qualificazione', 0.5004293717990809),\n",
       " ('femminile', 0.5004119429902029),\n",
       " ('riqualificazione', 0.5003887056876961),\n",
       " ('addestramento', 0.5003811069371877),\n",
       " ('maschile', 0.5003776863432375),\n",
       " ('extrascolastica', 0.5003691334658523),\n",
       " ('disoccupato', 0.5003647936770356),\n",
       " ('apprendista', 0.5003633890770621)]"
      ]
     },
     "metadata": {},
     "output_type": "display_data"
    },
    {
     "name": "stdout",
     "output_type": "stream",
     "text": [
      "GROUP OF WORDS: rage\n",
      "TOP 3 BIASED WORDS:\n",
      "\n",
      "Word: crudele\n",
      "\n",
      "Positive gender: male\n"
     ]
    },
    {
     "data": {
      "text/plain": [
       "[('crudele', 0.500576888643033),\n",
       " ('uomo', 0.5004689612780909),\n",
       " ('inquisitore', 0.5004042144924887),\n",
       " ('bizzoso', 0.5003631713106689),\n",
       " ('astuto', 0.5003618358128246),\n",
       " ('araldo', 0.5003601080655644),\n",
       " ('apoteosi', 0.5003582118644817),\n",
       " ('mordace', 0.5003564039819001),\n",
       " ('scontroso', 0.5003562952443437),\n",
       " ('incancellabile', 0.5003514135729983)]"
      ]
     },
     "metadata": {},
     "output_type": "display_data"
    },
    {
     "name": "stdout",
     "output_type": "stream",
     "text": [
      "Positive gender: female\n"
     ]
    },
    {
     "data": {
      "text/plain": [
       "[('crudele', 0.5005907485318756),\n",
       " ('donna', 0.5004758896963873),\n",
       " ('ragazza', 0.5003779369605215),\n",
       " ('inumane', 0.5003746231127242),\n",
       " ('traviata', 0.5003578692642421),\n",
       " ('atrocemente', 0.5003572690537034),\n",
       " ('tortura', 0.5003569749546716),\n",
       " ('inumana', 0.5003499452551153),\n",
       " ('madre', 0.5003493281266057),\n",
       " ('nubile', 0.500339841146324)]"
      ]
     },
     "metadata": {},
     "output_type": "display_data"
    },
    {
     "name": "stdout",
     "output_type": "stream",
     "text": [
      "\n",
      "Word: brutale\n",
      "\n",
      "Positive gender: male\n"
     ]
    },
    {
     "data": {
      "text/plain": [
       "[('brutale', 0.5005950457048339),\n",
       " ('uomo', 0.5005130494415471),\n",
       " ('inquisitore', 0.5004056145999679),\n",
       " ('liberissimo', 0.5003899864085392),\n",
       " ('araldo', 0.5003882760392642),\n",
       " ('impulsivo', 0.5003871672316952),\n",
       " ('imperialismo', 0.500383629392961),\n",
       " ('apologeta', 0.5003729469712495),\n",
       " ('sanguinario', 0.5003714243193749),\n",
       " ('assolutismo', 0.5003711624164636)]"
      ]
     },
     "metadata": {},
     "output_type": "display_data"
    },
    {
     "name": "stdout",
     "output_type": "stream",
     "text": [
      "Positive gender: female\n"
     ]
    },
    {
     "data": {
      "text/plain": [
       "[('brutale', 0.5005725918200601),\n",
       " ('donna', 0.5005018241909919),\n",
       " ('brutalita', 0.5003687831319237),\n",
       " ('bestiale', 0.5003657046861111),\n",
       " ('disumano', 0.5003535467626308),\n",
       " ('inumane', 0.500352200418202),\n",
       " ('lavoratrice', 0.5003362795922005),\n",
       " ('ragazza', 0.5003352860271707),\n",
       " ('provocatorio', 0.5003348897691514),\n",
       " ('barbaro', 0.5003307217200641)]"
      ]
     },
     "metadata": {},
     "output_type": "display_data"
    },
    {
     "name": "stdout",
     "output_type": "stream",
     "text": [
      "\n",
      "Word: odioso\n",
      "\n",
      "Positive gender: male\n"
     ]
    },
    {
     "data": {
      "text/plain": [
       "[('odioso', 0.5005580638170942),\n",
       " ('uomo', 0.500467498694384),\n",
       " ('detestabile', 0.50037604237307),\n",
       " ('inquisitore', 0.5003710322787179),\n",
       " ('assolutismo', 0.5003700511191357),\n",
       " ('oppressione', 0.5003595851155217),\n",
       " ('arbitrio', 0.5003463303107283),\n",
       " ('astuto', 0.5003449549734454),\n",
       " ('araldo', 0.5003448067230304),\n",
       " ('sopraffazione', 0.5003409710669406)]"
      ]
     },
     "metadata": {},
     "output_type": "display_data"
    },
    {
     "name": "stdout",
     "output_type": "stream",
     "text": [
      "Positive gender: female\n"
     ]
    },
    {
     "data": {
      "text/plain": [
       "[('odioso', 0.500609574801658),\n",
       " ('donna', 0.5004932489186681),\n",
       " ('inumana', 0.500382115916733),\n",
       " ('vergognoso', 0.5003575487540883),\n",
       " ('iniquo', 0.5003559158382795),\n",
       " ('inumare', 0.5003447873181867),\n",
       " ('ragazza', 0.5003409259373668),\n",
       " ('ingiusto', 0.5003398569078541),\n",
       " ('illegale', 0.5003397508918636),\n",
       " ('discriminazione', 0.5003396217193761)]"
      ]
     },
     "metadata": {},
     "output_type": "display_data"
    },
    {
     "name": "stdout",
     "output_type": "stream",
     "text": [
      "GROUP OF WORDS: kindness\n",
      "TOP 3 BIASED WORDS:\n",
      "\n",
      "Word: gentile\n",
      "\n",
      "Positive gender: male\n"
     ]
    },
    {
     "data": {
      "text/plain": [
       "[('gentile', 0.5006013219686595),\n",
       " ('uomo', 0.5005236438946308),\n",
       " ('immaginifico', 0.5004158223056672),\n",
       " ('mordace', 0.5004004403813039),\n",
       " ('amabile', 0.5004001549482037),\n",
       " ('gioviale', 0.5003995328098728),\n",
       " ('liberissimo', 0.5003992605366815),\n",
       " ('arguto', 0.5003989584465799),\n",
       " ('amicare', 0.5003925356997125),\n",
       " ('ammiratore', 0.5003921382402883)]"
      ]
     },
     "metadata": {},
     "output_type": "display_data"
    },
    {
     "name": "stdout",
     "output_type": "stream",
     "text": [
      "Positive gender: female\n"
     ]
    },
    {
     "data": {
      "text/plain": [
       "[('gentile', 0.5005663158247777),\n",
       " ('donna', 0.5005061432134202),\n",
       " ('madre', 0.5003821094025477),\n",
       " ('ragazza', 0.5003631126678968),\n",
       " ('mamma', 0.5003540123821699),\n",
       " ('collega', 0.5003471698960299),\n",
       " ('casalingo', 0.5003387475190703),\n",
       " ('nubile', 0.5003377470112966),\n",
       " ('coniugato', 0.5003334197622277),\n",
       " ('maschio', 0.5003225127223278)]"
      ]
     },
     "metadata": {},
     "output_type": "display_data"
    },
    {
     "name": "stdout",
     "output_type": "stream",
     "text": [
      "\n",
      "Word: bravo\n",
      "\n",
      "Positive gender: male\n"
     ]
    },
    {
     "data": {
      "text/plain": [
       "[('bravo', 0.5005997407771783),\n",
       " ('uomo', 0.5005138181315023),\n",
       " ('galantuomo', 0.5004280393789152),\n",
       " ('integerrimo', 0.5004082091308978),\n",
       " ('amicare', 0.5004053062634959),\n",
       " ('autodidatta', 0.5004029022007689),\n",
       " ('intelligente', 0.5003917231481954),\n",
       " ('ammiratore', 0.5003877982759585),\n",
       " ('inquisitore', 0.5003852634162788),\n",
       " ('bravissimo', 0.5003846184334855)]"
      ]
     },
     "metadata": {},
     "output_type": "display_data"
    },
    {
     "name": "stdout",
     "output_type": "stream",
     "text": [
      "Positive gender: female\n"
     ]
    },
    {
     "data": {
      "text/plain": [
       "[('bravo', 0.5005678969344457),\n",
       " ('donna', 0.5004978986770666),\n",
       " ('ragazza', 0.5004222463188326),\n",
       " ('giovane', 0.5003440379460824),\n",
       " ('giovanissime', 0.5003399610876467),\n",
       " ('mamma', 0.5003270656555828),\n",
       " ('figliola', 0.5003263895034264),\n",
       " ('disoccupato', 0.5003260914657695),\n",
       " ('povero', 0.5003258425197845),\n",
       " ('bambina', 0.5003243074944982)]"
      ]
     },
     "metadata": {},
     "output_type": "display_data"
    },
    {
     "name": "stdout",
     "output_type": "stream",
     "text": [
      "\n",
      "Word: premuroso\n",
      "\n",
      "Positive gender: male\n"
     ]
    },
    {
     "data": {
      "text/plain": [
       "[('premuroso', 0.5006563358713737),\n",
       " ('uomo', 0.500480434341283),\n",
       " ('longanimo', 0.5003977510251466),\n",
       " ('preveggente', 0.5003916127089989),\n",
       " ('adamantino', 0.5003879039592565),\n",
       " ('liberissimo', 0.5003773305725917),\n",
       " ('araldo', 0.5003761094848581),\n",
       " ('solerte', 0.500373752098742),\n",
       " ('meditativo', 0.5003707102726838),\n",
       " ('tutore', 0.5003687813121126)]"
      ]
     },
     "metadata": {},
     "output_type": "display_data"
    },
    {
     "name": "stdout",
     "output_type": "stream",
     "text": [
      "Positive gender: female\n"
     ]
    },
    {
     "data": {
      "text/plain": [
       "[('premuroso', 0.500511311779049),\n",
       " ('donna', 0.5004079424627532),\n",
       " ('lavoratrice', 0.5003265481813063),\n",
       " ('madre', 0.5003238204690355),\n",
       " ('amorevolmente', 0.500310897097623),\n",
       " ('figliola', 0.5003095098530792),\n",
       " ('disoccupato', 0.5003040042365253),\n",
       " ('traviata', 0.5003039161296723),\n",
       " ('nutrice', 0.5002950614332962),\n",
       " ('trepidare', 0.5002920844223312)]"
      ]
     },
     "metadata": {},
     "output_type": "display_data"
    },
    {
     "name": "stdout",
     "output_type": "stream",
     "text": [
      "GROUP OF WORDS: intelligence\n",
      "TOP 3 BIASED WORDS:\n",
      "\n",
      "Word: saggio\n",
      "\n",
      "Positive gender: male\n"
     ]
    },
    {
     "data": {
      "text/plain": [
       "[('saggio', 0.5006407086994336),\n",
       " ('uomo', 0.5004690522608126),\n",
       " ('oculato', 0.5004151699101786),\n",
       " ('saggezza', 0.500398849346392),\n",
       " ('saggiare', 0.5003908335632001),\n",
       " ('lungimirante', 0.5003860157622263),\n",
       " ('sagace', 0.5003826810656429),\n",
       " ('preveggente', 0.5003761219408407),\n",
       " ('adamantino', 0.5003538810270516),\n",
       " ('intelligente', 0.5003537400315875)]"
      ]
     },
     "metadata": {},
     "output_type": "display_data"
    },
    {
     "name": "stdout",
     "output_type": "stream",
     "text": [
      "Positive gender: female\n"
     ]
    },
    {
     "data": {
      "text/plain": [
       "[('saggio', 0.5005269346995213),\n",
       " ('donna', 0.5004121814954103),\n",
       " ('disoccupato', 0.5002716132600364),\n",
       " ('lavoratrice', 0.5002685311200208),\n",
       " ('ragazza', 0.500265076097943),\n",
       " ('madre', 0.5002649803855453),\n",
       " ('avventurarci', 0.5002614996636924),\n",
       " ('giusto', 0.500246854213147),\n",
       " ('coniugato', 0.5002436268110554),\n",
       " ('lcro', 0.5002428231461102)]"
      ]
     },
     "metadata": {},
     "output_type": "display_data"
    },
    {
     "name": "stdout",
     "output_type": "stream",
     "text": [
      "\n",
      "Word: intelligente\n",
      "\n",
      "Positive gender: male\n"
     ]
    },
    {
     "data": {
      "text/plain": [
       "[('intelligente', 0.5006844411192348),\n",
       " ('uomo', 0.5005816357571263),\n",
       " ('sagace', 0.5004606794904273),\n",
       " ('preveggente', 0.5004554461621578),\n",
       " ('inquisitore', 0.500452794053605),\n",
       " ('integerrimo', 0.5004461496612003),\n",
       " ('ammiratore', 0.5004443921501132),\n",
       " ('arguto', 0.5004417630574339),\n",
       " ('abile', 0.5004399159922122),\n",
       " ('amicare', 0.5004333573659004)]"
      ]
     },
     "metadata": {},
     "output_type": "display_data"
    },
    {
     "name": "stdout",
     "output_type": "stream",
     "text": [
      "Positive gender: female\n"
     ]
    },
    {
     "data": {
      "text/plain": [
       "[('intelligente', 0.5004832164714882),\n",
       " ('donna', 0.5004810338957744),\n",
       " ('casalingo', 0.5003261691987989),\n",
       " ('lavoratrice', 0.5003208064143282),\n",
       " ('ragazza', 0.5003165306304982),\n",
       " ('risparmiatrici', 0.5003073572147586),\n",
       " ('traviata', 0.5003003560660408),\n",
       " ('parsimonioso', 0.5002968184527503),\n",
       " ('madre', 0.5002935376583318),\n",
       " ('volenteroso', 0.5002883016756142)]"
      ]
     },
     "metadata": {},
     "output_type": "display_data"
    },
    {
     "name": "stdout",
     "output_type": "stream",
     "text": [
      "\n",
      "Word: studioso\n",
      "\n",
      "Positive gender: male\n"
     ]
    },
    {
     "data": {
      "text/plain": [
       "[('studioso', 0.5007003829565277),\n",
       " ('cultore', 0.5005727917177893),\n",
       " ('uomo', 0.5005714012584245),\n",
       " ('economista', 0.5005463891432779),\n",
       " ('giurista', 0.500544431040903),\n",
       " ('insignire', 0.500521997127533),\n",
       " ('conoscitore', 0.5005021191615052),\n",
       " ('illustre', 0.5005019956239205),\n",
       " ('statista', 0.5004944620983549),\n",
       " ('eminente', 0.5004913417550495)]"
      ]
     },
     "metadata": {},
     "output_type": "display_data"
    },
    {
     "name": "stdout",
     "output_type": "stream",
     "text": [
      "Positive gender: female\n"
     ]
    },
    {
     "data": {
      "text/plain": [
       "[('studioso', 0.5004672814091364),\n",
       " ('donna', 0.5004548668407515),\n",
       " ('esperto', 0.5003215573254709),\n",
       " ('disoccupato', 0.5003126975573576),\n",
       " ('tisiologi', 0.5003014543073938),\n",
       " ('madre', 0.5003012223773657),\n",
       " ('sociologo', 0.5003001347546158),\n",
       " ('Atenei', 0.5002993301383908),\n",
       " ('scrittorio', 0.5002902349273984),\n",
       " ('immigrato', 0.5002895443737677)]"
      ]
     },
     "metadata": {},
     "output_type": "display_data"
    },
    {
     "name": "stdout",
     "output_type": "stream",
     "text": [
      "GROUP OF WORDS: dumbness\n",
      "TOP 3 BIASED WORDS:\n",
      "\n",
      "Word: isterico\n",
      "\n",
      "Positive gender: male\n"
     ]
    },
    {
     "data": {
      "text/plain": [
       "[('isterico', 0.500642988622214),\n",
       " ('uomo', 0.5005395391849081),\n",
       " ('inquisitore', 0.5004641985009595),\n",
       " ('araldo', 0.5004409010211791),\n",
       " ('apoteosi', 0.5004336008210122),\n",
       " ('esagitare', 0.5004223632925278),\n",
       " ('mordace', 0.5004151946094435),\n",
       " ('socialistoide', 0.5004099114131231),\n",
       " ('evocazione', 0.5004059046092109),\n",
       " ('anticonformismo', 0.5004051505688097)]"
      ]
     },
     "metadata": {},
     "output_type": "display_data"
    },
    {
     "name": "stdout",
     "output_type": "stream",
     "text": [
      "Positive gender: female\n"
     ]
    },
    {
     "data": {
      "text/plain": [
       "[('isterico', 0.5005246556430152),\n",
       " ('donna', 0.500480381406215),\n",
       " ('imprecazione', 0.5003185911104432),\n",
       " ('schiamazzo', 0.5003182525939117),\n",
       " ('madre', 0.5003170914191233),\n",
       " ('ragazza', 0.5003146835104479),\n",
       " ('antireligioso', 0.5003137684927952),\n",
       " ('coniugato', 0.5003130391981002),\n",
       " ('lepre', 0.5003114790405014),\n",
       " ('mormorazioni', 0.5003083170986564)]"
      ]
     },
     "metadata": {},
     "output_type": "display_data"
    },
    {
     "name": "stdout",
     "output_type": "stream",
     "text": [
      "\n",
      "Word: superficiale\n",
      "\n",
      "Positive gender: male\n"
     ]
    },
    {
     "data": {
      "text/plain": [
       "[('superficiale', 0.5006072110204424),\n",
       " ('uomo', 0.5004621119306019),\n",
       " ('inquisitore', 0.5003794333876119),\n",
       " ('lapsus', 0.5003624049930401),\n",
       " ('concettualismo', 0.5003612633748842),\n",
       " ('addentrandosi', 0.5003563910191736),\n",
       " ('pedantesco', 0.5003531832288899),\n",
       " ('frettoloso', 0.5003509054063264),\n",
       " ('erudizione', 0.5003484571073182),\n",
       " ('osservatore', 0.5003470714683407)]"
      ]
     },
     "metadata": {},
     "output_type": "display_data"
    },
    {
     "name": "stdout",
     "output_type": "stream",
     "text": [
      "Positive gender: female\n"
     ]
    },
    {
     "data": {
      "text/plain": [
       "[('superficiale', 0.5005604270594063),\n",
       " ('donna', 0.5004387261746781),\n",
       " ('sommario', 0.5002984062610771),\n",
       " ('traviata', 0.5002888990854596),\n",
       " ('ragazza', 0.5002765702644314),\n",
       " ('parziale', 0.5002739808177075),\n",
       " ('semplicistico', 0.5002728910549196),\n",
       " ('irregolare', 0.500272344292561),\n",
       " ('puerpera', 0.5002713140678309),\n",
       " ('madre', 0.5002698289818501)]"
      ]
     },
     "metadata": {},
     "output_type": "display_data"
    },
    {
     "name": "stdout",
     "output_type": "stream",
     "text": [
      "\n",
      "Word: stupido\n",
      "\n",
      "Positive gender: male\n"
     ]
    },
    {
     "data": {
      "text/plain": [
       "[('stupido', 0.5005701188454548),\n",
       " ('uomo', 0.5004915197065448),\n",
       " ('inquisitore', 0.5004475784917177),\n",
       " ('araldo', 0.5004225634362758),\n",
       " ('impennata', 0.5004208897028694),\n",
       " ('machiavellismo', 0.5004180077725559),\n",
       " ('antisovietiche', 0.500417324763499),\n",
       " ('guerrafondaio', 0.500408692847663),\n",
       " ('astuto', 0.5004086197335689),\n",
       " ('spavalderia', 0.5004082393016399)]"
      ]
     },
     "metadata": {},
     "output_type": "display_data"
    },
    {
     "name": "stdout",
     "output_type": "stream",
     "text": [
      "Positive gender: female\n"
     ]
    },
    {
     "data": {
      "text/plain": [
       "[('stupido', 0.5005975187663152),\n",
       " ('donna', 0.5005052173543646),\n",
       " ('spudorato', 0.500356471734286),\n",
       " ('ragazza', 0.5003564029190496),\n",
       " ('atrocemente', 0.5003421031594708),\n",
       " ('bestiola', 0.5003336356246492),\n",
       " ('traviata', 0.5003333763224987),\n",
       " ('beffa', 0.5003304392453899),\n",
       " ('crudelta', 0.5003286749559412),\n",
       " ('anticomuniste', 0.5003277312820871)]"
      ]
     },
     "metadata": {},
     "output_type": "display_data"
    },
    {
     "name": "stdout",
     "output_type": "stream",
     "text": [
      "GROUP OF WORDS: active\n",
      "TOP 3 BIASED WORDS:\n",
      "\n",
      "Word: ambizioso\n",
      "\n",
      "Positive gender: male\n"
     ]
    },
    {
     "data": {
      "text/plain": [
       "[('ambizioso', 0.500668995896487),\n",
       " ('uomo', 0.5004768223410807),\n",
       " ('realizzatore', 0.5004085452975715),\n",
       " ('ideatore', 0.5004030978997479),\n",
       " ('araldo', 0.5004023759930273),\n",
       " ('inquisitore', 0.5004001443568952),\n",
       " ('visionario', 0.5003782674106908),\n",
       " ('spericolato', 0.5003767222774376),\n",
       " ('obiettivare', 0.5003602739884708),\n",
       " ('audace', 0.5003574806974939)]"
      ]
     },
     "metadata": {},
     "output_type": "display_data"
    },
    {
     "name": "stdout",
     "output_type": "stream",
     "text": [
      "Positive gender: female\n"
     ]
    },
    {
     "data": {
      "text/plain": [
       "[('ambizioso', 0.5004986554556142),\n",
       " ('donna', 0.5003916775014018),\n",
       " ('disoccupato', 0.5002653006950397),\n",
       " ('ragazza', 0.5002574316226883),\n",
       " ('traviata', 0.5002554802716741),\n",
       " ('lavoratrice', 0.5002547226720142),\n",
       " ('madre', 0.5002471943666444),\n",
       " ('diseredato', 0.5002468151571954),\n",
       " ('pravo', 0.5002457877251825),\n",
       " ('maschile', 0.5002449571227292)]"
      ]
     },
     "metadata": {},
     "output_type": "display_data"
    },
    {
     "name": "stdout",
     "output_type": "stream",
     "text": [
      "\n",
      "Word: sicuro\n",
      "\n",
      "Positive gender: male\n"
     ]
    },
    {
     "data": {
      "text/plain": [
       "[('sicuro', 0.5006572364565935),\n",
       " ('uomo', 0.5005178757737866),\n",
       " ('preveggente', 0.500371214775292),\n",
       " ('viatico', 0.5003691034305475),\n",
       " ('certezza', 0.5003677064192043),\n",
       " ('ammiratore', 0.5003639272257526),\n",
       " ('annientarli', 0.5003615773834826),\n",
       " ('mallevadore', 0.5003586946466392),\n",
       " ('araldo', 0.500357459541301),\n",
       " ('sicuramente', 0.5003569254682628)]"
      ]
     },
     "metadata": {},
     "output_type": "display_data"
    },
    {
     "name": "stdout",
     "output_type": "stream",
     "text": [
      "Positive gender: female\n"
     ]
    },
    {
     "data": {
      "text/plain": [
       "[('sicuro', 0.5005104115473851),\n",
       " ('donna', 0.5004444783081684),\n",
       " ('tranquillo', 0.5003200368777324),\n",
       " ('lavoratrice', 0.5003165043966774),\n",
       " ('lavoratore', 0.5002785405148107),\n",
       " ('riprendervi', 0.5002756028055836),\n",
       " ('disoccupato', 0.5002749355299448),\n",
       " ('tranquillare', 0.5002708936645814),\n",
       " ('ragazza', 0.5002701029026255),\n",
       " ('lcro', 0.5002692686375747)]"
      ]
     },
     "metadata": {},
     "output_type": "display_data"
    },
    {
     "name": "stdout",
     "output_type": "stream",
     "text": [
      "\n",
      "Word: forte\n",
      "\n",
      "Positive gender: male\n"
     ]
    },
    {
     "data": {
      "text/plain": [
       "[('forte', 0.5006247289502046),\n",
       " ('uomo', 0.5004590343911995),\n",
       " ('sensibile', 0.5003747431269021),\n",
       " ('preveggente', 0.5003584522837946),\n",
       " ('agguerrire', 0.5003551168921747),\n",
       " ('debole', 0.5003427365333857),\n",
       " ('popolaresco', 0.5003367622357467),\n",
       " ('liberissimo', 0.5003345222314993),\n",
       " ('fortissimo', 0.5003336474859867),\n",
       " ('araldo', 0.5003329059170047)]"
      ]
     },
     "metadata": {},
     "output_type": "display_data"
    },
    {
     "name": "stdout",
     "output_type": "stream",
     "text": [
      "Positive gender: female\n"
     ]
    },
    {
     "data": {
      "text/plain": [
       "[('forte', 0.5005429113906359),\n",
       " ('donna', 0.5004181374423432),\n",
       " ('fortissima', 0.5003830692996676),\n",
       " ('massiccio', 0.5003455693091043),\n",
       " ('lavoratrice', 0.5003318940265021),\n",
       " ('disoccupato', 0.5003172282542839),\n",
       " ('cospicuo', 0.5003150395087551),\n",
       " ('inoccupata', 0.5003131862654956),\n",
       " ('notevole', 0.5003089658864938),\n",
       " ('lavoratore', 0.5002967890953682)]"
      ]
     },
     "metadata": {},
     "output_type": "display_data"
    },
    {
     "name": "stdout",
     "output_type": "stream",
     "text": [
      "GROUP OF WORDS: passive\n",
      "TOP 3 BIASED WORDS:\n",
      "\n",
      "Word: silenzioso\n",
      "\n",
      "Positive gender: male\n"
     ]
    },
    {
     "data": {
      "text/plain": [
       "[('silenzioso', 0.5005787442441583),\n",
       " ('uomo', 0.500514532952291),\n",
       " ('meditativo', 0.5003924389504608),\n",
       " ('adamantino', 0.5003845597702483),\n",
       " ('apostolo', 0.5003825456106504),\n",
       " ('ammiratore', 0.5003825269170713),\n",
       " ('realizzatore', 0.5003813851655738),\n",
       " ('araldo', 0.5003694975471128),\n",
       " ('apoteosi', 0.5003679649082391),\n",
       " ('battagliero', 0.5003621854172711)]"
      ]
     },
     "metadata": {},
     "output_type": "display_data"
    },
    {
     "name": "stdout",
     "output_type": "stream",
     "text": [
      "Positive gender: female\n"
     ]
    },
    {
     "data": {
      "text/plain": [
       "[('silenzioso', 0.5005888932569479),\n",
       " ('donna', 0.5005196068117201),\n",
       " ('lavoratrice', 0.5003574540454369),\n",
       " ('ragazza', 0.5003544275975473),\n",
       " ('semioccupati', 0.5003467612862118),\n",
       " ('disoccupato', 0.500346078321388),\n",
       " ('assiepare', 0.5003345222889926),\n",
       " ('madre', 0.5003336530517779),\n",
       " ('nubile', 0.500320810995141),\n",
       " ('casale', 0.5003175750157549)]"
      ]
     },
     "metadata": {},
     "output_type": "display_data"
    },
    {
     "name": "stdout",
     "output_type": "stream",
     "text": [
      "\n",
      "Word: timido\n",
      "\n",
      "Positive gender: male\n"
     ]
    },
    {
     "data": {
      "text/plain": [
       "[('timido', 0.5006168201094328),\n",
       " ('uomo', 0.5004640018429661),\n",
       " ('araldo', 0.500403129173568),\n",
       " ('eclettico', 0.5003815217138124),\n",
       " ('realizzatore', 0.5003590310962406),\n",
       " ('audace', 0.5003474520542125),\n",
       " ('inquisitore', 0.5003435361208954),\n",
       " ('arcobaleno', 0.5003419420740652),\n",
       " ('ammiratore', 0.5003400563255834),\n",
       " ('anticipatore', 0.5003372459693785)]"
      ]
     },
     "metadata": {},
     "output_type": "display_data"
    },
    {
     "name": "stdout",
     "output_type": "stream",
     "text": [
      "Positive gender: female\n"
     ]
    },
    {
     "data": {
      "text/plain": [
       "[('timido', 0.5005508190994679),\n",
       " ('donna', 0.5004310103235331),\n",
       " ('parziale', 0.500311825760614),\n",
       " ('timidamente', 0.5003100904410565),\n",
       " ('lavoratrice', 0.5002952898879606),\n",
       " ('casalingo', 0.5002861550193277),\n",
       " ('ragazza', 0.5002746259937759),\n",
       " ('tubercolotici', 0.5002732624928841),\n",
       " ('disoccupato', 0.5002606895505889),\n",
       " ('sporadicamente', 0.5002541728669522)]"
      ]
     },
     "metadata": {},
     "output_type": "display_data"
    },
    {
     "name": "stdout",
     "output_type": "stream",
     "text": [
      "\n",
      "Word: debole\n",
      "\n",
      "Positive gender: male\n"
     ]
    },
    {
     "data": {
      "text/plain": [
       "[('debole', 0.5006308956164826),\n",
       " ('uomo', 0.5004835000097568),\n",
       " ('fragile', 0.500413830632814),\n",
       " ('araldo', 0.5003696375844765),\n",
       " ('longanimo', 0.5003612536532719),\n",
       " ('realizzatore', 0.5003605672949465),\n",
       " ('illanguidire', 0.5003556331129593),\n",
       " ('agguerrire', 0.5003526960254493),\n",
       " ('spericolare', 0.5003516535439646),\n",
       " ('anticonformismo', 0.5003427309262415)]"
      ]
     },
     "metadata": {},
     "output_type": "display_data"
    },
    {
     "name": "stdout",
     "output_type": "stream",
     "text": [
      "Positive gender: female\n"
     ]
    },
    {
     "data": {
      "text/plain": [
       "[('debole', 0.5005367458936598),\n",
       " ('donna', 0.5004364367682136),\n",
       " ('povero', 0.5003552152383004),\n",
       " ('bisognoso', 0.5003531960008427),\n",
       " ('lavoratrice', 0.500351223216613),\n",
       " ('misero', 0.5003343312528072),\n",
       " ('vulnerabile', 0.5003280798025399),\n",
       " ('diseredato', 0.500326109233895),\n",
       " ('lavoratore', 0.5003250192008702),\n",
       " ('gracile', 0.50031822105794)]"
      ]
     },
     "metadata": {},
     "output_type": "display_data"
    },
    {
     "name": "stdout",
     "output_type": "stream",
     "text": [
      "GROUP OF WORDS: gendered_words\n",
      "TOP 3 BIASED WORDS:\n",
      "\n",
      "Word: maschile\n",
      "\n",
      "Positive gender: male\n"
     ]
    },
    {
     "data": {
      "text/plain": [
       "[('maschile', 0.5004190772915422),\n",
       " ('uomo', 0.5004113337530798),\n",
       " ('inquisitore', 0.5003112772178252),\n",
       " ('abilitA', 0.5002868551121654),\n",
       " ('apprendimento', 0.500283966413822),\n",
       " ('anticipatore', 0.5002733341913982),\n",
       " ('umanesimo', 0.5002703791379121),\n",
       " ('autodidatta', 0.5002696981217084),\n",
       " ('filosofare', 0.5002694360568658),\n",
       " ('scolaretto', 0.500268952689108)]"
      ]
     },
     "metadata": {},
     "output_type": "display_data"
    },
    {
     "name": "stdout",
     "output_type": "stream",
     "text": [
      "Positive gender: female\n"
     ]
    },
    {
     "data": {
      "text/plain": [
       "[('maschile', 0.5007486141605209),\n",
       " ('femminile', 0.5005997679129511),\n",
       " ('donna', 0.5005760726837439),\n",
       " ('disoccupato', 0.5004425544692158),\n",
       " ('maschio', 0.5004254923345116),\n",
       " ('semianalfabeta', 0.5004204227965854),\n",
       " ('ragazza', 0.5004083670501491),\n",
       " ('apprendiste', 0.5004009891201642),\n",
       " ('femmina', 0.5003973809736981),\n",
       " ('lavoratrice', 0.5003969269506477)]"
      ]
     },
     "metadata": {},
     "output_type": "display_data"
    },
    {
     "name": "stdout",
     "output_type": "stream",
     "text": [
      "\n",
      "Word: nonno\n",
      "\n",
      "Positive gender: male\n"
     ]
    },
    {
     "data": {
      "text/plain": [
       "[('nonno', 0.5005918582507797),\n",
       " ('uomo', 0.5005294871170813),\n",
       " ('filosofare', 0.500422862061172),\n",
       " ('antenato', 0.5004197948113105),\n",
       " ('innamorare', 0.5004196098232179),\n",
       " ('amicare', 0.5004150873032649),\n",
       " ('conterraneo', 0.500406334661957),\n",
       " ('ammiratore', 0.5003963158212725),\n",
       " ('discepolo', 0.5003848857955914),\n",
       " ('successore', 0.5003826573980931)]"
      ]
     },
     "metadata": {},
     "output_type": "display_data"
    },
    {
     "name": "stdout",
     "output_type": "stream",
     "text": [
      "Positive gender: female\n"
     ]
    },
    {
     "data": {
      "text/plain": [
       "[('nonno', 0.5005757793421218),\n",
       " ('donna', 0.5005214486108406),\n",
       " ('madre', 0.5004242835079539),\n",
       " ('bambino', 0.5004037584469035),\n",
       " ('maschio', 0.5004023102085354),\n",
       " ('figlio', 0.5003970540024467),\n",
       " ('nubile', 0.5003922612539838),\n",
       " ('ragazza', 0.5003881097161371),\n",
       " ('mamma', 0.5003827546847162),\n",
       " ('spose', 0.5003746824438566)]"
      ]
     },
     "metadata": {},
     "output_type": "display_data"
    },
    {
     "name": "stdout",
     "output_type": "stream",
     "text": [
      "\n",
      "Word: ragazza\n",
      "\n",
      "Positive gender: male\n"
     ]
    },
    {
     "data": {
      "text/plain": [
       "[('uomo', 0.500483500942589),\n",
       " ('ragazza', 0.5003700827289805),\n",
       " ('scrittore', 0.5003375906316029),\n",
       " ('operetta', 0.5003185969952718),\n",
       " ('autodidatta', 0.5003169561186364),\n",
       " ('inquisitore', 0.5003165642859737),\n",
       " ('abilitA', 0.5003019470683392),\n",
       " ('hobby', 0.5003013345876746),\n",
       " ('galantuomo', 0.5003000915061401),\n",
       " ('saggista', 0.5002968119201876)]"
      ]
     },
     "metadata": {},
     "output_type": "display_data"
    },
    {
     "name": "stdout",
     "output_type": "stream",
     "text": [
      "Positive gender: female\n"
     ]
    },
    {
     "data": {
      "text/plain": [
       "[('ragazza', 0.5007976462977114),\n",
       " ('donna', 0.5006972857470493),\n",
       " ('bambina', 0.5005187437747085),\n",
       " ('bambino', 0.5005062455816286),\n",
       " ('madre', 0.5004891059625457),\n",
       " ('studentessa', 0.5004803422901787),\n",
       " ('mamma', 0.5004651260490124),\n",
       " ('ragazzo', 0.5004526237115878),\n",
       " ('giovanissime', 0.5004486865968707),\n",
       " ('maschio', 0.5004445730924681)]"
      ]
     },
     "metadata": {},
     "output_type": "display_data"
    },
    {
     "name": "stdout",
     "output_type": "stream",
     "text": [
      "GROUP OF WORDS: female_stereotypes\n",
      "TOP 3 BIASED WORDS:\n",
      "\n",
      "Word: silenzioso\n",
      "\n",
      "Positive gender: male\n"
     ]
    },
    {
     "data": {
      "text/plain": [
       "[('silenzioso', 0.5005787442441583),\n",
       " ('uomo', 0.500514532952291),\n",
       " ('meditativo', 0.5003924389504608),\n",
       " ('adamantino', 0.5003845597702483),\n",
       " ('apostolo', 0.5003825456106504),\n",
       " ('ammiratore', 0.5003825269170713),\n",
       " ('realizzatore', 0.5003813851655738),\n",
       " ('araldo', 0.5003694975471128),\n",
       " ('apoteosi', 0.5003679649082391),\n",
       " ('battagliero', 0.5003621854172711)]"
      ]
     },
     "metadata": {},
     "output_type": "display_data"
    },
    {
     "name": "stdout",
     "output_type": "stream",
     "text": [
      "Positive gender: female\n"
     ]
    },
    {
     "data": {
      "text/plain": [
       "[('silenzioso', 0.5005888932569479),\n",
       " ('donna', 0.5005196068117201),\n",
       " ('lavoratrice', 0.5003574540454369),\n",
       " ('ragazza', 0.5003544275975473),\n",
       " ('semioccupati', 0.5003467612862118),\n",
       " ('disoccupato', 0.500346078321388),\n",
       " ('assiepare', 0.5003345222889926),\n",
       " ('madre', 0.5003336530517779),\n",
       " ('nubile', 0.500320810995141),\n",
       " ('casale', 0.5003175750157549)]"
      ]
     },
     "metadata": {},
     "output_type": "display_data"
    },
    {
     "name": "stdout",
     "output_type": "stream",
     "text": [
      "\n",
      "Word: gentile\n",
      "\n",
      "Positive gender: male\n"
     ]
    },
    {
     "data": {
      "text/plain": [
       "[('gentile', 0.5006013219686595),\n",
       " ('uomo', 0.5005236438946308),\n",
       " ('immaginifico', 0.5004158223056672),\n",
       " ('mordace', 0.5004004403813039),\n",
       " ('amabile', 0.5004001549482037),\n",
       " ('gioviale', 0.5003995328098728),\n",
       " ('liberissimo', 0.5003992605366815),\n",
       " ('arguto', 0.5003989584465799),\n",
       " ('amicare', 0.5003925356997125),\n",
       " ('ammiratore', 0.5003921382402883)]"
      ]
     },
     "metadata": {},
     "output_type": "display_data"
    },
    {
     "name": "stdout",
     "output_type": "stream",
     "text": [
      "Positive gender: female\n"
     ]
    },
    {
     "data": {
      "text/plain": [
       "[('gentile', 0.5005663158247777),\n",
       " ('donna', 0.5005061432134202),\n",
       " ('madre', 0.5003821094025477),\n",
       " ('ragazza', 0.5003631126678968),\n",
       " ('mamma', 0.5003540123821699),\n",
       " ('collega', 0.5003471698960299),\n",
       " ('casalingo', 0.5003387475190703),\n",
       " ('nubile', 0.5003377470112966),\n",
       " ('coniugato', 0.5003334197622277),\n",
       " ('maschio', 0.5003225127223278)]"
      ]
     },
     "metadata": {},
     "output_type": "display_data"
    },
    {
     "name": "stdout",
     "output_type": "stream",
     "text": [
      "\n",
      "Word: bello\n",
      "\n",
      "Positive gender: male\n"
     ]
    },
    {
     "data": {
      "text/plain": [
       "[('bello', 0.5005534660074376),\n",
       " ('uomo', 0.5004755692305171),\n",
       " ('inquisitore', 0.5003749456828501),\n",
       " ('insignire', 0.5003735403831805),\n",
       " ('immaginifico', 0.5003704779589985),\n",
       " ('araldo', 0.5003699806064499),\n",
       " ('poesia', 0.5003673813303188),\n",
       " ('epoque', 0.500356443934652),\n",
       " ('saggista', 0.5003536043434805),\n",
       " ('amicare', 0.5003528935286186)]"
      ]
     },
     "metadata": {},
     "output_type": "display_data"
    },
    {
     "name": "stdout",
     "output_type": "stream",
     "text": [
      "Positive gender: female\n"
     ]
    },
    {
     "data": {
      "text/plain": [
       "[('bello', 0.5006141729687194),\n",
       " ('donna', 0.5005059171087611),\n",
       " ('ragazza', 0.5003826497372391),\n",
       " ('madre', 0.5003454176428281),\n",
       " ('Sovraintendenza', 0.5003402013579572),\n",
       " ('Belle', 0.5003192957876542),\n",
       " ('Accademie', 0.5003098333607426),\n",
       " ('arto', 0.5003065482545623),\n",
       " ('femmina', 0.500306205783999),\n",
       " ('tessitrici', 0.5003041106575091)]"
      ]
     },
     "metadata": {},
     "output_type": "display_data"
    },
    {
     "name": "stdout",
     "output_type": "stream",
     "text": [
      "GROUP OF WORDS: male_stereotypes\n",
      "TOP 3 BIASED WORDS:\n",
      "\n",
      "Word: ambizioso\n",
      "\n",
      "Positive gender: male\n"
     ]
    },
    {
     "data": {
      "text/plain": [
       "[('ambizioso', 0.500668995896487),\n",
       " ('uomo', 0.5004768223410807),\n",
       " ('realizzatore', 0.5004085452975715),\n",
       " ('ideatore', 0.5004030978997479),\n",
       " ('araldo', 0.5004023759930273),\n",
       " ('inquisitore', 0.5004001443568952),\n",
       " ('visionario', 0.5003782674106908),\n",
       " ('spericolato', 0.5003767222774376),\n",
       " ('obiettivare', 0.5003602739884708),\n",
       " ('audace', 0.5003574806974939)]"
      ]
     },
     "metadata": {},
     "output_type": "display_data"
    },
    {
     "name": "stdout",
     "output_type": "stream",
     "text": [
      "Positive gender: female\n"
     ]
    },
    {
     "data": {
      "text/plain": [
       "[('ambizioso', 0.5004986554556142),\n",
       " ('donna', 0.5003916775014018),\n",
       " ('disoccupato', 0.5002653006950397),\n",
       " ('ragazza', 0.5002574316226883),\n",
       " ('traviata', 0.5002554802716741),\n",
       " ('lavoratrice', 0.5002547226720142),\n",
       " ('madre', 0.5002471943666444),\n",
       " ('diseredato', 0.5002468151571954),\n",
       " ('pravo', 0.5002457877251825),\n",
       " ('maschile', 0.5002449571227292)]"
      ]
     },
     "metadata": {},
     "output_type": "display_data"
    },
    {
     "name": "stdout",
     "output_type": "stream",
     "text": [
      "\n",
      "Word: saggio\n",
      "\n",
      "Positive gender: male\n"
     ]
    },
    {
     "data": {
      "text/plain": [
       "[('saggio', 0.5006407086994336),\n",
       " ('uomo', 0.5004690522608126),\n",
       " ('oculato', 0.5004151699101786),\n",
       " ('saggezza', 0.500398849346392),\n",
       " ('saggiare', 0.5003908335632001),\n",
       " ('lungimirante', 0.5003860157622263),\n",
       " ('sagace', 0.5003826810656429),\n",
       " ('preveggente', 0.5003761219408407),\n",
       " ('adamantino', 0.5003538810270516),\n",
       " ('intelligente', 0.5003537400315875)]"
      ]
     },
     "metadata": {},
     "output_type": "display_data"
    },
    {
     "name": "stdout",
     "output_type": "stream",
     "text": [
      "Positive gender: female\n"
     ]
    },
    {
     "data": {
      "text/plain": [
       "[('saggio', 0.5005269346995213),\n",
       " ('donna', 0.5004121814954103),\n",
       " ('disoccupato', 0.5002716132600364),\n",
       " ('lavoratrice', 0.5002685311200208),\n",
       " ('ragazza', 0.500265076097943),\n",
       " ('madre', 0.5002649803855453),\n",
       " ('avventurarci', 0.5002614996636924),\n",
       " ('giusto', 0.500246854213147),\n",
       " ('coniugato', 0.5002436268110554),\n",
       " ('lcro', 0.5002428231461102)]"
      ]
     },
     "metadata": {},
     "output_type": "display_data"
    },
    {
     "name": "stdout",
     "output_type": "stream",
     "text": [
      "\n",
      "Word: intelligente\n",
      "\n",
      "Positive gender: male\n"
     ]
    },
    {
     "data": {
      "text/plain": [
       "[('intelligente', 0.5006844411192348),\n",
       " ('uomo', 0.5005816357571263),\n",
       " ('sagace', 0.5004606794904273),\n",
       " ('preveggente', 0.5004554461621578),\n",
       " ('inquisitore', 0.500452794053605),\n",
       " ('integerrimo', 0.5004461496612003),\n",
       " ('ammiratore', 0.5004443921501132),\n",
       " ('arguto', 0.5004417630574339),\n",
       " ('abile', 0.5004399159922122),\n",
       " ('amicare', 0.5004333573659004)]"
      ]
     },
     "metadata": {},
     "output_type": "display_data"
    },
    {
     "name": "stdout",
     "output_type": "stream",
     "text": [
      "Positive gender: female\n"
     ]
    },
    {
     "data": {
      "text/plain": [
       "[('intelligente', 0.5004832164714882),\n",
       " ('donna', 0.5004810338957744),\n",
       " ('casalingo', 0.5003261691987989),\n",
       " ('lavoratrice', 0.5003208064143282),\n",
       " ('ragazza', 0.5003165306304982),\n",
       " ('risparmiatrici', 0.5003073572147586),\n",
       " ('traviata', 0.5003003560660408),\n",
       " ('parsimonioso', 0.5002968184527503),\n",
       " ('madre', 0.5002935376583318),\n",
       " ('volenteroso', 0.5002883016756142)]"
      ]
     },
     "metadata": {},
     "output_type": "display_data"
    }
   ],
   "source": [
    "show_top_biased_analogies(YEARS[0])"
   ]
  },
  {
   "cell_type": "markdown",
   "metadata": {},
   "source": [
    "### 2. INTERSECTION BETWEEN ECT AND ANALOGIES BIAS"
   ]
  },
  {
   "cell_type": "code",
   "execution_count": 113,
   "metadata": {},
   "outputs": [
    {
     "name": "stdout",
     "output_type": "stream",
     "text": [
      "YEAR: 1948_1968\n",
      "\n",
      "\n",
      "GROUP OF WORDS: adj_appearence\n",
      "TOP 3 BIASED WORDS:\n",
      "\n",
      "Word: carino\n",
      "\n",
      "Positive gender: male\n"
     ]
    },
    {
     "data": {
      "text/plain": [
       "[('carino', 0.5005172475390353),\n",
       " ('uomo', 0.5004332181520663),\n",
       " ('abilitA', 0.5003347327363333),\n",
       " ('Iiberth', 0.5003334800018048),\n",
       " ('araldo', 0.5003281758217286),\n",
       " ('Eiar', 0.5003205540286989),\n",
       " ('chiazzare', 0.5003178634411751),\n",
       " ('opt', 0.5003178626960983),\n",
       " ('potentissimo', 0.5003108863626589),\n",
       " ('bonini', 0.5003107381042139)]"
      ]
     },
     "metadata": {},
     "output_type": "display_data"
    },
    {
     "name": "stdout",
     "output_type": "stream",
     "text": [
      "Positive gender: female\n"
     ]
    },
    {
     "data": {
      "text/plain": [
       "[('carino', 0.500650398403555),\n",
       " ('donna', 0.5004997780664112),\n",
       " ('nutrice', 0.5003819799889268),\n",
       " ('lir', 0.5003759527275314),\n",
       " ('manganare', 0.5003670921004102),\n",
       " ('erie', 0.500366181472612),\n",
       " ('ragazza', 0.5003655861061836),\n",
       " ('lavoratrice', 0.5003513395646892),\n",
       " ('autocolonne', 0.5003489961904586),\n",
       " ('madre', 0.5003463264801459)]"
      ]
     },
     "metadata": {},
     "output_type": "display_data"
    },
    {
     "name": "stdout",
     "output_type": "stream",
     "text": [
      "GROUP OF WORDS: family\n",
      "TOP 3 BIASED WORDS:\n",
      "\n",
      "Word: accudire\n",
      "\n",
      "Positive gender: male\n"
     ]
    },
    {
     "data": {
      "text/plain": [
       "[('accudire', 0.5005116245376043),\n",
       " ('uomo', 0.5004874492007488),\n",
       " ('improvvisarsi', 0.5003179926762515),\n",
       " ('sgabuzzino', 0.5003068383096384),\n",
       " ('privarsi', 0.5003032029919254),\n",
       " ('Fornari', 0.5003002535526994),\n",
       " ('briciolo', 0.5002965100781595),\n",
       " ('andarne', 0.5002949800430493),\n",
       " ('affidarla', 0.5002926503066113),\n",
       " ('inquisitore', 0.5002921805381908)]"
      ]
     },
     "metadata": {},
     "output_type": "display_data"
    },
    {
     "name": "stdout",
     "output_type": "stream",
     "text": [
      "Positive gender: female\n"
     ]
    },
    {
     "data": {
      "text/plain": [
       "[('accudire', 0.5006560233404257),\n",
       " ('donna', 0.5005596399947568),\n",
       " ('ragazza', 0.5003873947075238),\n",
       " ('nubile', 0.5003854018005731),\n",
       " ('mondina', 0.500383594337271),\n",
       " ('bambino', 0.5003780187308046),\n",
       " ('corredo', 0.5003777524058454),\n",
       " ('casale', 0.5003770292933555),\n",
       " ('manganare', 0.5003681200825284),\n",
       " ('mondariso', 0.5003651936354415)]"
      ]
     },
     "metadata": {},
     "output_type": "display_data"
    },
    {
     "name": "stdout",
     "output_type": "stream",
     "text": [
      "\n",
      "Word: bambino\n",
      "\n",
      "Positive gender: male\n"
     ]
    },
    {
     "data": {
      "text/plain": [
       "[('uomo', 0.5005183553914099),\n",
       " ('bambino', 0.50040979221423),\n",
       " ('bimbo', 0.5003220405361335),\n",
       " ('giovinetto', 0.5003141451020724),\n",
       " ('ragazzo', 0.5003118680784726),\n",
       " ('ammalare', 0.5003062639074366),\n",
       " ('discepolo', 0.5003044226798969),\n",
       " ('educatore', 0.5003040167133231),\n",
       " ('inquisitore', 0.5003034072624657),\n",
       " ('autodidatta', 0.5003015307746821)]"
      ]
     },
     "metadata": {},
     "output_type": "display_data"
    },
    {
     "name": "stdout",
     "output_type": "stream",
     "text": [
      "Positive gender: female\n"
     ]
    },
    {
     "data": {
      "text/plain": [
       "[('bambino', 0.5007579060998402),\n",
       " ('donna', 0.5006924199961597),\n",
       " ('bimbo', 0.5005802452175939),\n",
       " ('madre', 0.5005624136085376),\n",
       " ('ragazza', 0.5005459657847132),\n",
       " ('ragazzo', 0.5005418138369022),\n",
       " ('fanciullo', 0.5005140424181048),\n",
       " ('ricoverato', 0.500497899349202),\n",
       " ('maschio', 0.5004978817341876),\n",
       " ('bambina', 0.5004868447411512)]"
      ]
     },
     "metadata": {},
     "output_type": "display_data"
    },
    {
     "name": "stdout",
     "output_type": "stream",
     "text": [
      "GROUP OF WORDS: career\n",
      "TOP 3 BIASED WORDS:\n",
      "\n",
      "Word: presidente\n",
      "\n",
      "Positive gender: male\n"
     ]
    },
    {
     "data": {
      "text/plain": [
       "[('presidente', 0.5006014449347848),\n",
       " ('vicepresidente', 0.5004870458285964),\n",
       " ('uomo', 0.5004679867241113),\n",
       " ('Bartoli', 0.5004027852769418),\n",
       " ('direttore', 0.5003879267124945),\n",
       " ('entourage', 0.5003865771838053),\n",
       " ('Avveduti', 0.5003861704328729),\n",
       " ('Daladier', 0.5003861280846503),\n",
       " ('amicare', 0.5003847847782277),\n",
       " ('Faure', 0.5003802950661705)]"
      ]
     },
     "metadata": {},
     "output_type": "display_data"
    },
    {
     "name": "stdout",
     "output_type": "stream",
     "text": [
      "Positive gender: female\n"
     ]
    },
    {
     "data": {
      "text/plain": [
       "[('presidente', 0.5005661927659079),\n",
       " ('donna', 0.5004503650193317),\n",
       " ('vicepresidente', 0.5004016846332033),\n",
       " ('presidenza', 0.5003173135259915),\n",
       " ('procuratore', 0.5003122498937973),\n",
       " ('consigliere', 0.5003116528688721),\n",
       " ('Presidenti', 0.5003040418303178),\n",
       " ('Consiglieri', 0.500301164927803),\n",
       " ('Federmezzadri', 0.5002990263640019),\n",
       " ('COmunali', 0.5002901463300075)]"
      ]
     },
     "metadata": {},
     "output_type": "display_data"
    },
    {
     "name": "stdout",
     "output_type": "stream",
     "text": [
      "GROUP OF WORDS: rage\n",
      "TOP 3 BIASED WORDS:\n",
      "\n",
      "Word: odioso\n",
      "\n",
      "Positive gender: male\n"
     ]
    },
    {
     "data": {
      "text/plain": [
       "[('odioso', 0.5005580638170942),\n",
       " ('uomo', 0.500467498694384),\n",
       " ('detestabile', 0.50037604237307),\n",
       " ('inquisitore', 0.5003710322787179),\n",
       " ('assolutismo', 0.5003700511191357),\n",
       " ('oppressione', 0.5003595851155217),\n",
       " ('arbitrio', 0.5003463303107283),\n",
       " ('astuto', 0.5003449549734454),\n",
       " ('araldo', 0.5003448067230304),\n",
       " ('sopraffazione', 0.5003409710669406)]"
      ]
     },
     "metadata": {},
     "output_type": "display_data"
    },
    {
     "name": "stdout",
     "output_type": "stream",
     "text": [
      "Positive gender: female\n"
     ]
    },
    {
     "data": {
      "text/plain": [
       "[('odioso', 0.500609574801658),\n",
       " ('donna', 0.5004932489186681),\n",
       " ('inumana', 0.500382115916733),\n",
       " ('vergognoso', 0.5003575487540883),\n",
       " ('iniquo', 0.5003559158382795),\n",
       " ('inumare', 0.5003447873181867),\n",
       " ('ragazza', 0.5003409259373668),\n",
       " ('ingiusto', 0.5003398569078541),\n",
       " ('illegale', 0.5003397508918636),\n",
       " ('discriminazione', 0.5003396217193761)]"
      ]
     },
     "metadata": {},
     "output_type": "display_data"
    },
    {
     "name": "stdout",
     "output_type": "stream",
     "text": [
      "\n",
      "Word: aggressivo\n",
      "\n",
      "Positive gender: male\n"
     ]
    },
    {
     "data": {
      "text/plain": [
       "[('aggressivo', 0.5006417629993806),\n",
       " ('uomo', 0.5004730323192162),\n",
       " ('imperialismo', 0.5004496294830919),\n",
       " ('guerrafondaio', 0.5004210865068768),\n",
       " ('inquisitore', 0.5004151804923466),\n",
       " ('imperialistico', 0.5004131662384261),\n",
       " ('araldo', 0.5004078140877154),\n",
       " ('aggressione', 0.5004013470216155),\n",
       " ('isolazionismo', 0.5003892012574277),\n",
       " ('revanscista', 0.5003757993020647)]"
      ]
     },
     "metadata": {},
     "output_type": "display_data"
    },
    {
     "name": "stdout",
     "output_type": "stream",
     "text": [
      "Positive gender: female\n"
     ]
    },
    {
     "data": {
      "text/plain": [
       "[('aggressivo', 0.5005258808496027),\n",
       " ('donna', 0.5004151073829824),\n",
       " ('revansciste', 0.5003417933342406),\n",
       " ('provocatorio', 0.5003336024523521),\n",
       " ('lavoratrice', 0.5003002450311624),\n",
       " ('bellicista', 0.500294410216855),\n",
       " ('soldataglia', 0.5002933747880798),\n",
       " ('bellicoso', 0.5002923175260314),\n",
       " ('rioccupare', 0.5002884094068719),\n",
       " ('munizione', 0.5002862765356302)]"
      ]
     },
     "metadata": {},
     "output_type": "display_data"
    },
    {
     "name": "stdout",
     "output_type": "stream",
     "text": [
      "GROUP OF WORDS: kindness\n",
      "TOP 3 BIASED WORDS:\n",
      "\n",
      "Word: bravo\n",
      "\n",
      "Positive gender: male\n"
     ]
    },
    {
     "data": {
      "text/plain": [
       "[('bravo', 0.5005997407771783),\n",
       " ('uomo', 0.5005138181315023),\n",
       " ('galantuomo', 0.5004280393789152),\n",
       " ('integerrimo', 0.5004082091308978),\n",
       " ('amicare', 0.5004053062634959),\n",
       " ('autodidatta', 0.5004029022007689),\n",
       " ('intelligente', 0.5003917231481954),\n",
       " ('ammiratore', 0.5003877982759585),\n",
       " ('inquisitore', 0.5003852634162788),\n",
       " ('bravissimo', 0.5003846184334855)]"
      ]
     },
     "metadata": {},
     "output_type": "display_data"
    },
    {
     "name": "stdout",
     "output_type": "stream",
     "text": [
      "Positive gender: female\n"
     ]
    },
    {
     "data": {
      "text/plain": [
       "[('bravo', 0.5005678969344457),\n",
       " ('donna', 0.5004978986770666),\n",
       " ('ragazza', 0.5004222463188326),\n",
       " ('giovane', 0.5003440379460824),\n",
       " ('giovanissime', 0.5003399610876467),\n",
       " ('mamma', 0.5003270656555828),\n",
       " ('figliola', 0.5003263895034264),\n",
       " ('disoccupato', 0.5003260914657695),\n",
       " ('povero', 0.5003258425197845),\n",
       " ('bambina', 0.5003243074944982)]"
      ]
     },
     "metadata": {},
     "output_type": "display_data"
    },
    {
     "name": "stdout",
     "output_type": "stream",
     "text": [
      "\n",
      "Word: premuroso\n",
      "\n",
      "Positive gender: male\n"
     ]
    },
    {
     "data": {
      "text/plain": [
       "[('premuroso', 0.5006563358713737),\n",
       " ('uomo', 0.500480434341283),\n",
       " ('longanimo', 0.5003977510251466),\n",
       " ('preveggente', 0.5003916127089989),\n",
       " ('adamantino', 0.5003879039592565),\n",
       " ('liberissimo', 0.5003773305725917),\n",
       " ('araldo', 0.5003761094848581),\n",
       " ('solerte', 0.500373752098742),\n",
       " ('meditativo', 0.5003707102726838),\n",
       " ('tutore', 0.5003687813121126)]"
      ]
     },
     "metadata": {},
     "output_type": "display_data"
    },
    {
     "name": "stdout",
     "output_type": "stream",
     "text": [
      "Positive gender: female\n"
     ]
    },
    {
     "data": {
      "text/plain": [
       "[('premuroso', 0.500511311779049),\n",
       " ('donna', 0.5004079424627532),\n",
       " ('lavoratrice', 0.5003265481813063),\n",
       " ('madre', 0.5003238204690355),\n",
       " ('amorevolmente', 0.500310897097623),\n",
       " ('figliola', 0.5003095098530792),\n",
       " ('disoccupato', 0.5003040042365253),\n",
       " ('traviata', 0.5003039161296723),\n",
       " ('nutrice', 0.5002950614332962),\n",
       " ('trepidare', 0.5002920844223312)]"
      ]
     },
     "metadata": {},
     "output_type": "display_data"
    },
    {
     "name": "stdout",
     "output_type": "stream",
     "text": [
      "GROUP OF WORDS: intelligence\n",
      "TOP 3 BIASED WORDS:\n",
      "\n",
      "Word: saggio\n",
      "\n",
      "Positive gender: male\n"
     ]
    },
    {
     "data": {
      "text/plain": [
       "[('saggio', 0.5006407086994336),\n",
       " ('uomo', 0.5004690522608126),\n",
       " ('oculato', 0.5004151699101786),\n",
       " ('saggezza', 0.500398849346392),\n",
       " ('saggiare', 0.5003908335632001),\n",
       " ('lungimirante', 0.5003860157622263),\n",
       " ('sagace', 0.5003826810656429),\n",
       " ('preveggente', 0.5003761219408407),\n",
       " ('adamantino', 0.5003538810270516),\n",
       " ('intelligente', 0.5003537400315875)]"
      ]
     },
     "metadata": {},
     "output_type": "display_data"
    },
    {
     "name": "stdout",
     "output_type": "stream",
     "text": [
      "Positive gender: female\n"
     ]
    },
    {
     "data": {
      "text/plain": [
       "[('saggio', 0.5005269346995213),\n",
       " ('donna', 0.5004121814954103),\n",
       " ('disoccupato', 0.5002716132600364),\n",
       " ('lavoratrice', 0.5002685311200208),\n",
       " ('ragazza', 0.500265076097943),\n",
       " ('madre', 0.5002649803855453),\n",
       " ('avventurarci', 0.5002614996636924),\n",
       " ('giusto', 0.500246854213147),\n",
       " ('coniugato', 0.5002436268110554),\n",
       " ('lcro', 0.5002428231461102)]"
      ]
     },
     "metadata": {},
     "output_type": "display_data"
    },
    {
     "name": "stdout",
     "output_type": "stream",
     "text": [
      "\n",
      "Word: intelligente\n",
      "\n",
      "Positive gender: male\n"
     ]
    },
    {
     "data": {
      "text/plain": [
       "[('intelligente', 0.5006844411192348),\n",
       " ('uomo', 0.5005816357571263),\n",
       " ('sagace', 0.5004606794904273),\n",
       " ('preveggente', 0.5004554461621578),\n",
       " ('inquisitore', 0.500452794053605),\n",
       " ('integerrimo', 0.5004461496612003),\n",
       " ('ammiratore', 0.5004443921501132),\n",
       " ('arguto', 0.5004417630574339),\n",
       " ('abile', 0.5004399159922122),\n",
       " ('amicare', 0.5004333573659004)]"
      ]
     },
     "metadata": {},
     "output_type": "display_data"
    },
    {
     "name": "stdout",
     "output_type": "stream",
     "text": [
      "Positive gender: female\n"
     ]
    },
    {
     "data": {
      "text/plain": [
       "[('intelligente', 0.5004832164714882),\n",
       " ('donna', 0.5004810338957744),\n",
       " ('casalingo', 0.5003261691987989),\n",
       " ('lavoratrice', 0.5003208064143282),\n",
       " ('ragazza', 0.5003165306304982),\n",
       " ('risparmiatrici', 0.5003073572147586),\n",
       " ('traviata', 0.5003003560660408),\n",
       " ('parsimonioso', 0.5002968184527503),\n",
       " ('madre', 0.5002935376583318),\n",
       " ('volenteroso', 0.5002883016756142)]"
      ]
     },
     "metadata": {},
     "output_type": "display_data"
    },
    {
     "name": "stdout",
     "output_type": "stream",
     "text": [
      "\n",
      "Word: studioso\n",
      "\n",
      "Positive gender: male\n"
     ]
    },
    {
     "data": {
      "text/plain": [
       "[('studioso', 0.5007003829565277),\n",
       " ('cultore', 0.5005727917177893),\n",
       " ('uomo', 0.5005714012584245),\n",
       " ('economista', 0.5005463891432779),\n",
       " ('giurista', 0.500544431040903),\n",
       " ('insignire', 0.500521997127533),\n",
       " ('conoscitore', 0.5005021191615052),\n",
       " ('illustre', 0.5005019956239205),\n",
       " ('statista', 0.5004944620983549),\n",
       " ('eminente', 0.5004913417550495)]"
      ]
     },
     "metadata": {},
     "output_type": "display_data"
    },
    {
     "name": "stdout",
     "output_type": "stream",
     "text": [
      "Positive gender: female\n"
     ]
    },
    {
     "data": {
      "text/plain": [
       "[('studioso', 0.5004672814091364),\n",
       " ('donna', 0.5004548668407515),\n",
       " ('esperto', 0.5003215573254709),\n",
       " ('disoccupato', 0.5003126975573576),\n",
       " ('tisiologi', 0.5003014543073938),\n",
       " ('madre', 0.5003012223773657),\n",
       " ('sociologo', 0.5003001347546158),\n",
       " ('Atenei', 0.5002993301383908),\n",
       " ('scrittorio', 0.5002902349273984),\n",
       " ('immigrato', 0.5002895443737677)]"
      ]
     },
     "metadata": {},
     "output_type": "display_data"
    },
    {
     "name": "stdout",
     "output_type": "stream",
     "text": [
      "GROUP OF WORDS: dumbness\n",
      "TOP 3 BIASED WORDS:\n",
      "\n",
      "Word: isterico\n",
      "\n",
      "Positive gender: male\n"
     ]
    },
    {
     "data": {
      "text/plain": [
       "[('isterico', 0.500642988622214),\n",
       " ('uomo', 0.5005395391849081),\n",
       " ('inquisitore', 0.5004641985009595),\n",
       " ('araldo', 0.5004409010211791),\n",
       " ('apoteosi', 0.5004336008210122),\n",
       " ('esagitare', 0.5004223632925278),\n",
       " ('mordace', 0.5004151946094435),\n",
       " ('socialistoide', 0.5004099114131231),\n",
       " ('evocazione', 0.5004059046092109),\n",
       " ('anticonformismo', 0.5004051505688097)]"
      ]
     },
     "metadata": {},
     "output_type": "display_data"
    },
    {
     "name": "stdout",
     "output_type": "stream",
     "text": [
      "Positive gender: female\n"
     ]
    },
    {
     "data": {
      "text/plain": [
       "[('isterico', 0.5005246556430152),\n",
       " ('donna', 0.500480381406215),\n",
       " ('imprecazione', 0.5003185911104432),\n",
       " ('schiamazzo', 0.5003182525939117),\n",
       " ('madre', 0.5003170914191233),\n",
       " ('ragazza', 0.5003146835104479),\n",
       " ('antireligioso', 0.5003137684927952),\n",
       " ('coniugato', 0.5003130391981002),\n",
       " ('lepre', 0.5003114790405014),\n",
       " ('mormorazioni', 0.5003083170986564)]"
      ]
     },
     "metadata": {},
     "output_type": "display_data"
    },
    {
     "name": "stdout",
     "output_type": "stream",
     "text": [
      "\n",
      "Word: superficiale\n",
      "\n",
      "Positive gender: male\n"
     ]
    },
    {
     "data": {
      "text/plain": [
       "[('superficiale', 0.5006072110204424),\n",
       " ('uomo', 0.5004621119306019),\n",
       " ('inquisitore', 0.5003794333876119),\n",
       " ('lapsus', 0.5003624049930401),\n",
       " ('concettualismo', 0.5003612633748842),\n",
       " ('addentrandosi', 0.5003563910191736),\n",
       " ('pedantesco', 0.5003531832288899),\n",
       " ('frettoloso', 0.5003509054063264),\n",
       " ('erudizione', 0.5003484571073182),\n",
       " ('osservatore', 0.5003470714683407)]"
      ]
     },
     "metadata": {},
     "output_type": "display_data"
    },
    {
     "name": "stdout",
     "output_type": "stream",
     "text": [
      "Positive gender: female\n"
     ]
    },
    {
     "data": {
      "text/plain": [
       "[('superficiale', 0.5005604270594063),\n",
       " ('donna', 0.5004387261746781),\n",
       " ('sommario', 0.5002984062610771),\n",
       " ('traviata', 0.5002888990854596),\n",
       " ('ragazza', 0.5002765702644314),\n",
       " ('parziale', 0.5002739808177075),\n",
       " ('semplicistico', 0.5002728910549196),\n",
       " ('irregolare', 0.500272344292561),\n",
       " ('puerpera', 0.5002713140678309),\n",
       " ('madre', 0.5002698289818501)]"
      ]
     },
     "metadata": {},
     "output_type": "display_data"
    },
    {
     "name": "stdout",
     "output_type": "stream",
     "text": [
      "\n",
      "Word: stupido\n",
      "\n",
      "Positive gender: male\n"
     ]
    },
    {
     "data": {
      "text/plain": [
       "[('stupido', 0.5005701188454548),\n",
       " ('uomo', 0.5004915197065448),\n",
       " ('inquisitore', 0.5004475784917177),\n",
       " ('araldo', 0.5004225634362758),\n",
       " ('impennata', 0.5004208897028694),\n",
       " ('machiavellismo', 0.5004180077725559),\n",
       " ('antisovietiche', 0.500417324763499),\n",
       " ('guerrafondaio', 0.500408692847663),\n",
       " ('astuto', 0.5004086197335689),\n",
       " ('spavalderia', 0.5004082393016399)]"
      ]
     },
     "metadata": {},
     "output_type": "display_data"
    },
    {
     "name": "stdout",
     "output_type": "stream",
     "text": [
      "Positive gender: female\n"
     ]
    },
    {
     "data": {
      "text/plain": [
       "[('stupido', 0.5005975187663152),\n",
       " ('donna', 0.5005052173543646),\n",
       " ('spudorato', 0.500356471734286),\n",
       " ('ragazza', 0.5003564029190496),\n",
       " ('atrocemente', 0.5003421031594708),\n",
       " ('bestiola', 0.5003336356246492),\n",
       " ('traviata', 0.5003333763224987),\n",
       " ('beffa', 0.5003304392453899),\n",
       " ('crudelta', 0.5003286749559412),\n",
       " ('anticomuniste', 0.5003277312820871)]"
      ]
     },
     "metadata": {},
     "output_type": "display_data"
    },
    {
     "name": "stdout",
     "output_type": "stream",
     "text": [
      "GROUP OF WORDS: active\n",
      "TOP 3 BIASED WORDS:\n",
      "\n",
      "Word: ambizioso\n",
      "\n",
      "Positive gender: male\n"
     ]
    },
    {
     "data": {
      "text/plain": [
       "[('ambizioso', 0.500668995896487),\n",
       " ('uomo', 0.5004768223410807),\n",
       " ('realizzatore', 0.5004085452975715),\n",
       " ('ideatore', 0.5004030978997479),\n",
       " ('araldo', 0.5004023759930273),\n",
       " ('inquisitore', 0.5004001443568952),\n",
       " ('visionario', 0.5003782674106908),\n",
       " ('spericolato', 0.5003767222774376),\n",
       " ('obiettivare', 0.5003602739884708),\n",
       " ('audace', 0.5003574806974939)]"
      ]
     },
     "metadata": {},
     "output_type": "display_data"
    },
    {
     "name": "stdout",
     "output_type": "stream",
     "text": [
      "Positive gender: female\n"
     ]
    },
    {
     "data": {
      "text/plain": [
       "[('ambizioso', 0.5004986554556142),\n",
       " ('donna', 0.5003916775014018),\n",
       " ('disoccupato', 0.5002653006950397),\n",
       " ('ragazza', 0.5002574316226883),\n",
       " ('traviata', 0.5002554802716741),\n",
       " ('lavoratrice', 0.5002547226720142),\n",
       " ('madre', 0.5002471943666444),\n",
       " ('diseredato', 0.5002468151571954),\n",
       " ('pravo', 0.5002457877251825),\n",
       " ('maschile', 0.5002449571227292)]"
      ]
     },
     "metadata": {},
     "output_type": "display_data"
    },
    {
     "name": "stdout",
     "output_type": "stream",
     "text": [
      "\n",
      "Word: sicuro\n",
      "\n",
      "Positive gender: male\n"
     ]
    },
    {
     "data": {
      "text/plain": [
       "[('sicuro', 0.5006572364565935),\n",
       " ('uomo', 0.5005178757737866),\n",
       " ('preveggente', 0.500371214775292),\n",
       " ('viatico', 0.5003691034305475),\n",
       " ('certezza', 0.5003677064192043),\n",
       " ('ammiratore', 0.5003639272257526),\n",
       " ('annientarli', 0.5003615773834826),\n",
       " ('mallevadore', 0.5003586946466392),\n",
       " ('araldo', 0.500357459541301),\n",
       " ('sicuramente', 0.5003569254682628)]"
      ]
     },
     "metadata": {},
     "output_type": "display_data"
    },
    {
     "name": "stdout",
     "output_type": "stream",
     "text": [
      "Positive gender: female\n"
     ]
    },
    {
     "data": {
      "text/plain": [
       "[('sicuro', 0.5005104115473851),\n",
       " ('donna', 0.5004444783081684),\n",
       " ('tranquillo', 0.5003200368777324),\n",
       " ('lavoratrice', 0.5003165043966774),\n",
       " ('lavoratore', 0.5002785405148107),\n",
       " ('riprendervi', 0.5002756028055836),\n",
       " ('disoccupato', 0.5002749355299448),\n",
       " ('tranquillare', 0.5002708936645814),\n",
       " ('ragazza', 0.5002701029026255),\n",
       " ('lcro', 0.5002692686375747)]"
      ]
     },
     "metadata": {},
     "output_type": "display_data"
    },
    {
     "name": "stdout",
     "output_type": "stream",
     "text": [
      "\n",
      "Word: forte\n",
      "\n",
      "Positive gender: male\n"
     ]
    },
    {
     "data": {
      "text/plain": [
       "[('forte', 0.5006247289502046),\n",
       " ('uomo', 0.5004590343911995),\n",
       " ('sensibile', 0.5003747431269021),\n",
       " ('preveggente', 0.5003584522837946),\n",
       " ('agguerrire', 0.5003551168921747),\n",
       " ('debole', 0.5003427365333857),\n",
       " ('popolaresco', 0.5003367622357467),\n",
       " ('liberissimo', 0.5003345222314993),\n",
       " ('fortissimo', 0.5003336474859867),\n",
       " ('araldo', 0.5003329059170047)]"
      ]
     },
     "metadata": {},
     "output_type": "display_data"
    },
    {
     "name": "stdout",
     "output_type": "stream",
     "text": [
      "Positive gender: female\n"
     ]
    },
    {
     "data": {
      "text/plain": [
       "[('forte', 0.5005429113906359),\n",
       " ('donna', 0.5004181374423432),\n",
       " ('fortissima', 0.5003830692996676),\n",
       " ('massiccio', 0.5003455693091043),\n",
       " ('lavoratrice', 0.5003318940265021),\n",
       " ('disoccupato', 0.5003172282542839),\n",
       " ('cospicuo', 0.5003150395087551),\n",
       " ('inoccupata', 0.5003131862654956),\n",
       " ('notevole', 0.5003089658864938),\n",
       " ('lavoratore', 0.5002967890953682)]"
      ]
     },
     "metadata": {},
     "output_type": "display_data"
    },
    {
     "name": "stdout",
     "output_type": "stream",
     "text": [
      "GROUP OF WORDS: passive\n",
      "TOP 3 BIASED WORDS:\n",
      "\n",
      "Word: debole\n",
      "\n",
      "Positive gender: male\n"
     ]
    },
    {
     "data": {
      "text/plain": [
       "[('debole', 0.5006308956164826),\n",
       " ('uomo', 0.5004835000097568),\n",
       " ('fragile', 0.500413830632814),\n",
       " ('araldo', 0.5003696375844765),\n",
       " ('longanimo', 0.5003612536532719),\n",
       " ('realizzatore', 0.5003605672949465),\n",
       " ('illanguidire', 0.5003556331129593),\n",
       " ('agguerrire', 0.5003526960254493),\n",
       " ('spericolare', 0.5003516535439646),\n",
       " ('anticonformismo', 0.5003427309262415)]"
      ]
     },
     "metadata": {},
     "output_type": "display_data"
    },
    {
     "name": "stdout",
     "output_type": "stream",
     "text": [
      "Positive gender: female\n"
     ]
    },
    {
     "data": {
      "text/plain": [
       "[('debole', 0.5005367458936598),\n",
       " ('donna', 0.5004364367682136),\n",
       " ('povero', 0.5003552152383004),\n",
       " ('bisognoso', 0.5003531960008427),\n",
       " ('lavoratrice', 0.500351223216613),\n",
       " ('misero', 0.5003343312528072),\n",
       " ('vulnerabile', 0.5003280798025399),\n",
       " ('diseredato', 0.500326109233895),\n",
       " ('lavoratore', 0.5003250192008702),\n",
       " ('gracile', 0.50031822105794)]"
      ]
     },
     "metadata": {},
     "output_type": "display_data"
    },
    {
     "name": "stdout",
     "output_type": "stream",
     "text": [
      "GROUP OF WORDS: gendered_words\n",
      "TOP 3 BIASED WORDS:\n",
      "\n",
      "Word: maschile\n",
      "\n",
      "Positive gender: male\n"
     ]
    },
    {
     "data": {
      "text/plain": [
       "[('maschile', 0.5004190772915422),\n",
       " ('uomo', 0.5004113337530798),\n",
       " ('inquisitore', 0.5003112772178252),\n",
       " ('abilitA', 0.5002868551121654),\n",
       " ('apprendimento', 0.500283966413822),\n",
       " ('anticipatore', 0.5002733341913982),\n",
       " ('umanesimo', 0.5002703791379121),\n",
       " ('autodidatta', 0.5002696981217084),\n",
       " ('filosofare', 0.5002694360568658),\n",
       " ('scolaretto', 0.500268952689108)]"
      ]
     },
     "metadata": {},
     "output_type": "display_data"
    },
    {
     "name": "stdout",
     "output_type": "stream",
     "text": [
      "Positive gender: female\n"
     ]
    },
    {
     "data": {
      "text/plain": [
       "[('maschile', 0.5007486141605209),\n",
       " ('femminile', 0.5005997679129511),\n",
       " ('donna', 0.5005760726837439),\n",
       " ('disoccupato', 0.5004425544692158),\n",
       " ('maschio', 0.5004254923345116),\n",
       " ('semianalfabeta', 0.5004204227965854),\n",
       " ('ragazza', 0.5004083670501491),\n",
       " ('apprendiste', 0.5004009891201642),\n",
       " ('femmina', 0.5003973809736981),\n",
       " ('lavoratrice', 0.5003969269506477)]"
      ]
     },
     "metadata": {},
     "output_type": "display_data"
    },
    {
     "name": "stdout",
     "output_type": "stream",
     "text": [
      "\n",
      "Word: ragazza\n",
      "\n",
      "Positive gender: male\n"
     ]
    },
    {
     "data": {
      "text/plain": [
       "[('uomo', 0.500483500942589),\n",
       " ('ragazza', 0.5003700827289805),\n",
       " ('scrittore', 0.5003375906316029),\n",
       " ('operetta', 0.5003185969952718),\n",
       " ('autodidatta', 0.5003169561186364),\n",
       " ('inquisitore', 0.5003165642859737),\n",
       " ('abilitA', 0.5003019470683392),\n",
       " ('hobby', 0.5003013345876746),\n",
       " ('galantuomo', 0.5003000915061401),\n",
       " ('saggista', 0.5002968119201876)]"
      ]
     },
     "metadata": {},
     "output_type": "display_data"
    },
    {
     "name": "stdout",
     "output_type": "stream",
     "text": [
      "Positive gender: female\n"
     ]
    },
    {
     "data": {
      "text/plain": [
       "[('ragazza', 0.5007976462977114),\n",
       " ('donna', 0.5006972857470493),\n",
       " ('bambina', 0.5005187437747085),\n",
       " ('bambino', 0.5005062455816286),\n",
       " ('madre', 0.5004891059625457),\n",
       " ('studentessa', 0.5004803422901787),\n",
       " ('mamma', 0.5004651260490124),\n",
       " ('ragazzo', 0.5004526237115878),\n",
       " ('giovanissime', 0.5004486865968707),\n",
       " ('maschio', 0.5004445730924681)]"
      ]
     },
     "metadata": {},
     "output_type": "display_data"
    },
    {
     "name": "stdout",
     "output_type": "stream",
     "text": [
      "\n",
      "Word: femminile\n",
      "\n",
      "Positive gender: male\n"
     ]
    },
    {
     "data": {
      "text/plain": [
       "[('uomo', 0.5004626324642197),\n",
       " ('femminile', 0.500408237483722),\n",
       " ('inquisitore', 0.5003247325380442),\n",
       " ('umanesimo', 0.5003125148747973),\n",
       " ('eminentissima', 0.5002980087881582),\n",
       " ('educatore', 0.500297246888738),\n",
       " ('abilitA', 0.5002957421276484),\n",
       " ('anticipatore', 0.5002894608795262),\n",
       " ('positivistica', 0.5002824653973673),\n",
       " ('insegnamento', 0.5002824415427707)]"
      ]
     },
     "metadata": {},
     "output_type": "display_data"
    },
    {
     "name": "stdout",
     "output_type": "stream",
     "text": [
      "Positive gender: female\n"
     ]
    },
    {
     "data": {
      "text/plain": [
       "[('femminile', 0.5007594615685069),\n",
       " ('donna', 0.5006382329430188),\n",
       " ('maschile', 0.5005889239603996),\n",
       " ('lavoratrice', 0.500427870143915),\n",
       " ('disoccupato', 0.5004135634849699),\n",
       " ('ragazza', 0.5004092263151566),\n",
       " ('bracciantile', 0.5004043563393589),\n",
       " ('apprendiste', 0.5003956280367954),\n",
       " ('maschio', 0.5003911187937926),\n",
       " ('coniugato', 0.5003892638707353)]"
      ]
     },
     "metadata": {},
     "output_type": "display_data"
    },
    {
     "name": "stdout",
     "output_type": "stream",
     "text": [
      "GROUP OF WORDS: female_stereotypes\n",
      "TOP 3 BIASED WORDS:\n",
      "\n",
      "Word: isterico\n",
      "\n",
      "Positive gender: male\n"
     ]
    },
    {
     "data": {
      "text/plain": [
       "[('isterico', 0.500642988622214),\n",
       " ('uomo', 0.5005395391849081),\n",
       " ('inquisitore', 0.5004641985009595),\n",
       " ('araldo', 0.5004409010211791),\n",
       " ('apoteosi', 0.5004336008210122),\n",
       " ('esagitare', 0.5004223632925278),\n",
       " ('mordace', 0.5004151946094435),\n",
       " ('socialistoide', 0.5004099114131231),\n",
       " ('evocazione', 0.5004059046092109),\n",
       " ('anticonformismo', 0.5004051505688097)]"
      ]
     },
     "metadata": {},
     "output_type": "display_data"
    },
    {
     "name": "stdout",
     "output_type": "stream",
     "text": [
      "Positive gender: female\n"
     ]
    },
    {
     "data": {
      "text/plain": [
       "[('isterico', 0.5005246556430152),\n",
       " ('donna', 0.500480381406215),\n",
       " ('imprecazione', 0.5003185911104432),\n",
       " ('schiamazzo', 0.5003182525939117),\n",
       " ('madre', 0.5003170914191233),\n",
       " ('ragazza', 0.5003146835104479),\n",
       " ('antireligioso', 0.5003137684927952),\n",
       " ('coniugato', 0.5003130391981002),\n",
       " ('lepre', 0.5003114790405014),\n",
       " ('mormorazioni', 0.5003083170986564)]"
      ]
     },
     "metadata": {},
     "output_type": "display_data"
    },
    {
     "name": "stdout",
     "output_type": "stream",
     "text": [
      "GROUP OF WORDS: male_stereotypes\n",
      "TOP 3 BIASED WORDS:\n",
      "\n",
      "Word: saggio\n",
      "\n",
      "Positive gender: male\n"
     ]
    },
    {
     "data": {
      "text/plain": [
       "[('saggio', 0.5006407086994336),\n",
       " ('uomo', 0.5004690522608126),\n",
       " ('oculato', 0.5004151699101786),\n",
       " ('saggezza', 0.500398849346392),\n",
       " ('saggiare', 0.5003908335632001),\n",
       " ('lungimirante', 0.5003860157622263),\n",
       " ('sagace', 0.5003826810656429),\n",
       " ('preveggente', 0.5003761219408407),\n",
       " ('adamantino', 0.5003538810270516),\n",
       " ('intelligente', 0.5003537400315875)]"
      ]
     },
     "metadata": {},
     "output_type": "display_data"
    },
    {
     "name": "stdout",
     "output_type": "stream",
     "text": [
      "Positive gender: female\n"
     ]
    },
    {
     "data": {
      "text/plain": [
       "[('saggio', 0.5005269346995213),\n",
       " ('donna', 0.5004121814954103),\n",
       " ('disoccupato', 0.5002716132600364),\n",
       " ('lavoratrice', 0.5002685311200208),\n",
       " ('ragazza', 0.500265076097943),\n",
       " ('madre', 0.5002649803855453),\n",
       " ('avventurarci', 0.5002614996636924),\n",
       " ('giusto', 0.500246854213147),\n",
       " ('coniugato', 0.5002436268110554),\n",
       " ('lcro', 0.5002428231461102)]"
      ]
     },
     "metadata": {},
     "output_type": "display_data"
    },
    {
     "name": "stdout",
     "output_type": "stream",
     "text": [
      "\n",
      "Word: intelligente\n",
      "\n",
      "Positive gender: male\n"
     ]
    },
    {
     "data": {
      "text/plain": [
       "[('intelligente', 0.5006844411192348),\n",
       " ('uomo', 0.5005816357571263),\n",
       " ('sagace', 0.5004606794904273),\n",
       " ('preveggente', 0.5004554461621578),\n",
       " ('inquisitore', 0.500452794053605),\n",
       " ('integerrimo', 0.5004461496612003),\n",
       " ('ammiratore', 0.5004443921501132),\n",
       " ('arguto', 0.5004417630574339),\n",
       " ('abile', 0.5004399159922122),\n",
       " ('amicare', 0.5004333573659004)]"
      ]
     },
     "metadata": {},
     "output_type": "display_data"
    },
    {
     "name": "stdout",
     "output_type": "stream",
     "text": [
      "Positive gender: female\n"
     ]
    },
    {
     "data": {
      "text/plain": [
       "[('intelligente', 0.5004832164714882),\n",
       " ('donna', 0.5004810338957744),\n",
       " ('casalingo', 0.5003261691987989),\n",
       " ('lavoratrice', 0.5003208064143282),\n",
       " ('ragazza', 0.5003165306304982),\n",
       " ('risparmiatrici', 0.5003073572147586),\n",
       " ('traviata', 0.5003003560660408),\n",
       " ('parsimonioso', 0.5002968184527503),\n",
       " ('madre', 0.5002935376583318),\n",
       " ('volenteroso', 0.5002883016756142)]"
      ]
     },
     "metadata": {},
     "output_type": "display_data"
    }
   ],
   "source": [
    "show_top_biased_analogies(YEARS[0], intersection=True)"
   ]
  },
  {
   "cell_type": "code",
   "execution_count": null,
   "metadata": {},
   "outputs": [],
   "source": []
  }
 ],
 "metadata": {
  "kernelspec": {
   "display_name": "Python 3",
   "language": "python",
   "name": "python3"
  },
  "language_info": {
   "codemirror_mode": {
    "name": "ipython",
    "version": 3
   },
   "file_extension": ".py",
   "mimetype": "text/x-python",
   "name": "python",
   "nbconvert_exporter": "python",
   "pygments_lexer": "ipython3",
   "version": "3.8.5"
  }
 },
 "nbformat": 4,
 "nbformat_minor": 4
}
